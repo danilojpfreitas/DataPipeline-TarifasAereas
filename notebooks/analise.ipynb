{
 "cells": [
  {
   "cell_type": "code",
   "execution_count": 1,
   "id": "5031c221",
   "metadata": {},
   "outputs": [
    {
     "name": "stdout",
     "output_type": "stream",
     "text": [
      "Collecting pyspark\n",
      "  Using cached pyspark-3.4.0-py2.py3-none-any.whl\n",
      "Collecting py4j==0.10.9.7\n",
      "  Using cached py4j-0.10.9.7-py2.py3-none-any.whl (200 kB)\n",
      "Installing collected packages: py4j, pyspark\n",
      "Successfully installed py4j-0.10.9.7 pyspark-3.4.0\n",
      "\n",
      "\u001b[1m[\u001b[0m\u001b[34;49mnotice\u001b[0m\u001b[1;39;49m]\u001b[0m\u001b[39;49m A new release of pip is available: \u001b[0m\u001b[31;49m23.0.1\u001b[0m\u001b[39;49m -> \u001b[0m\u001b[32;49m23.1.2\u001b[0m\n",
      "\u001b[1m[\u001b[0m\u001b[34;49mnotice\u001b[0m\u001b[1;39;49m]\u001b[0m\u001b[39;49m To update, run: \u001b[0m\u001b[32;49mpip install --upgrade pip\u001b[0m\n",
      "Collecting findspark\n",
      "  Using cached findspark-2.0.1-py2.py3-none-any.whl (4.4 kB)\n",
      "Installing collected packages: findspark\n",
      "Successfully installed findspark-2.0.1\n",
      "\n",
      "\u001b[1m[\u001b[0m\u001b[34;49mnotice\u001b[0m\u001b[1;39;49m]\u001b[0m\u001b[39;49m A new release of pip is available: \u001b[0m\u001b[31;49m23.0.1\u001b[0m\u001b[39;49m -> \u001b[0m\u001b[32;49m23.1.2\u001b[0m\n",
      "\u001b[1m[\u001b[0m\u001b[34;49mnotice\u001b[0m\u001b[1;39;49m]\u001b[0m\u001b[39;49m To update, run: \u001b[0m\u001b[32;49mpip install --upgrade pip\u001b[0m\n",
      "Collecting pandas\n",
      "  Using cached pandas-2.0.2-cp311-cp311-manylinux_2_17_x86_64.manylinux2014_x86_64.whl (12.2 MB)\n",
      "Requirement already satisfied: python-dateutil>=2.8.2 in /home/gitpod/.pyenv/versions/3.11.1/lib/python3.11/site-packages (from pandas) (2.8.2)\n",
      "Collecting pytz>=2020.1\n",
      "  Using cached pytz-2023.3-py2.py3-none-any.whl (502 kB)\n",
      "Collecting tzdata>=2022.1\n",
      "  Using cached tzdata-2023.3-py2.py3-none-any.whl (341 kB)\n",
      "Collecting numpy>=1.21.0\n",
      "  Using cached numpy-1.24.3-cp311-cp311-manylinux_2_17_x86_64.manylinux2014_x86_64.whl (17.3 MB)\n",
      "Requirement already satisfied: six>=1.5 in /home/gitpod/.pyenv/versions/3.11.1/lib/python3.11/site-packages (from python-dateutil>=2.8.2->pandas) (1.16.0)\n",
      "Installing collected packages: pytz, tzdata, numpy, pandas\n",
      "Successfully installed numpy-1.24.3 pandas-2.0.2 pytz-2023.3 tzdata-2023.3\n",
      "\n",
      "\u001b[1m[\u001b[0m\u001b[34;49mnotice\u001b[0m\u001b[1;39;49m]\u001b[0m\u001b[39;49m A new release of pip is available: \u001b[0m\u001b[31;49m23.0.1\u001b[0m\u001b[39;49m -> \u001b[0m\u001b[32;49m23.1.2\u001b[0m\n",
      "\u001b[1m[\u001b[0m\u001b[34;49mnotice\u001b[0m\u001b[1;39;49m]\u001b[0m\u001b[39;49m To update, run: \u001b[0m\u001b[32;49mpip install --upgrade pip\u001b[0m\n"
     ]
    }
   ],
   "source": [
    "!pip install pyspark\n",
    "!pip install findspark\n",
    "!pip install pandas "
   ]
  },
  {
   "cell_type": "code",
   "execution_count": 6,
   "id": "0d980ab1",
   "metadata": {},
   "outputs": [],
   "source": [
    "import pandas as pd\n",
    "import findspark\n",
    "findspark.init()"
   ]
  },
  {
   "cell_type": "code",
   "execution_count": 7,
   "id": "bcb257d8",
   "metadata": {},
   "outputs": [],
   "source": [
    "from pyspark.sql import SparkSession"
   ]
  },
  {
   "cell_type": "code",
   "execution_count": 9,
   "id": "f12e369c",
   "metadata": {},
   "outputs": [
    {
     "name": "stderr",
     "output_type": "stream",
     "text": [
      "Picked up JAVA_TOOL_OPTIONS:  -Xmx3489m\n",
      "Picked up JAVA_TOOL_OPTIONS:  -Xmx3489m\n",
      "23/06/09 17:33:52 WARN Utils: Your hostname, danilojpfre-datapipelin-l73mhae6vt9 resolves to a loopback address: 127.0.0.1; using 10.0.5.2 instead (on interface eth0)\n",
      "23/06/09 17:33:52 WARN Utils: Set SPARK_LOCAL_IP if you need to bind to another address\n",
      "Setting default log level to \"WARN\".\n",
      "To adjust logging level use sc.setLogLevel(newLevel). For SparkR, use setLogLevel(newLevel).\n",
      "23/06/09 17:33:52 WARN NativeCodeLoader: Unable to load native-hadoop library for your platform... using builtin-java classes where applicable\n"
     ]
    }
   ],
   "source": [
    "spark = SparkSession.builder.master('local[*]').getOrCreate()"
   ]
  },
  {
   "cell_type": "code",
   "execution_count": 10,
   "id": "71c206d1",
   "metadata": {},
   "outputs": [
    {
     "data": {
      "text/html": [
       "\n",
       "            <div>\n",
       "                <p><b>SparkSession - in-memory</b></p>\n",
       "                \n",
       "        <div>\n",
       "            <p><b>SparkContext</b></p>\n",
       "\n",
       "            <p><a href=\"http://10.0.5.2:4040\">Spark UI</a></p>\n",
       "\n",
       "            <dl>\n",
       "              <dt>Version</dt>\n",
       "                <dd><code>v3.4.0</code></dd>\n",
       "              <dt>Master</dt>\n",
       "                <dd><code>local[*]</code></dd>\n",
       "              <dt>AppName</dt>\n",
       "                <dd><code>pyspark-shell</code></dd>\n",
       "            </dl>\n",
       "        </div>\n",
       "        \n",
       "            </div>\n",
       "        "
      ],
      "text/plain": [
       "<pyspark.sql.session.SparkSession at 0x7fc9d8efbcd0>"
      ]
     },
     "execution_count": 10,
     "metadata": {},
     "output_type": "execute_result"
    }
   ],
   "source": [
    "spark"
   ]
  },
  {
   "cell_type": "markdown",
   "id": "71b93ac7",
   "metadata": {},
   "source": [
    "# Carregamendo dos Dados"
   ]
  },
  {
   "cell_type": "markdown",
   "id": "5f5792af",
   "metadata": {},
   "source": [
    "## Distância entre Maceió e outras capitais"
   ]
  },
  {
   "cell_type": "code",
   "execution_count": 6,
   "id": "a8f80562",
   "metadata": {},
   "outputs": [],
   "source": [
    "distPath = '/workspace/DataPipeline-TarifasAereas/datalake/landing/maceioDistCapitals.json'"
   ]
  },
  {
   "cell_type": "code",
   "execution_count": 7,
   "id": "9b3e44eb",
   "metadata": {},
   "outputs": [],
   "source": [
    "sc = spark.sparkContext"
   ]
  },
  {
   "cell_type": "code",
   "execution_count": 10,
   "id": "04f489a0",
   "metadata": {},
   "outputs": [
    {
     "name": "stderr",
     "output_type": "stream",
     "text": [
      "                                                                                \r"
     ]
    },
    {
     "data": {
      "text/plain": [
       "78"
      ]
     },
     "execution_count": 10,
     "metadata": {},
     "output_type": "execute_result"
    }
   ],
   "source": [
    "dist.count()"
   ]
  },
  {
   "cell_type": "code",
   "execution_count": 11,
   "id": "a308af4d",
   "metadata": {},
   "outputs": [
    {
     "name": "stdout",
     "output_type": "stream",
     "text": [
      "+---------------+\n",
      "|_corrupt_record|\n",
      "+---------------+\n",
      "|              /|\n",
      "|              w|\n",
      "|              o|\n",
      "|              r|\n",
      "|              k|\n",
      "|              s|\n",
      "|              p|\n",
      "|              a|\n",
      "|              c|\n",
      "|              e|\n",
      "|              /|\n",
      "|              D|\n",
      "|              a|\n",
      "|              t|\n",
      "|              a|\n",
      "|              P|\n",
      "|              i|\n",
      "|              p|\n",
      "|              e|\n",
      "|              l|\n",
      "+---------------+\n",
      "only showing top 20 rows\n",
      "\n"
     ]
    },
    {
     "name": "stderr",
     "output_type": "stream",
     "text": [
      "\r",
      "[Stage 5:============================================>              (3 + 1) / 4]\r",
      "\r",
      "                                                                                \r"
     ]
    }
   ],
   "source": [
    "dist.show()"
   ]
  },
  {
   "cell_type": "markdown",
   "id": "52f8ad76",
   "metadata": {},
   "source": [
    "## Preço por ano das passagens"
   ]
  },
  {
   "cell_type": "markdown",
   "id": "9885c585",
   "metadata": {},
   "source": [
    "### Carregamento dos dados"
   ]
  },
  {
   "cell_type": "code",
   "execution_count": 11,
   "id": "058f85e4",
   "metadata": {},
   "outputs": [],
   "source": [
    "price2019Path = \"../data/price2019/*.CSV\"\n",
    "price2020Path = \"../data/price2020/*.CSV\"\n",
    "price2021Path = \"../data/price2021/*.CSV\"\n",
    "price2022Path = \"../data/price2022/*.CSV\""
   ]
  },
  {
   "cell_type": "code",
   "execution_count": 12,
   "id": "9852e7a3",
   "metadata": {},
   "outputs": [
    {
     "name": "stderr",
     "output_type": "stream",
     "text": [
      "                                                                                \r"
     ]
    }
   ],
   "source": [
    "price2019 = spark.read.csv(price2019Path, sep=';', inferSchema=True)\n",
    "price2020 = spark.read.csv(price2020Path, sep=';', inferSchema=True)\n",
    "price2021 = spark.read.csv(price2021Path, sep=';', inferSchema=True)\n",
    "price2022 = spark.read.csv(price2019Path, sep=';', inferSchema=True)"
   ]
  },
  {
   "cell_type": "code",
   "execution_count": 13,
   "id": "b2b0f95a",
   "metadata": {},
   "outputs": [
    {
     "name": "stdout",
     "output_type": "stream",
     "text": [
      "+----+---+-------+------+-------+------+--------+\n",
      "| _c0|_c1|    _c2|   _c3|    _c4|   _c5|     _c6|\n",
      "+----+---+-------+------+-------+------+--------+\n",
      "| ANO|MES|EMPRESA|ORIGEM|DESTINO|TARIFA|ASSENTOS|\n",
      "|2019|  1|    AZU|  SBAC|   SBAR|239,90|       2|\n",
      "|2019|  1|    AZU|  SBAC|   SBAR|270,90|       2|\n",
      "|2019|  1|    AZU|  SBAC|   SBBR|217,90|       1|\n",
      "|2019|  1|    AZU|  SBAC|   SBBR|630,90|       2|\n",
      "|2019|  1|    AZU|  SBAC|   SBBV|347,90|       1|\n",
      "|2019|  1|    AZU|  SBAC|   SBCF|212,90|       2|\n",
      "|2019|  1|    AZU|  SBAC|   SBCF|283,90|       1|\n",
      "|2019|  1|    AZU|  SBAC|   SBCF|354,90|       3|\n",
      "|2019|  1|    AZU|  SBAC|   SBCF|414,90|       2|\n",
      "|2019|  1|    AZU|  SBAC|   SBCF|619,90|       3|\n",
      "|2019|  1|    AZU|  SBAC|   SBCG|291,90|       1|\n",
      "|2019|  1|    AZU|  SBAC|   SBCH|737,90|       2|\n",
      "|2019|  1|    AZU|  SBAC|   SBCR|361,90|       1|\n",
      "|2019|  1|    AZU|  SBAC|   SBCY|425,90|       1|\n",
      "|2019|  1|    AZU|  SBAC|   SBEG|277,90|       1|\n",
      "|2019|  1|    AZU|  SBAC|   SBEG|307,90|       2|\n",
      "|2019|  1|    AZU|  SBAC|   SBFL|411,90|       1|\n",
      "|2019|  1|    AZU|  SBAC|   SBGL|229,90|       5|\n",
      "|2019|  1|    AZU|  SBAC|   SBGL|442,90|       1|\n",
      "+----+---+-------+------+-------+------+--------+\n",
      "only showing top 20 rows\n",
      "\n"
     ]
    }
   ],
   "source": [
    "price2019.show()"
   ]
  },
  {
   "cell_type": "markdown",
   "id": "530afe89",
   "metadata": {},
   "source": [
    "### Renomeando o Header"
   ]
  },
  {
   "cell_type": "code",
   "execution_count": 14,
   "id": "0f0bee43",
   "metadata": {},
   "outputs": [],
   "source": [
    "newHeaderColNames = ['year', 'month', 'company', 'origin', 'destination', 'price', 'seats']"
   ]
  },
  {
   "cell_type": "code",
   "execution_count": 15,
   "id": "90e2d0bb",
   "metadata": {},
   "outputs": [],
   "source": [
    "for index, colName in enumerate(newHeaderColNames):\n",
    "    price2019 = price2019.withColumnRenamed(f\"_c{index}\", colName)\n",
    "    price2020 = price2020.withColumnRenamed(f\"_c{index}\", colName)\n",
    "    price2021 = price2021.withColumnRenamed(f\"_c{index}\", colName)\n",
    "    price2022 = price2022.withColumnRenamed(f\"_c{index}\", colName)"
   ]
  },
  {
   "cell_type": "code",
   "execution_count": 16,
   "id": "4fa65e0c",
   "metadata": {},
   "outputs": [
    {
     "name": "stdout",
     "output_type": "stream",
     "text": [
      "+-----------------+-----------------+------------------+--------------------+--------------------+--------+--------------------+\n",
      "|             year|            month|           company|              origin|         destination|   price|               seats|\n",
      "+-----------------+-----------------+------------------+--------------------+--------------------+--------+--------------------+\n",
      "|Ano de Refer�ncia|M�s de Refer�ncia|ICAO Empresa A�rea|ICAO Aer�dromo Or...|ICAO Aer�dromo De...|Tarifa-N|Assentos Comercia...|\n",
      "|             2020|                1|               AZU|                SBAC|                SBCF|   693,9|                   2|\n",
      "|             2020|                1|               AZU|                SBAC|                SBFN|   404,9|                   2|\n",
      "|             2020|                1|               AZU|                SBAC|                SBGL|  1138,9|                   1|\n",
      "|             2020|                1|               AZU|                SBAC|                SBGL|   283,9|                   1|\n",
      "+-----------------+-----------------+------------------+--------------------+--------------------+--------+--------------------+\n",
      "\n"
     ]
    }
   ],
   "source": [
    "price2020.limit(5).show()"
   ]
  },
  {
   "cell_type": "code",
   "execution_count": 17,
   "id": "97d5f306",
   "metadata": {
    "scrolled": true
   },
   "outputs": [],
   "source": [
    "price2019 = price2019.where('year!=\"ANO\"')\n",
    "price2020 = price2020.where('price!=\"Tarifa-N\"')\n",
    "price2021 = price2021.where('year!=\"ANO\"')\n",
    "price2022 = price2022.where('year!=\"ANO\"')"
   ]
  },
  {
   "cell_type": "code",
   "execution_count": 18,
   "id": "2d829537",
   "metadata": {},
   "outputs": [
    {
     "name": "stdout",
     "output_type": "stream",
     "text": [
      "+----+-----+-------+------+-----------+------+-----+\n",
      "|year|month|company|origin|destination| price|seats|\n",
      "+----+-----+-------+------+-----------+------+-----+\n",
      "|2019|    1|    AZU|  SBAC|       SBAR|239,90|    2|\n",
      "|2019|    1|    AZU|  SBAC|       SBAR|270,90|    2|\n",
      "|2019|    1|    AZU|  SBAC|       SBBR|217,90|    1|\n",
      "|2019|    1|    AZU|  SBAC|       SBBR|630,90|    2|\n",
      "|2019|    1|    AZU|  SBAC|       SBBV|347,90|    1|\n",
      "+----+-----+-------+------+-----------+------+-----+\n",
      "\n"
     ]
    }
   ],
   "source": [
    "price2022.limit(5).show()"
   ]
  },
  {
   "cell_type": "markdown",
   "id": "3770d9df",
   "metadata": {},
   "source": [
    "### Selecionamento somente o aeroporto de Maceió como origem"
   ]
  },
  {
   "cell_type": "code",
   "execution_count": 19,
   "id": "4df7b151",
   "metadata": {},
   "outputs": [],
   "source": [
    "price2019 = price2019.where('origin==\"SBMO\"')\n",
    "price2020 = price2020.where('origin==\"SBMO\"')\n",
    "price2021 = price2021.where('origin==\"SBMO\"')\n",
    "price2022 = price2022.where('origin==\"SBMO\"')"
   ]
  },
  {
   "cell_type": "code",
   "execution_count": 20,
   "id": "60621e41",
   "metadata": {},
   "outputs": [
    {
     "name": "stdout",
     "output_type": "stream",
     "text": [
      "+----+-----+-------+------+-----------+------+-----+\n",
      "|year|month|company|origin|destination| price|seats|\n",
      "+----+-----+-------+------+-----------+------+-----+\n",
      "|2020|    1|    AZU|  SBMO|       SBAE|1363,9|    2|\n",
      "|2020|    1|    AZU|  SBMO|       SBAE|1373,9|    1|\n",
      "|2020|    1|    AZU|  SBMO|       SBAE|1491,9|    2|\n",
      "|2020|    1|    AZU|  SBMO|       SBAE|1651,9|    1|\n",
      "|2020|    1|    AZU|  SBMO|       SBAE|1661,9|    2|\n",
      "+----+-----+-------+------+-----------+------+-----+\n",
      "\n"
     ]
    }
   ],
   "source": [
    "price2020.limit(5).show()"
   ]
  },
  {
   "cell_type": "markdown",
   "id": "ca508d06",
   "metadata": {},
   "source": [
    "### Convertendo: String to Integer and String to Double"
   ]
  },
  {
   "cell_type": "code",
   "execution_count": 46,
   "id": "0f6c6f0b",
   "metadata": {},
   "outputs": [],
   "source": [
    "from pyspark.sql.types import DoubleType, StringType, IntegerType "
   ]
  },
  {
   "cell_type": "code",
   "execution_count": 22,
   "id": "4f5e9e88",
   "metadata": {},
   "outputs": [],
   "source": [
    "from pyspark.sql import functions as f"
   ]
  },
  {
   "cell_type": "markdown",
   "id": "f89c31a8",
   "metadata": {},
   "source": [
    "#### 2019"
   ]
  },
  {
   "cell_type": "code",
   "execution_count": 23,
   "id": "af91f34c",
   "metadata": {},
   "outputs": [
    {
     "name": "stdout",
     "output_type": "stream",
     "text": [
      "root\n",
      " |-- year: string (nullable = true)\n",
      " |-- month: string (nullable = true)\n",
      " |-- company: string (nullable = true)\n",
      " |-- origin: string (nullable = true)\n",
      " |-- destination: string (nullable = true)\n",
      " |-- price: string (nullable = true)\n",
      " |-- seats: string (nullable = true)\n",
      "\n"
     ]
    }
   ],
   "source": [
    "price2019.printSchema()"
   ]
  },
  {
   "cell_type": "code",
   "execution_count": 50,
   "id": "eea00563",
   "metadata": {},
   "outputs": [],
   "source": [
    "price2019 = price2019\\\n",
    "    .withColumn(\n",
    "    \"year\",\n",
    "    price2019[\"year\"].cast(IntegerType())\n",
    "    )\\\n",
    "    .withColumn(\n",
    "    \"month\",\n",
    "    price2019[\"month\"].cast(IntegerType())\n",
    "    )\\\n",
    "    .withColumn(\n",
    "    \"seats\",\n",
    "    price2019[\"seats\"].cast(IntegerType())\n",
    "    )\\\n",
    "    .withColumn(\n",
    "    \"price\",\n",
    "    f.regexp_replace('price', ',', '.')\n",
    "    )"
   ]
  },
  {
   "cell_type": "code",
   "execution_count": 51,
   "id": "f9e4b59b",
   "metadata": {},
   "outputs": [],
   "source": [
    "price2019 = price2019\\\n",
    "    .withColumn(\n",
    "    \"price\",\n",
    "    price2019[\"price\"].cast(DoubleType())\n",
    "    )"
   ]
  },
  {
   "cell_type": "code",
   "execution_count": 52,
   "id": "6fb5df7e",
   "metadata": {},
   "outputs": [
    {
     "name": "stdout",
     "output_type": "stream",
     "text": [
      "root\n",
      " |-- year: integer (nullable = true)\n",
      " |-- month: integer (nullable = true)\n",
      " |-- company: string (nullable = true)\n",
      " |-- origin: string (nullable = true)\n",
      " |-- destination: string (nullable = true)\n",
      " |-- price: double (nullable = true)\n",
      " |-- seats: integer (nullable = true)\n",
      "\n"
     ]
    }
   ],
   "source": [
    "price2019.printSchema()"
   ]
  },
  {
   "cell_type": "code",
   "execution_count": 53,
   "id": "c7f5a84b",
   "metadata": {},
   "outputs": [
    {
     "name": "stdout",
     "output_type": "stream",
     "text": [
      "+----+-----+-------+------+-----------+------+-----+\n",
      "|year|month|company|origin|destination| price|seats|\n",
      "+----+-----+-------+------+-----------+------+-----+\n",
      "|2019|    1|    AZU|  SBMO|       SBAC| 179.9|    2|\n",
      "|2019|    1|    AZU|  SBMO|       SBAE|295.33|    2|\n",
      "|2019|    1|    AZU|  SBMO|       SBAE| 302.9|    2|\n",
      "|2019|    1|    AZU|  SBMO|       SBAE| 372.9|    2|\n",
      "|2019|    1|    AZU|  SBMO|       SBAE|389.42|    4|\n",
      "|2019|    1|    AZU|  SBMO|       SBAE| 419.9|    2|\n",
      "|2019|    1|    AZU|  SBMO|       SBAE| 448.9|    1|\n",
      "|2019|    1|    AZU|  SBMO|       SBAE| 639.9|    1|\n",
      "|2019|    1|    AZU|  SBMO|       SBAE| 656.9|    1|\n",
      "|2019|    1|    AZU|  SBMO|       SBAE| 724.9|    1|\n",
      "+----+-----+-------+------+-----------+------+-----+\n",
      "\n"
     ]
    }
   ],
   "source": [
    "price2019.limit(10).show()"
   ]
  },
  {
   "cell_type": "markdown",
   "id": "c7cfb5be",
   "metadata": {},
   "source": [
    "#### 2020"
   ]
  },
  {
   "cell_type": "code",
   "execution_count": 54,
   "id": "80d6958b",
   "metadata": {},
   "outputs": [],
   "source": [
    "price2020 = price2020\\\n",
    "    .withColumn(\n",
    "    \"year\",\n",
    "    price2020[\"year\"].cast(IntegerType())\n",
    "    )\\\n",
    "    .withColumn(\n",
    "    \"month\",\n",
    "    price2020[\"month\"].cast(IntegerType())\n",
    "    )\\\n",
    "    .withColumn(\n",
    "    \"seats\",\n",
    "    price2020[\"seats\"].cast(IntegerType())\n",
    "    )\\\n",
    "    .withColumn(\n",
    "    \"price\",\n",
    "    f.regexp_replace('price', ',', '.')\n",
    "    )"
   ]
  },
  {
   "cell_type": "code",
   "execution_count": 56,
   "id": "b9fecd17",
   "metadata": {},
   "outputs": [],
   "source": [
    "price2020 = price2020\\\n",
    "    .withColumn(\n",
    "    \"price\",\n",
    "    price2020[\"price\"].cast(DoubleType())\n",
    "    )"
   ]
  },
  {
   "cell_type": "code",
   "execution_count": 57,
   "id": "7cd09a41",
   "metadata": {},
   "outputs": [
    {
     "name": "stdout",
     "output_type": "stream",
     "text": [
      "root\n",
      " |-- year: integer (nullable = true)\n",
      " |-- month: integer (nullable = true)\n",
      " |-- company: string (nullable = true)\n",
      " |-- origin: string (nullable = true)\n",
      " |-- destination: string (nullable = true)\n",
      " |-- price: double (nullable = true)\n",
      " |-- seats: integer (nullable = true)\n",
      "\n"
     ]
    }
   ],
   "source": [
    "price2020.printSchema()"
   ]
  },
  {
   "cell_type": "markdown",
   "id": "fc197b55",
   "metadata": {},
   "source": [
    "#### 2021"
   ]
  },
  {
   "cell_type": "code",
   "execution_count": 58,
   "id": "0beb49b0",
   "metadata": {},
   "outputs": [],
   "source": [
    "price2021 = price2021\\\n",
    "    .withColumn(\n",
    "    \"year\",\n",
    "    price2021[\"year\"].cast(IntegerType())\n",
    "    )\\\n",
    "    .withColumn(\n",
    "    \"month\",\n",
    "    price2021[\"month\"].cast(IntegerType())\n",
    "    )\\\n",
    "    .withColumn(\n",
    "    \"seats\",\n",
    "    price2021[\"seats\"].cast(IntegerType())\n",
    "    )\\\n",
    "    .withColumn(\n",
    "    \"price\",\n",
    "    f.regexp_replace('price', ',', '.')\n",
    "    )"
   ]
  },
  {
   "cell_type": "code",
   "execution_count": 59,
   "id": "f8919d9b",
   "metadata": {},
   "outputs": [],
   "source": [
    "price2021 = price2021\\\n",
    "    .withColumn(\n",
    "    \"price\",\n",
    "    price2021[\"price\"].cast(DoubleType())\n",
    "    )"
   ]
  },
  {
   "cell_type": "code",
   "execution_count": 61,
   "id": "b6dfd73a",
   "metadata": {},
   "outputs": [
    {
     "name": "stdout",
     "output_type": "stream",
     "text": [
      "root\n",
      " |-- year: integer (nullable = true)\n",
      " |-- month: integer (nullable = true)\n",
      " |-- company: string (nullable = true)\n",
      " |-- origin: string (nullable = true)\n",
      " |-- destination: string (nullable = true)\n",
      " |-- price: double (nullable = true)\n",
      " |-- seats: integer (nullable = true)\n",
      "\n"
     ]
    }
   ],
   "source": [
    "price2021.printSchema()"
   ]
  },
  {
   "cell_type": "markdown",
   "id": "af542ac7",
   "metadata": {},
   "source": [
    "#### 2022"
   ]
  },
  {
   "cell_type": "code",
   "execution_count": 62,
   "id": "118fba90",
   "metadata": {},
   "outputs": [],
   "source": [
    "price2022 = price2022\\\n",
    "    .withColumn(\n",
    "    \"year\",\n",
    "    price2022[\"year\"].cast(IntegerType())\n",
    "    )\\\n",
    "    .withColumn(\n",
    "    \"month\",\n",
    "    price2022[\"month\"].cast(IntegerType())\n",
    "    )\\\n",
    "    .withColumn(\n",
    "    \"seats\",\n",
    "    price2022[\"seats\"].cast(IntegerType())\n",
    "    )\\\n",
    "    .withColumn(\n",
    "    \"price\",\n",
    "    f.regexp_replace('price', ',', '.')\n",
    "    )"
   ]
  },
  {
   "cell_type": "code",
   "execution_count": 63,
   "id": "acfe0a28",
   "metadata": {},
   "outputs": [],
   "source": [
    "price2022 = price2022\\\n",
    "    .withColumn(\n",
    "    \"price\",\n",
    "    price2022[\"price\"].cast(DoubleType())\n",
    "    )"
   ]
  },
  {
   "cell_type": "code",
   "execution_count": 64,
   "id": "9aeb91fb",
   "metadata": {},
   "outputs": [
    {
     "name": "stdout",
     "output_type": "stream",
     "text": [
      "root\n",
      " |-- year: integer (nullable = true)\n",
      " |-- month: integer (nullable = true)\n",
      " |-- company: string (nullable = true)\n",
      " |-- origin: string (nullable = true)\n",
      " |-- destination: string (nullable = true)\n",
      " |-- price: double (nullable = true)\n",
      " |-- seats: integer (nullable = true)\n",
      "\n"
     ]
    }
   ],
   "source": [
    "price2022.printSchema()"
   ]
  },
  {
   "cell_type": "markdown",
   "id": "bba7f04a",
   "metadata": {},
   "source": [
    "## Carregamento na Processing Zone - Arquivos no Formato Parquet"
   ]
  },
  {
   "cell_type": "code",
   "execution_count": null,
   "id": "43c7d710",
   "metadata": {},
   "outputs": [],
   "source": []
  }
 ],
 "metadata": {
  "kernelspec": {
   "display_name": "Python 3 (ipykernel)",
   "language": "python",
   "name": "python3"
  },
  "language_info": {
   "codemirror_mode": {
    "name": "ipython",
    "version": 3
   },
   "file_extension": ".py",
   "mimetype": "text/x-python",
   "name": "python",
   "nbconvert_exporter": "python",
   "pygments_lexer": "ipython3",
   "version": "3.11.1"
  }
 },
 "nbformat": 4,
 "nbformat_minor": 5
}
