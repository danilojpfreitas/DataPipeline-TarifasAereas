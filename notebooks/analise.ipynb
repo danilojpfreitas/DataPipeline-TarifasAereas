{
 "cells": [
  {
   "cell_type": "code",
   "execution_count": 43,
   "id": "5031c221",
   "metadata": {},
   "outputs": [
    {
     "name": "stdout",
     "output_type": "stream",
     "text": [
      "Requirement already satisfied: pyspark in /home/gitpod/.pyenv/versions/3.11.1/lib/python3.11/site-packages (3.4.0)\n",
      "Requirement already satisfied: py4j==0.10.9.7 in /home/gitpod/.pyenv/versions/3.11.1/lib/python3.11/site-packages (from pyspark) (0.10.9.7)\n",
      "\n",
      "\u001b[1m[\u001b[0m\u001b[34;49mnotice\u001b[0m\u001b[1;39;49m]\u001b[0m\u001b[39;49m A new release of pip is available: \u001b[0m\u001b[31;49m23.0.1\u001b[0m\u001b[39;49m -> \u001b[0m\u001b[32;49m23.1.2\u001b[0m\n",
      "\u001b[1m[\u001b[0m\u001b[34;49mnotice\u001b[0m\u001b[1;39;49m]\u001b[0m\u001b[39;49m To update, run: \u001b[0m\u001b[32;49mpip install --upgrade pip\u001b[0m\n",
      "Requirement already satisfied: findspark in /home/gitpod/.pyenv/versions/3.11.1/lib/python3.11/site-packages (2.0.1)\n",
      "\n",
      "\u001b[1m[\u001b[0m\u001b[34;49mnotice\u001b[0m\u001b[1;39;49m]\u001b[0m\u001b[39;49m A new release of pip is available: \u001b[0m\u001b[31;49m23.0.1\u001b[0m\u001b[39;49m -> \u001b[0m\u001b[32;49m23.1.2\u001b[0m\n",
      "\u001b[1m[\u001b[0m\u001b[34;49mnotice\u001b[0m\u001b[1;39;49m]\u001b[0m\u001b[39;49m To update, run: \u001b[0m\u001b[32;49mpip install --upgrade pip\u001b[0m\n",
      "Requirement already satisfied: pandas in /home/gitpod/.pyenv/versions/3.11.1/lib/python3.11/site-packages (2.0.2)\n",
      "Requirement already satisfied: python-dateutil>=2.8.2 in /home/gitpod/.pyenv/versions/3.11.1/lib/python3.11/site-packages (from pandas) (2.8.2)\n",
      "Requirement already satisfied: pytz>=2020.1 in /home/gitpod/.pyenv/versions/3.11.1/lib/python3.11/site-packages (from pandas) (2023.3)\n",
      "Requirement already satisfied: tzdata>=2022.1 in /home/gitpod/.pyenv/versions/3.11.1/lib/python3.11/site-packages (from pandas) (2023.3)\n",
      "Requirement already satisfied: numpy>=1.21.0 in /home/gitpod/.pyenv/versions/3.11.1/lib/python3.11/site-packages (from pandas) (1.24.3)\n",
      "Requirement already satisfied: six>=1.5 in /home/gitpod/.pyenv/versions/3.11.1/lib/python3.11/site-packages (from python-dateutil>=2.8.2->pandas) (1.16.0)\n",
      "\n",
      "\u001b[1m[\u001b[0m\u001b[34;49mnotice\u001b[0m\u001b[1;39;49m]\u001b[0m\u001b[39;49m A new release of pip is available: \u001b[0m\u001b[31;49m23.0.1\u001b[0m\u001b[39;49m -> \u001b[0m\u001b[32;49m23.1.2\u001b[0m\n",
      "\u001b[1m[\u001b[0m\u001b[34;49mnotice\u001b[0m\u001b[1;39;49m]\u001b[0m\u001b[39;49m To update, run: \u001b[0m\u001b[32;49mpip install --upgrade pip\u001b[0m\n",
      "Collecting install-jdk\n",
      "  Downloading install_jdk-1.0.4-py3-none-any.whl (15 kB)\n",
      "Installing collected packages: install-jdk\n",
      "Successfully installed install-jdk-1.0.4\n",
      "\n",
      "\u001b[1m[\u001b[0m\u001b[34;49mnotice\u001b[0m\u001b[1;39;49m]\u001b[0m\u001b[39;49m A new release of pip is available: \u001b[0m\u001b[31;49m23.0.1\u001b[0m\u001b[39;49m -> \u001b[0m\u001b[32;49m23.1.2\u001b[0m\n",
      "\u001b[1m[\u001b[0m\u001b[34;49mnotice\u001b[0m\u001b[1;39;49m]\u001b[0m\u001b[39;49m To update, run: \u001b[0m\u001b[32;49mpip install --upgrade pip\u001b[0m\n"
     ]
    }
   ],
   "source": [
    "!pip install pyspark\n",
    "!pip install findspark\n",
    "!pip install pandas \n",
    "!pip install install-jdk"
   ]
  },
  {
   "cell_type": "code",
   "execution_count": 2,
   "id": "0d980ab1",
   "metadata": {},
   "outputs": [],
   "source": [
    "import pandas as pd\n",
    "import findspark\n",
    "findspark.init()"
   ]
  },
  {
   "cell_type": "code",
   "execution_count": 3,
   "id": "bcb257d8",
   "metadata": {},
   "outputs": [],
   "source": [
    "from pyspark.sql import SparkSession"
   ]
  },
  {
   "cell_type": "code",
   "execution_count": 44,
   "id": "f12e369c",
   "metadata": {},
   "outputs": [],
   "source": [
    "spark = SparkSession.builder.master('local[*]').getOrCreate()"
   ]
  },
  {
   "cell_type": "code",
   "execution_count": 5,
   "id": "71c206d1",
   "metadata": {},
   "outputs": [
    {
     "data": {
      "text/html": [
       "\n",
       "            <div>\n",
       "                <p><b>SparkSession - in-memory</b></p>\n",
       "                \n",
       "        <div>\n",
       "            <p><b>SparkContext</b></p>\n",
       "\n",
       "            <p><a href=\"http://10.0.5.2:4040\">Spark UI</a></p>\n",
       "\n",
       "            <dl>\n",
       "              <dt>Version</dt>\n",
       "                <dd><code>v3.4.0</code></dd>\n",
       "              <dt>Master</dt>\n",
       "                <dd><code>local[*]</code></dd>\n",
       "              <dt>AppName</dt>\n",
       "                <dd><code>pyspark-shell</code></dd>\n",
       "            </dl>\n",
       "        </div>\n",
       "        \n",
       "            </div>\n",
       "        "
      ],
      "text/plain": [
       "<pyspark.sql.session.SparkSession at 0x7fee3c40d8d0>"
      ]
     },
     "execution_count": 5,
     "metadata": {},
     "output_type": "execute_result"
    }
   ],
   "source": [
    "spark"
   ]
  },
  {
   "cell_type": "markdown",
   "id": "71b93ac7",
   "metadata": {},
   "source": [
    "# Carregamendo dos Dados"
   ]
  },
  {
   "cell_type": "markdown",
   "id": "5f5792af",
   "metadata": {},
   "source": [
    "## Distância entre Maceió e outras capitais"
   ]
  },
  {
   "cell_type": "code",
   "execution_count": 96,
   "id": "a8f80562",
   "metadata": {},
   "outputs": [],
   "source": [
    "distPath = '/workspace/DataPipeline-TarifasAereas/data/maceioDistCapitals.json'"
   ]
  },
  {
   "cell_type": "code",
   "execution_count": 97,
   "id": "04f489a0",
   "metadata": {},
   "outputs": [],
   "source": [
    "dist = spark.read.option(\"multiline\", \"true\").json(distPath)"
   ]
  },
  {
   "cell_type": "code",
   "execution_count": 98,
   "id": "a308af4d",
   "metadata": {},
   "outputs": [
    {
     "name": "stdout",
     "output_type": "stream",
     "text": [
      "+--------------+-----------+--------+\n",
      "|          city|distHighway|distLine|\n",
      "+--------------+-----------+--------+\n",
      "|    Rio Branco|       5063|    3513|\n",
      "|        Macapa|       3545|    2011|\n",
      "|        Manaus|       5444|    2779|\n",
      "|      Salvador|        578|     476|\n",
      "|     Fortaleza|        965|     731|\n",
      "|      Brasilia|       1920|    1487|\n",
      "|       Vitoria|       1611|    1282|\n",
      "|       Goiania|       2119|    1658|\n",
      "|      Sao Luis|       1584|    1236|\n",
      "|        Cuiaba|       3111|    2304|\n",
      "|  Campo Grande|       2830|    2355|\n",
      "|Belo Horizonte|       1855|    1443|\n",
      "|         Belem|       2059|    1682|\n",
      "|   Joao Pessoa|        371|     300|\n",
      "|      Curitiba|       2805|    2263|\n",
      "|        Recife|        257|     203|\n",
      "|      Teresina|       1155|     931|\n",
      "|      Teresina|       2071|    1674|\n",
      "|         Natal|        539|     435|\n",
      "|  Porto Alegre|       3531|    2778|\n",
      "+--------------+-----------+--------+\n",
      "only showing top 20 rows\n",
      "\n"
     ]
    }
   ],
   "source": [
    "dist.show()"
   ]
  },
  {
   "cell_type": "markdown",
   "id": "52f8ad76",
   "metadata": {},
   "source": [
    "## Preço por ano das passagens"
   ]
  },
  {
   "cell_type": "markdown",
   "id": "9885c585",
   "metadata": {},
   "source": [
    "### Carregamento dos dados"
   ]
  },
  {
   "cell_type": "code",
   "execution_count": 10,
   "id": "058f85e4",
   "metadata": {},
   "outputs": [],
   "source": [
    "price2019Path = \"../data/price2019/*.CSV\"\n",
    "price2020Path = \"../data/price2020/*.CSV\"\n",
    "price2021Path = \"../data/price2021/*.CSV\"\n",
    "price2022Path = \"../data/price2022/*.CSV\""
   ]
  },
  {
   "cell_type": "code",
   "execution_count": 11,
   "id": "9852e7a3",
   "metadata": {},
   "outputs": [
    {
     "name": "stderr",
     "output_type": "stream",
     "text": [
      "                                                                                \r"
     ]
    }
   ],
   "source": [
    "price2019 = spark.read.csv(price2019Path, sep=';', inferSchema=True)\n",
    "price2020 = spark.read.csv(price2020Path, sep=';', inferSchema=True)\n",
    "price2021 = spark.read.csv(price2021Path, sep=';', inferSchema=True)\n",
    "price2022 = spark.read.csv(price2019Path, sep=';', inferSchema=True)"
   ]
  },
  {
   "cell_type": "code",
   "execution_count": 12,
   "id": "b2b0f95a",
   "metadata": {},
   "outputs": [
    {
     "name": "stdout",
     "output_type": "stream",
     "text": [
      "+----+---+-------+------+-------+------+--------+\n",
      "| _c0|_c1|    _c2|   _c3|    _c4|   _c5|     _c6|\n",
      "+----+---+-------+------+-------+------+--------+\n",
      "| ANO|MES|EMPRESA|ORIGEM|DESTINO|TARIFA|ASSENTOS|\n",
      "|2019|  1|    AZU|  SBAC|   SBAR|239,90|       2|\n",
      "|2019|  1|    AZU|  SBAC|   SBAR|270,90|       2|\n",
      "|2019|  1|    AZU|  SBAC|   SBBR|217,90|       1|\n",
      "|2019|  1|    AZU|  SBAC|   SBBR|630,90|       2|\n",
      "|2019|  1|    AZU|  SBAC|   SBBV|347,90|       1|\n",
      "|2019|  1|    AZU|  SBAC|   SBCF|212,90|       2|\n",
      "|2019|  1|    AZU|  SBAC|   SBCF|283,90|       1|\n",
      "|2019|  1|    AZU|  SBAC|   SBCF|354,90|       3|\n",
      "|2019|  1|    AZU|  SBAC|   SBCF|414,90|       2|\n",
      "|2019|  1|    AZU|  SBAC|   SBCF|619,90|       3|\n",
      "|2019|  1|    AZU|  SBAC|   SBCG|291,90|       1|\n",
      "|2019|  1|    AZU|  SBAC|   SBCH|737,90|       2|\n",
      "|2019|  1|    AZU|  SBAC|   SBCR|361,90|       1|\n",
      "|2019|  1|    AZU|  SBAC|   SBCY|425,90|       1|\n",
      "|2019|  1|    AZU|  SBAC|   SBEG|277,90|       1|\n",
      "|2019|  1|    AZU|  SBAC|   SBEG|307,90|       2|\n",
      "|2019|  1|    AZU|  SBAC|   SBFL|411,90|       1|\n",
      "|2019|  1|    AZU|  SBAC|   SBGL|229,90|       5|\n",
      "|2019|  1|    AZU|  SBAC|   SBGL|442,90|       1|\n",
      "+----+---+-------+------+-------+------+--------+\n",
      "only showing top 20 rows\n",
      "\n"
     ]
    }
   ],
   "source": [
    "price2019.show()"
   ]
  },
  {
   "cell_type": "markdown",
   "id": "530afe89",
   "metadata": {},
   "source": [
    "### Renomeando o Header"
   ]
  },
  {
   "cell_type": "code",
   "execution_count": 13,
   "id": "0f0bee43",
   "metadata": {},
   "outputs": [],
   "source": [
    "newHeaderColNames = ['year', 'month', 'company', 'origin', 'destination', 'price', 'seats']"
   ]
  },
  {
   "cell_type": "code",
   "execution_count": 14,
   "id": "90e2d0bb",
   "metadata": {},
   "outputs": [],
   "source": [
    "for index, colName in enumerate(newHeaderColNames):\n",
    "    price2019 = price2019.withColumnRenamed(f\"_c{index}\", colName)\n",
    "    price2020 = price2020.withColumnRenamed(f\"_c{index}\", colName)\n",
    "    price2021 = price2021.withColumnRenamed(f\"_c{index}\", colName)\n",
    "    price2022 = price2022.withColumnRenamed(f\"_c{index}\", colName)"
   ]
  },
  {
   "cell_type": "code",
   "execution_count": 15,
   "id": "4fa65e0c",
   "metadata": {},
   "outputs": [
    {
     "name": "stdout",
     "output_type": "stream",
     "text": [
      "+-----------------+-----------------+------------------+--------------------+--------------------+--------+--------------------+\n",
      "|             year|            month|           company|              origin|         destination|   price|               seats|\n",
      "+-----------------+-----------------+------------------+--------------------+--------------------+--------+--------------------+\n",
      "|Ano de Refer�ncia|M�s de Refer�ncia|ICAO Empresa A�rea|ICAO Aer�dromo Or...|ICAO Aer�dromo De...|Tarifa-N|Assentos Comercia...|\n",
      "|             2020|                1|               AZU|                SBAC|                SBCF|   693,9|                   2|\n",
      "|             2020|                1|               AZU|                SBAC|                SBFN|   404,9|                   2|\n",
      "|             2020|                1|               AZU|                SBAC|                SBGL|  1138,9|                   1|\n",
      "|             2020|                1|               AZU|                SBAC|                SBGL|   283,9|                   1|\n",
      "+-----------------+-----------------+------------------+--------------------+--------------------+--------+--------------------+\n",
      "\n"
     ]
    }
   ],
   "source": [
    "price2020.limit(5).show()"
   ]
  },
  {
   "cell_type": "code",
   "execution_count": 16,
   "id": "97d5f306",
   "metadata": {
    "scrolled": true
   },
   "outputs": [],
   "source": [
    "price2019 = price2019.where('year!=\"ANO\"')\n",
    "price2020 = price2020.where('price!=\"Tarifa-N\"')\n",
    "price2021 = price2021.where('year!=\"ANO\"')\n",
    "price2022 = price2022.where('year!=\"ANO\"')"
   ]
  },
  {
   "cell_type": "code",
   "execution_count": 17,
   "id": "2d829537",
   "metadata": {},
   "outputs": [
    {
     "name": "stdout",
     "output_type": "stream",
     "text": [
      "+----+-----+-------+------+-----------+------+-----+\n",
      "|year|month|company|origin|destination| price|seats|\n",
      "+----+-----+-------+------+-----------+------+-----+\n",
      "|2019|    1|    AZU|  SBAC|       SBAR|239,90|    2|\n",
      "|2019|    1|    AZU|  SBAC|       SBAR|270,90|    2|\n",
      "|2019|    1|    AZU|  SBAC|       SBBR|217,90|    1|\n",
      "|2019|    1|    AZU|  SBAC|       SBBR|630,90|    2|\n",
      "|2019|    1|    AZU|  SBAC|       SBBV|347,90|    1|\n",
      "+----+-----+-------+------+-----------+------+-----+\n",
      "\n"
     ]
    }
   ],
   "source": [
    "price2022.limit(5).show()"
   ]
  },
  {
   "cell_type": "markdown",
   "id": "3770d9df",
   "metadata": {},
   "source": [
    "### Selecionamento somente o aeroporto de Maceió como origem"
   ]
  },
  {
   "cell_type": "code",
   "execution_count": 18,
   "id": "4df7b151",
   "metadata": {},
   "outputs": [],
   "source": [
    "price2019 = price2019.where('origin==\"SBMO\"')\n",
    "price2020 = price2020.where('origin==\"SBMO\"')\n",
    "price2021 = price2021.where('origin==\"SBMO\"')\n",
    "price2022 = price2022.where('origin==\"SBMO\"')"
   ]
  },
  {
   "cell_type": "code",
   "execution_count": 19,
   "id": "60621e41",
   "metadata": {},
   "outputs": [
    {
     "name": "stdout",
     "output_type": "stream",
     "text": [
      "+----+-----+-------+------+-----------+------+-----+\n",
      "|year|month|company|origin|destination| price|seats|\n",
      "+----+-----+-------+------+-----------+------+-----+\n",
      "|2020|    1|    AZU|  SBMO|       SBAE|1363,9|    2|\n",
      "|2020|    1|    AZU|  SBMO|       SBAE|1373,9|    1|\n",
      "|2020|    1|    AZU|  SBMO|       SBAE|1491,9|    2|\n",
      "|2020|    1|    AZU|  SBMO|       SBAE|1651,9|    1|\n",
      "|2020|    1|    AZU|  SBMO|       SBAE|1661,9|    2|\n",
      "+----+-----+-------+------+-----------+------+-----+\n",
      "\n"
     ]
    }
   ],
   "source": [
    "price2020.limit(5).show()"
   ]
  },
  {
   "cell_type": "markdown",
   "id": "ca508d06",
   "metadata": {},
   "source": [
    "### Convertendo: String to Integer and String to Double"
   ]
  },
  {
   "cell_type": "code",
   "execution_count": 20,
   "id": "0f6c6f0b",
   "metadata": {},
   "outputs": [],
   "source": [
    "from pyspark.sql.types import DoubleType, StringType, IntegerType "
   ]
  },
  {
   "cell_type": "code",
   "execution_count": 21,
   "id": "4f5e9e88",
   "metadata": {},
   "outputs": [],
   "source": [
    "from pyspark.sql import functions as f"
   ]
  },
  {
   "cell_type": "markdown",
   "id": "f89c31a8",
   "metadata": {},
   "source": [
    "#### 2019"
   ]
  },
  {
   "cell_type": "code",
   "execution_count": 22,
   "id": "af91f34c",
   "metadata": {},
   "outputs": [
    {
     "name": "stdout",
     "output_type": "stream",
     "text": [
      "root\n",
      " |-- year: string (nullable = true)\n",
      " |-- month: string (nullable = true)\n",
      " |-- company: string (nullable = true)\n",
      " |-- origin: string (nullable = true)\n",
      " |-- destination: string (nullable = true)\n",
      " |-- price: string (nullable = true)\n",
      " |-- seats: string (nullable = true)\n",
      "\n"
     ]
    }
   ],
   "source": [
    "price2019.printSchema()"
   ]
  },
  {
   "cell_type": "code",
   "execution_count": 23,
   "id": "eea00563",
   "metadata": {},
   "outputs": [],
   "source": [
    "price2019 = price2019\\\n",
    "    .withColumn(\n",
    "    \"year\",\n",
    "    price2019[\"year\"].cast(IntegerType())\n",
    "    )\\\n",
    "    .withColumn(\n",
    "    \"month\",\n",
    "    price2019[\"month\"].cast(IntegerType())\n",
    "    )\\\n",
    "    .withColumn(\n",
    "    \"seats\",\n",
    "    price2019[\"seats\"].cast(IntegerType())\n",
    "    )\\\n",
    "    .withColumn(\n",
    "    \"price\",\n",
    "    f.regexp_replace('price', ',', '.')\n",
    "    )"
   ]
  },
  {
   "cell_type": "code",
   "execution_count": 24,
   "id": "f9e4b59b",
   "metadata": {},
   "outputs": [],
   "source": [
    "price2019 = price2019\\\n",
    "    .withColumn(\n",
    "    \"price\",\n",
    "    price2019[\"price\"].cast(DoubleType())\n",
    "    )"
   ]
  },
  {
   "cell_type": "code",
   "execution_count": 25,
   "id": "6fb5df7e",
   "metadata": {},
   "outputs": [
    {
     "name": "stdout",
     "output_type": "stream",
     "text": [
      "root\n",
      " |-- year: integer (nullable = true)\n",
      " |-- month: integer (nullable = true)\n",
      " |-- company: string (nullable = true)\n",
      " |-- origin: string (nullable = true)\n",
      " |-- destination: string (nullable = true)\n",
      " |-- price: double (nullable = true)\n",
      " |-- seats: integer (nullable = true)\n",
      "\n"
     ]
    }
   ],
   "source": [
    "price2019.printSchema()"
   ]
  },
  {
   "cell_type": "code",
   "execution_count": 26,
   "id": "c7f5a84b",
   "metadata": {},
   "outputs": [
    {
     "name": "stdout",
     "output_type": "stream",
     "text": [
      "+----+-----+-------+------+-----------+------+-----+\n",
      "|year|month|company|origin|destination| price|seats|\n",
      "+----+-----+-------+------+-----------+------+-----+\n",
      "|2019|    1|    AZU|  SBMO|       SBAC| 179.9|    2|\n",
      "|2019|    1|    AZU|  SBMO|       SBAE|295.33|    2|\n",
      "|2019|    1|    AZU|  SBMO|       SBAE| 302.9|    2|\n",
      "|2019|    1|    AZU|  SBMO|       SBAE| 372.9|    2|\n",
      "|2019|    1|    AZU|  SBMO|       SBAE|389.42|    4|\n",
      "|2019|    1|    AZU|  SBMO|       SBAE| 419.9|    2|\n",
      "|2019|    1|    AZU|  SBMO|       SBAE| 448.9|    1|\n",
      "|2019|    1|    AZU|  SBMO|       SBAE| 639.9|    1|\n",
      "|2019|    1|    AZU|  SBMO|       SBAE| 656.9|    1|\n",
      "|2019|    1|    AZU|  SBMO|       SBAE| 724.9|    1|\n",
      "+----+-----+-------+------+-----------+------+-----+\n",
      "\n"
     ]
    }
   ],
   "source": [
    "price2019.limit(10).show()"
   ]
  },
  {
   "cell_type": "markdown",
   "id": "c7cfb5be",
   "metadata": {},
   "source": [
    "#### 2020"
   ]
  },
  {
   "cell_type": "code",
   "execution_count": 27,
   "id": "80d6958b",
   "metadata": {},
   "outputs": [],
   "source": [
    "price2020 = price2020\\\n",
    "    .withColumn(\n",
    "    \"year\",\n",
    "    price2020[\"year\"].cast(IntegerType())\n",
    "    )\\\n",
    "    .withColumn(\n",
    "    \"month\",\n",
    "    price2020[\"month\"].cast(IntegerType())\n",
    "    )\\\n",
    "    .withColumn(\n",
    "    \"seats\",\n",
    "    price2020[\"seats\"].cast(IntegerType())\n",
    "    )\\\n",
    "    .withColumn(\n",
    "    \"price\",\n",
    "    f.regexp_replace('price', ',', '.')\n",
    "    )"
   ]
  },
  {
   "cell_type": "code",
   "execution_count": 28,
   "id": "b9fecd17",
   "metadata": {},
   "outputs": [],
   "source": [
    "price2020 = price2020\\\n",
    "    .withColumn(\n",
    "    \"price\",\n",
    "    price2020[\"price\"].cast(DoubleType())\n",
    "    )"
   ]
  },
  {
   "cell_type": "code",
   "execution_count": 29,
   "id": "7cd09a41",
   "metadata": {},
   "outputs": [
    {
     "name": "stdout",
     "output_type": "stream",
     "text": [
      "root\n",
      " |-- year: integer (nullable = true)\n",
      " |-- month: integer (nullable = true)\n",
      " |-- company: string (nullable = true)\n",
      " |-- origin: string (nullable = true)\n",
      " |-- destination: string (nullable = true)\n",
      " |-- price: double (nullable = true)\n",
      " |-- seats: integer (nullable = true)\n",
      "\n"
     ]
    }
   ],
   "source": [
    "price2020.printSchema()"
   ]
  },
  {
   "cell_type": "markdown",
   "id": "fc197b55",
   "metadata": {},
   "source": [
    "#### 2021"
   ]
  },
  {
   "cell_type": "code",
   "execution_count": 30,
   "id": "0beb49b0",
   "metadata": {},
   "outputs": [],
   "source": [
    "price2021 = price2021\\\n",
    "    .withColumn(\n",
    "    \"year\",\n",
    "    price2021[\"year\"].cast(IntegerType())\n",
    "    )\\\n",
    "    .withColumn(\n",
    "    \"month\",\n",
    "    price2021[\"month\"].cast(IntegerType())\n",
    "    )\\\n",
    "    .withColumn(\n",
    "    \"seats\",\n",
    "    price2021[\"seats\"].cast(IntegerType())\n",
    "    )\\\n",
    "    .withColumn(\n",
    "    \"price\",\n",
    "    f.regexp_replace('price', ',', '.')\n",
    "    )"
   ]
  },
  {
   "cell_type": "code",
   "execution_count": 31,
   "id": "f8919d9b",
   "metadata": {},
   "outputs": [],
   "source": [
    "price2021 = price2021\\\n",
    "    .withColumn(\n",
    "    \"price\",\n",
    "    price2021[\"price\"].cast(DoubleType())\n",
    "    )"
   ]
  },
  {
   "cell_type": "code",
   "execution_count": 32,
   "id": "b6dfd73a",
   "metadata": {},
   "outputs": [
    {
     "name": "stdout",
     "output_type": "stream",
     "text": [
      "root\n",
      " |-- year: integer (nullable = true)\n",
      " |-- month: integer (nullable = true)\n",
      " |-- company: string (nullable = true)\n",
      " |-- origin: string (nullable = true)\n",
      " |-- destination: string (nullable = true)\n",
      " |-- price: double (nullable = true)\n",
      " |-- seats: integer (nullable = true)\n",
      "\n"
     ]
    }
   ],
   "source": [
    "price2021.printSchema()"
   ]
  },
  {
   "cell_type": "markdown",
   "id": "af542ac7",
   "metadata": {},
   "source": [
    "#### 2022"
   ]
  },
  {
   "cell_type": "code",
   "execution_count": 33,
   "id": "118fba90",
   "metadata": {},
   "outputs": [],
   "source": [
    "price2022 = price2022\\\n",
    "    .withColumn(\n",
    "    \"year\",\n",
    "    price2022[\"year\"].cast(IntegerType())\n",
    "    )\\\n",
    "    .withColumn(\n",
    "    \"month\",\n",
    "    price2022[\"month\"].cast(IntegerType())\n",
    "    )\\\n",
    "    .withColumn(\n",
    "    \"seats\",\n",
    "    price2022[\"seats\"].cast(IntegerType())\n",
    "    )\\\n",
    "    .withColumn(\n",
    "    \"price\",\n",
    "    f.regexp_replace('price', ',', '.')\n",
    "    )"
   ]
  },
  {
   "cell_type": "code",
   "execution_count": 34,
   "id": "acfe0a28",
   "metadata": {},
   "outputs": [],
   "source": [
    "price2022 = price2022\\\n",
    "    .withColumn(\n",
    "    \"price\",\n",
    "    price2022[\"price\"].cast(DoubleType())\n",
    "    )"
   ]
  },
  {
   "cell_type": "code",
   "execution_count": 35,
   "id": "9aeb91fb",
   "metadata": {},
   "outputs": [
    {
     "name": "stdout",
     "output_type": "stream",
     "text": [
      "root\n",
      " |-- year: integer (nullable = true)\n",
      " |-- month: integer (nullable = true)\n",
      " |-- company: string (nullable = true)\n",
      " |-- origin: string (nullable = true)\n",
      " |-- destination: string (nullable = true)\n",
      " |-- price: double (nullable = true)\n",
      " |-- seats: integer (nullable = true)\n",
      "\n"
     ]
    }
   ],
   "source": [
    "price2022.printSchema()"
   ]
  },
  {
   "cell_type": "markdown",
   "id": "51348253",
   "metadata": {},
   "source": [
    "## Codigo ICAO - JSON"
   ]
  },
  {
   "cell_type": "code",
   "execution_count": 116,
   "id": "5695017b",
   "metadata": {},
   "outputs": [],
   "source": [
    "pathIcaoJson = '/workspace/DataPipeline-TarifasAereas/data/airports.json'"
   ]
  },
  {
   "cell_type": "code",
   "execution_count": 117,
   "id": "a6fe6d0c",
   "metadata": {},
   "outputs": [],
   "source": [
    "icao = spark.read.option(\"multiline\", \"true\").json(pathIcaoJson)"
   ]
  },
  {
   "cell_type": "code",
   "execution_count": 119,
   "id": "a4b019f1",
   "metadata": {},
   "outputs": [
    {
     "name": "stdout",
     "output_type": "stream",
     "text": [
      "root\n",
      " |-- carriers: string (nullable = true)\n",
      " |-- city: string (nullable = true)\n",
      " |-- code: string (nullable = true)\n",
      " |-- country: string (nullable = true)\n",
      " |-- direct_flights: string (nullable = true)\n",
      " |-- elev: string (nullable = true)\n",
      " |-- email: string (nullable = true)\n",
      " |-- icao: string (nullable = true)\n",
      " |-- lat: string (nullable = true)\n",
      " |-- lon: string (nullable = true)\n",
      " |-- name: string (nullable = true)\n",
      " |-- phone: string (nullable = true)\n",
      " |-- runway_length: string (nullable = true)\n",
      " |-- state: string (nullable = true)\n",
      " |-- type: string (nullable = true)\n",
      " |-- tz: string (nullable = true)\n",
      " |-- url: string (nullable = true)\n",
      " |-- woeid: string (nullable = true)\n",
      "\n"
     ]
    }
   ],
   "source": [
    "icao.printSchema()"
   ]
  },
  {
   "cell_type": "code",
   "execution_count": 123,
   "id": "27a52cfe",
   "metadata": {},
   "outputs": [
    {
     "name": "stdout",
     "output_type": "stream",
     "text": [
      "+----+-------------+-------+\n",
      "|icao|         city|country|\n",
      "+----+-------------+-------+\n",
      "|SBAX|        Araxá| Brazil|\n",
      "|SBAT|Alta Floresta| Brazil|\n",
      "|SBAR|      Aracaju| Brazil|\n",
      "|SBAU|    Araçatuba| Brazil|\n",
      "|SBHT|     Altamira| Brazil|\n",
      "+----+-------------+-------+\n",
      "\n"
     ]
    }
   ],
   "source": [
    "icao.select(\"icao\", \"city\", \"country\").where('country==\"Brazil\"').limit(5).show()"
   ]
  },
  {
   "cell_type": "code",
   "execution_count": 125,
   "id": "cc0bff17",
   "metadata": {},
   "outputs": [],
   "source": [
    "icaoAirportBrazil = icao.select(\"icao\", \"city\", \"country\").where('country==\"Brazil\"')"
   ]
  },
  {
   "cell_type": "code",
   "execution_count": 145,
   "id": "57cb2d81",
   "metadata": {},
   "outputs": [
    {
     "name": "stdout",
     "output_type": "stream",
     "text": [
      "+----+--------------------+-------+\n",
      "|icao|                city|country|\n",
      "+----+--------------------+-------+\n",
      "|SBAX|               Araxá| Brazil|\n",
      "|SBAT|       Alta Floresta| Brazil|\n",
      "|SBAR|             Aracaju| Brazil|\n",
      "|SBAU|           Araçatuba| Brazil|\n",
      "|SBHT|            Altamira| Brazil|\n",
      "|SBBU|               Bauru| Brazil|\n",
      "|SBBE|               Belem| Brazil|\n",
      "|SBPS|        Porto Seguro| Brazil|\n",
      "|SBBR|            Lago Sul| Brazil|\n",
      "|SBBV|           Boa Vista| Brazil|\n",
      "|SBCY|              Cuiaba| Brazil|\n",
      "|SBSP|           Sao Paulo| Brazil|\n",
      "|SBCG|        Campo Grande| Brazil|\n",
      "|SBCR|             Corumba| Brazil|\n",
      "|SBCF|             Confins| Brazil|\n",
      "|SBKG|      Campina Grande| Brazil|\n",
      "|SBCT|Sao Jose dos Pinhais| Brazil|\n",
      "|SBFZ|           Fortaleza| Brazil|\n",
      "|SBGL|      Rio de Janeiro| Brazil|\n",
      "|SBGR|           Guarulhos| Brazil|\n",
      "+----+--------------------+-------+\n",
      "only showing top 20 rows\n",
      "\n"
     ]
    }
   ],
   "source": [
    "icaoAirportBrazilNotNull = icaoAirportBrazil.where('icao!=\"\"').limit(60).show()"
   ]
  },
  {
   "cell_type": "code",
   "execution_count": 147,
   "id": "39809812",
   "metadata": {},
   "outputs": [
    {
     "name": "stdout",
     "output_type": "stream",
     "text": [
      "root\n",
      " |-- icao: string (nullable = true)\n",
      " |-- city: string (nullable = true)\n",
      " |-- country: string (nullable = true)\n",
      "\n"
     ]
    }
   ],
   "source": [
    "icaoAirportBrazil.printSchema()"
   ]
  },
  {
   "cell_type": "markdown",
   "id": "bba7f04a",
   "metadata": {},
   "source": [
    "# Carregamento na Processing Zone - Arquivos no Formato Parquet"
   ]
  },
  {
   "cell_type": "markdown",
   "id": "4e2fbd64",
   "metadata": {},
   "source": [
    "#### 2019"
   ]
  },
  {
   "cell_type": "code",
   "execution_count": 64,
   "id": "43c7d710",
   "metadata": {},
   "outputs": [],
   "source": [
    "pathProcessingZone2019 = \"/workspace/DataPipeline-TarifasAereas/data/processing/2019\""
   ]
  },
  {
   "cell_type": "code",
   "execution_count": 65,
   "id": "cb211617",
   "metadata": {},
   "outputs": [
    {
     "name": "stderr",
     "output_type": "stream",
     "text": [
      "23/06/09 18:38:19 WARN MemoryManager: Total allocation exceeds 95.00% (1,020,054,720 bytes) of heap memory\n",
      "Scaling row group sizes to 95.00% for 8 writers\n",
      "23/06/09 18:38:19 WARN MemoryManager: Total allocation exceeds 95.00% (1,020,054,720 bytes) of heap memory\n",
      "Scaling row group sizes to 84.44% for 9 writers\n",
      "23/06/09 18:38:19 WARN MemoryManager: Total allocation exceeds 95.00% (1,020,054,720 bytes) of heap memory\n",
      "Scaling row group sizes to 76.00% for 10 writers\n",
      "23/06/09 18:38:19 WARN MemoryManager: Total allocation exceeds 95.00% (1,020,054,720 bytes) of heap memory\n",
      "Scaling row group sizes to 69.09% for 11 writers\n",
      "23/06/09 18:38:19 WARN MemoryManager: Total allocation exceeds 95.00% (1,020,054,720 bytes) of heap memory\n",
      "Scaling row group sizes to 63.33% for 12 writers\n",
      "23/06/09 18:38:21 WARN MemoryManager: Total allocation exceeds 95.00% (1,020,054,720 bytes) of heap memory\n",
      "Scaling row group sizes to 69.09% for 11 writers\n",
      "23/06/09 18:38:21 WARN MemoryManager: Total allocation exceeds 95.00% (1,020,054,720 bytes) of heap memory\n",
      "Scaling row group sizes to 76.00% for 10 writers\n",
      "23/06/09 18:38:21 WARN MemoryManager: Total allocation exceeds 95.00% (1,020,054,720 bytes) of heap memory\n",
      "Scaling row group sizes to 84.44% for 9 writers\n",
      "23/06/09 18:38:21 WARN MemoryManager: Total allocation exceeds 95.00% (1,020,054,720 bytes) of heap memory\n",
      "Scaling row group sizes to 95.00% for 8 writers\n",
      "                                                                                \r"
     ]
    }
   ],
   "source": [
    "price2019.write.parquet(\n",
    "    pathProcessingZone2019,\n",
    "    mode = 'overwrite'\n",
    ")"
   ]
  },
  {
   "cell_type": "code",
   "execution_count": 66,
   "id": "6ef8ed9b",
   "metadata": {},
   "outputs": [],
   "source": [
    "price2019Parquet = spark.read.parquet(\n",
    "    pathProcessingZone2019\n",
    ")"
   ]
  },
  {
   "cell_type": "code",
   "execution_count": 67,
   "id": "6aa3f905",
   "metadata": {},
   "outputs": [
    {
     "name": "stdout",
     "output_type": "stream",
     "text": [
      "+----+-----+-------+------+-----------+------+-----+\n",
      "|year|month|company|origin|destination| price|seats|\n",
      "+----+-----+-------+------+-----------+------+-----+\n",
      "|2019|    1|    AZU|  SBMO|       SBAC| 179.9|    2|\n",
      "|2019|    1|    AZU|  SBMO|       SBAE|295.33|    2|\n",
      "|2019|    1|    AZU|  SBMO|       SBAE| 302.9|    2|\n",
      "|2019|    1|    AZU|  SBMO|       SBAE| 372.9|    2|\n",
      "|2019|    1|    AZU|  SBMO|       SBAE|389.42|    4|\n",
      "+----+-----+-------+------+-----------+------+-----+\n",
      "\n"
     ]
    }
   ],
   "source": [
    "price2019Parquet.limit(5).show()"
   ]
  },
  {
   "cell_type": "markdown",
   "id": "2fadc172",
   "metadata": {},
   "source": [
    "#### 2020"
   ]
  },
  {
   "cell_type": "code",
   "execution_count": 69,
   "id": "309028c7",
   "metadata": {},
   "outputs": [],
   "source": [
    "pathProcessingZone2020 = \"/workspace/DataPipeline-TarifasAereas/data/processing/2020\""
   ]
  },
  {
   "cell_type": "code",
   "execution_count": 70,
   "id": "a38dedc6",
   "metadata": {},
   "outputs": [
    {
     "name": "stderr",
     "output_type": "stream",
     "text": [
      "23/06/09 18:39:12 WARN MemoryManager: Total allocation exceeds 95.00% (1,020,054,720 bytes) of heap memory\n",
      "Scaling row group sizes to 95.00% for 8 writers\n",
      "23/06/09 18:39:12 WARN MemoryManager: Total allocation exceeds 95.00% (1,020,054,720 bytes) of heap memory\n",
      "Scaling row group sizes to 84.44% for 9 writers\n",
      "23/06/09 18:39:12 WARN MemoryManager: Total allocation exceeds 95.00% (1,020,054,720 bytes) of heap memory\n",
      "Scaling row group sizes to 76.00% for 10 writers\n",
      "23/06/09 18:39:12 WARN MemoryManager: Total allocation exceeds 95.00% (1,020,054,720 bytes) of heap memory\n",
      "Scaling row group sizes to 69.09% for 11 writers\n",
      "23/06/09 18:39:12 WARN MemoryManager: Total allocation exceeds 95.00% (1,020,054,720 bytes) of heap memory\n",
      "Scaling row group sizes to 63.33% for 12 writers\n",
      "23/06/09 18:39:12 WARN MemoryManager: Total allocation exceeds 95.00% (1,020,054,720 bytes) of heap memory\n",
      "Scaling row group sizes to 69.09% for 11 writers\n",
      "23/06/09 18:39:12 WARN MemoryManager: Total allocation exceeds 95.00% (1,020,054,720 bytes) of heap memory\n",
      "Scaling row group sizes to 63.33% for 12 writers\n",
      "23/06/09 18:39:12 WARN MemoryManager: Total allocation exceeds 95.00% (1,020,054,720 bytes) of heap memory\n",
      "Scaling row group sizes to 69.09% for 11 writers\n",
      "23/06/09 18:39:12 WARN MemoryManager: Total allocation exceeds 95.00% (1,020,054,720 bytes) of heap memory\n",
      "Scaling row group sizes to 63.33% for 12 writers\n",
      "23/06/09 18:39:12 WARN MemoryManager: Total allocation exceeds 95.00% (1,020,054,720 bytes) of heap memory\n",
      "Scaling row group sizes to 69.09% for 11 writers\n",
      "23/06/09 18:39:13 WARN MemoryManager: Total allocation exceeds 95.00% (1,020,054,720 bytes) of heap memory\n",
      "Scaling row group sizes to 76.00% for 10 writers\n",
      "23/06/09 18:39:13 WARN MemoryManager: Total allocation exceeds 95.00% (1,020,054,720 bytes) of heap memory\n",
      "Scaling row group sizes to 84.44% for 9 writers\n",
      "23/06/09 18:39:13 WARN MemoryManager: Total allocation exceeds 95.00% (1,020,054,720 bytes) of heap memory\n",
      "Scaling row group sizes to 95.00% for 8 writers\n",
      "                                                                                \r"
     ]
    }
   ],
   "source": [
    "price2020.write.parquet(\n",
    "    pathProcessingZone2020,\n",
    "    mode = 'overwrite'\n",
    ")"
   ]
  },
  {
   "cell_type": "code",
   "execution_count": 71,
   "id": "78249c1f",
   "metadata": {},
   "outputs": [],
   "source": [
    "price2020Parquet = spark.read.parquet(\n",
    "    pathProcessingZone2019\n",
    ")"
   ]
  },
  {
   "cell_type": "code",
   "execution_count": 72,
   "id": "892e6369",
   "metadata": {},
   "outputs": [
    {
     "name": "stdout",
     "output_type": "stream",
     "text": [
      "+----+-----+-------+------+-----------+-----+-----+\n",
      "|year|month|company|origin|destination|price|seats|\n",
      "+----+-----+-------+------+-----------+-----+-----+\n",
      "|2020|    9|    AZU|  SBMO|       SBAE|365.0|    1|\n",
      "|2020|    9|    AZU|  SBMO|       SBAE|402.0|    2|\n",
      "|2020|    9|    AZU|  SBMO|       SBAE|460.9|    1|\n",
      "|2020|    9|    AZU|  SBMO|       SBAE|462.0|    2|\n",
      "|2020|    9|    AZU|  SBMO|       SBAE|473.9|    3|\n",
      "+----+-----+-------+------+-----------+-----+-----+\n",
      "\n"
     ]
    }
   ],
   "source": [
    "price2020Parquet.limit(5).show()"
   ]
  },
  {
   "cell_type": "markdown",
   "id": "cec39aff",
   "metadata": {},
   "source": [
    "#### 2021"
   ]
  },
  {
   "cell_type": "code",
   "execution_count": 73,
   "id": "998b2d72",
   "metadata": {},
   "outputs": [],
   "source": [
    "pathProcessingZone2021 = \"/workspace/DataPipeline-TarifasAereas/data/processing/2021\""
   ]
  },
  {
   "cell_type": "code",
   "execution_count": 74,
   "id": "2ab92116",
   "metadata": {},
   "outputs": [
    {
     "name": "stderr",
     "output_type": "stream",
     "text": [
      "23/06/09 18:40:20 WARN MemoryManager: Total allocation exceeds 95.00% (1,020,054,720 bytes) of heap memory\n",
      "Scaling row group sizes to 95.00% for 8 writers\n",
      "23/06/09 18:40:20 WARN MemoryManager: Total allocation exceeds 95.00% (1,020,054,720 bytes) of heap memory\n",
      "Scaling row group sizes to 84.44% for 9 writers\n",
      "23/06/09 18:40:20 WARN MemoryManager: Total allocation exceeds 95.00% (1,020,054,720 bytes) of heap memory\n",
      "Scaling row group sizes to 76.00% for 10 writers\n",
      "23/06/09 18:40:20 WARN MemoryManager: Total allocation exceeds 95.00% (1,020,054,720 bytes) of heap memory\n",
      "Scaling row group sizes to 69.09% for 11 writers\n",
      "23/06/09 18:40:20 WARN MemoryManager: Total allocation exceeds 95.00% (1,020,054,720 bytes) of heap memory\n",
      "Scaling row group sizes to 63.33% for 12 writers\n",
      "23/06/09 18:40:20 WARN MemoryManager: Total allocation exceeds 95.00% (1,020,054,720 bytes) of heap memory\n",
      "Scaling row group sizes to 58.46% for 13 writers\n",
      "23/06/09 18:40:21 WARN MemoryManager: Total allocation exceeds 95.00% (1,020,054,720 bytes) of heap memory\n",
      "Scaling row group sizes to 63.33% for 12 writers\n",
      "23/06/09 18:40:22 WARN MemoryManager: Total allocation exceeds 95.00% (1,020,054,720 bytes) of heap memory\n",
      "Scaling row group sizes to 69.09% for 11 writers\n",
      "23/06/09 18:40:22 WARN MemoryManager: Total allocation exceeds 95.00% (1,020,054,720 bytes) of heap memory\n",
      "Scaling row group sizes to 76.00% for 10 writers\n",
      "23/06/09 18:40:23 WARN MemoryManager: Total allocation exceeds 95.00% (1,020,054,720 bytes) of heap memory\n",
      "Scaling row group sizes to 84.44% for 9 writers\n",
      "23/06/09 18:40:23 WARN MemoryManager: Total allocation exceeds 95.00% (1,020,054,720 bytes) of heap memory\n",
      "Scaling row group sizes to 95.00% for 8 writers\n",
      "                                                                                \r"
     ]
    }
   ],
   "source": [
    "price2021.write.parquet(\n",
    "    pathProcessingZone2021,\n",
    "    mode = 'overwrite'\n",
    ")"
   ]
  },
  {
   "cell_type": "code",
   "execution_count": 76,
   "id": "f98e4df7",
   "metadata": {},
   "outputs": [],
   "source": [
    "price2021Parquet = spark.read.parquet(\n",
    "    pathProcessingZone2021\n",
    ")"
   ]
  },
  {
   "cell_type": "code",
   "execution_count": 77,
   "id": "70763d55",
   "metadata": {},
   "outputs": [
    {
     "name": "stdout",
     "output_type": "stream",
     "text": [
      "+----+-----+-------+------+-----------+-----+-----+\n",
      "|year|month|company|origin|destination|price|seats|\n",
      "+----+-----+-------+------+-----------+-----+-----+\n",
      "|2021|   11|    AZU|  SBMO|       SBAE|538.9|    2|\n",
      "|2021|   11|    AZU|  SBMO|       SBAE|557.9|    1|\n",
      "|2021|   11|    AZU|  SBMO|       SBAE|592.9|    1|\n",
      "|2021|   11|    AZU|  SBMO|       SBAE|697.9|    1|\n",
      "|2021|   11|    AZU|  SBMO|       SBAE|698.9|    1|\n",
      "+----+-----+-------+------+-----------+-----+-----+\n",
      "\n"
     ]
    }
   ],
   "source": [
    "price2021Parquet.limit(5).show()"
   ]
  },
  {
   "cell_type": "markdown",
   "id": "f8c51c17",
   "metadata": {},
   "source": [
    "#### 2022"
   ]
  },
  {
   "cell_type": "code",
   "execution_count": 78,
   "id": "6f31fc90",
   "metadata": {},
   "outputs": [],
   "source": [
    "pathProcessingZone2022 = \"/workspace/DataPipeline-TarifasAereas/data/processing/2022\""
   ]
  },
  {
   "cell_type": "code",
   "execution_count": 79,
   "id": "acbe646a",
   "metadata": {},
   "outputs": [
    {
     "name": "stderr",
     "output_type": "stream",
     "text": [
      "23/06/09 18:41:48 WARN MemoryManager: Total allocation exceeds 95.00% (1,020,054,720 bytes) of heap memory\n",
      "Scaling row group sizes to 95.00% for 8 writers\n",
      "23/06/09 18:41:48 WARN MemoryManager: Total allocation exceeds 95.00% (1,020,054,720 bytes) of heap memory\n",
      "Scaling row group sizes to 84.44% for 9 writers\n",
      "23/06/09 18:41:48 WARN MemoryManager: Total allocation exceeds 95.00% (1,020,054,720 bytes) of heap memory\n",
      "Scaling row group sizes to 76.00% for 10 writers\n",
      "23/06/09 18:41:48 WARN MemoryManager: Total allocation exceeds 95.00% (1,020,054,720 bytes) of heap memory\n",
      "Scaling row group sizes to 69.09% for 11 writers\n",
      "23/06/09 18:41:48 WARN MemoryManager: Total allocation exceeds 95.00% (1,020,054,720 bytes) of heap memory\n",
      "Scaling row group sizes to 63.33% for 12 writers\n",
      "23/06/09 18:41:50 WARN MemoryManager: Total allocation exceeds 95.00% (1,020,054,720 bytes) of heap memory\n",
      "Scaling row group sizes to 69.09% for 11 writers\n",
      "23/06/09 18:41:50 WARN MemoryManager: Total allocation exceeds 95.00% (1,020,054,720 bytes) of heap memory\n",
      "Scaling row group sizes to 76.00% for 10 writers\n",
      "23/06/09 18:41:50 WARN MemoryManager: Total allocation exceeds 95.00% (1,020,054,720 bytes) of heap memory\n",
      "Scaling row group sizes to 84.44% for 9 writers\n",
      "23/06/09 18:41:50 WARN MemoryManager: Total allocation exceeds 95.00% (1,020,054,720 bytes) of heap memory\n",
      "Scaling row group sizes to 95.00% for 8 writers\n",
      "                                                                                \r"
     ]
    }
   ],
   "source": [
    "price2022.write.parquet(\n",
    "    pathProcessingZone2022,\n",
    "    mode = 'overwrite'\n",
    ")"
   ]
  },
  {
   "cell_type": "code",
   "execution_count": 80,
   "id": "676c0f5c",
   "metadata": {},
   "outputs": [],
   "source": [
    "price2022Parquet = spark.read.parquet(\n",
    "    pathProcessingZone2022\n",
    ")"
   ]
  },
  {
   "cell_type": "code",
   "execution_count": 81,
   "id": "ff5c40ca",
   "metadata": {},
   "outputs": [
    {
     "name": "stdout",
     "output_type": "stream",
     "text": [
      "+----+-----+-------+------+-----------+------+-----+\n",
      "|year|month|company|origin|destination| price|seats|\n",
      "+----+-----+-------+------+-----------+------+-----+\n",
      "|2019|    1|    AZU|  SBMO|       SBAC| 179.9|    2|\n",
      "|2019|    1|    AZU|  SBMO|       SBAE|295.33|    2|\n",
      "|2019|    1|    AZU|  SBMO|       SBAE| 302.9|    2|\n",
      "|2019|    1|    AZU|  SBMO|       SBAE| 372.9|    2|\n",
      "|2019|    1|    AZU|  SBMO|       SBAE|389.42|    4|\n",
      "+----+-----+-------+------+-----------+------+-----+\n",
      "\n"
     ]
    }
   ],
   "source": [
    "price2022Parquet.limit(5).show()"
   ]
  },
  {
   "cell_type": "markdown",
   "id": "d6b78fa5",
   "metadata": {},
   "source": [
    "# Análise dos Dados"
   ]
  },
  {
   "cell_type": "code",
   "execution_count": 101,
   "id": "3a79d2fc",
   "metadata": {},
   "outputs": [],
   "source": [
    "price2019Parquet.createOrReplaceTempView(\"2019View\")"
   ]
  },
  {
   "cell_type": "code",
   "execution_count": 103,
   "id": "85f1af0c",
   "metadata": {},
   "outputs": [
    {
     "name": "stdout",
     "output_type": "stream",
     "text": [
      "+----+-----+-------+------+-----------+------+-----+\n",
      "|year|month|company|origin|destination| price|seats|\n",
      "+----+-----+-------+------+-----------+------+-----+\n",
      "|2019|    1|    AZU|  SBMO|       SBAC| 179.9|    2|\n",
      "|2019|    1|    AZU|  SBMO|       SBAE|295.33|    2|\n",
      "|2019|    1|    AZU|  SBMO|       SBAE| 302.9|    2|\n",
      "|2019|    1|    AZU|  SBMO|       SBAE| 372.9|    2|\n",
      "|2019|    1|    AZU|  SBMO|       SBAE|389.42|    4|\n",
      "+----+-----+-------+------+-----------+------+-----+\n",
      "only showing top 5 rows\n",
      "\n"
     ]
    }
   ],
   "source": [
    "spark.sql(\"SELECT * FROM 2019View\").show(5)"
   ]
  },
  {
   "cell_type": "code",
   "execution_count": 113,
   "id": "5cf395c1",
   "metadata": {},
   "outputs": [
    {
     "name": "stdout",
     "output_type": "stream",
     "text": [
      "+-----------+-------------+\n",
      "|destination|count(origin)|\n",
      "+-----------+-------------+\n",
      "|       SBGR|         8240|\n",
      "|       SBBR|         4852|\n",
      "|       SBGL|         3411|\n",
      "|       SBPA|         3011|\n",
      "|       SBKP|         2938|\n",
      "|       SBCF|         2925|\n",
      "|       SBCT|         2370|\n",
      "|       SBSP|         2266|\n",
      "|       SBRJ|         1857|\n",
      "|       SBCG|         1823|\n",
      "|       SBFL|         1794|\n",
      "|       SBSV|         1630|\n",
      "|       SBGO|         1539|\n",
      "|       SBCY|         1527|\n",
      "|       SBRP|         1314|\n",
      "|       SBEG|         1232|\n",
      "|       SBLO|         1208|\n",
      "|       SBVT|         1197|\n",
      "|       SBSR|         1135|\n",
      "|       SBRF|         1018|\n",
      "|       SBPV|         1016|\n",
      "|       SBBE|          931|\n",
      "|       SBFZ|          928|\n",
      "|       SBUL|          861|\n",
      "|       SBFI|          778|\n",
      "|       SBNF|          729|\n",
      "|       SBRB|          703|\n",
      "|       SBSL|          665|\n",
      "|       SBTE|          621|\n",
      "|       SBPJ|          518|\n",
      "|       SBSG|          513|\n",
      "|       SBMG|          430|\n",
      "|       SBJV|          426|\n",
      "|       SBCH|          388|\n",
      "|       SBMQ|          366|\n",
      "|       SBBV|          307|\n",
      "|       SBDN|          279|\n",
      "|       SBIZ|          265|\n",
      "|       SBMA|          244|\n",
      "|       SBAU|          220|\n",
      "|       SBJP|          194|\n",
      "|       SBPL|          194|\n",
      "|       SBAE|          190|\n",
      "|       SBCA|          181|\n",
      "|       SBAR|          169|\n",
      "|       SBSN|          154|\n",
      "|       SBMK|          153|\n",
      "|       SBIL|          153|\n",
      "|       SBPF|          139|\n",
      "|       SBJA|          135|\n",
      "|       SBUR|          134|\n",
      "|       SBML|          123|\n",
      "|       SBQV|          119|\n",
      "|       SBPS|          106|\n",
      "|       SBCX|          104|\n",
      "|       SBMS|           94|\n",
      "|       SBTG|           91|\n",
      "|       SWLC|           85|\n",
      "|       SBJI|           84|\n",
      "|       SWSI|           80|\n",
      "|       SBJU|           79|\n",
      "|       SBZM|           70|\n",
      "|       SBFN|           68|\n",
      "|       SBDO|           68|\n",
      "|       SSKW|           65|\n",
      "|       SBCZ|           64|\n",
      "|       SBIP|           54|\n",
      "|       SBPK|           52|\n",
      "|       SNBR|           52|\n",
      "|       SBHT|           52|\n",
      "|       SBVH|           52|\n",
      "|       SBAT|           48|\n",
      "|       SBSI|           47|\n",
      "|       SBRD|           39|\n",
      "|       SBSM|           35|\n",
      "|       SBUG|           33|\n",
      "|       SBGV|           33|\n",
      "|       SBKG|           27|\n",
      "|       SBPG|           27|\n",
      "|       SWGN|           27|\n",
      "|       SBLJ|           26|\n",
      "|       SBCJ|           25|\n",
      "|       SNTF|           24|\n",
      "|       SBCR|           23|\n",
      "|       SBNM|           22|\n",
      "|       SBCP|           20|\n",
      "|       SSPB|           20|\n",
      "|       SBVG|           18|\n",
      "|       SBVC|           17|\n",
      "|       SBSO|           16|\n",
      "|       SBBW|           13|\n",
      "|       SBTT|           13|\n",
      "|       SBAC|           12|\n",
      "|       SBAQ|           10|\n",
      "|       SBBG|           10|\n",
      "|       SBCB|            9|\n",
      "|       SBAX|            9|\n",
      "|       SBDB|            9|\n",
      "|       SBTD|            9|\n",
      "|       SSSB|            7|\n",
      "|       SSZR|            6|\n",
      "|       SSKM|            6|\n",
      "|       SBME|            6|\n",
      "|       SSCT|            6|\n",
      "|       SBRG|            5|\n",
      "|       SSFB|            5|\n",
      "|       SNBA|            5|\n",
      "|       SBCN|            4|\n",
      "|       SBGU|            4|\n",
      "|       SSUV|            3|\n",
      "|       SBLE|            3|\n",
      "|       SBFE|            3|\n",
      "|       SSGY|            2|\n",
      "|       SBJE|            2|\n",
      "|       SSPI|            2|\n",
      "|       SBTF|            2|\n",
      "|       SSVL|            2|\n",
      "|       SSOG|            1|\n",
      "|       SIMK|            1|\n",
      "|       SBSJ|            1|\n",
      "+-----------+-------------+\n",
      "\n"
     ]
    }
   ],
   "source": [
    "spark.sql(\"\"\"\n",
    "        SELECT \n",
    "        destination, count(origin)\n",
    "        FROM\n",
    "        2019View\n",
    "        GROUP BY destination\n",
    "        ORDER BY count(origin) DESC;\n",
    "        \"\"\").show(1000)"
   ]
  },
  {
   "cell_type": "code",
   "execution_count": 148,
   "id": "1408ccec",
   "metadata": {},
   "outputs": [],
   "source": [
    "icaoAirportBrazil.createOrReplaceTempView(\"icaoView\")"
   ]
  },
  {
   "cell_type": "code",
   "execution_count": 151,
   "id": "769c6528",
   "metadata": {},
   "outputs": [
    {
     "name": "stdout",
     "output_type": "stream",
     "text": [
      "+----+-------------+-------+\n",
      "|icao|         city|country|\n",
      "+----+-------------+-------+\n",
      "|SBAX|        Araxá| Brazil|\n",
      "|SBAT|Alta Floresta| Brazil|\n",
      "|SBAR|      Aracaju| Brazil|\n",
      "|SBAU|    Araçatuba| Brazil|\n",
      "|SBHT|     Altamira| Brazil|\n",
      "|    |    Araguaina| Brazil|\n",
      "|SBBU|        Bauru| Brazil|\n",
      "|SBBE|        Belem| Brazil|\n",
      "|SBPS| Porto Seguro| Brazil|\n",
      "|    |    Barreiras| Brazil|\n",
      "+----+-------------+-------+\n",
      "only showing top 10 rows\n",
      "\n"
     ]
    }
   ],
   "source": [
    "spark.sql(\"\"\"\n",
    "        SELECT \n",
    "        *\n",
    "        FROM\n",
    "        icaoView;\n",
    "        \"\"\").show(10)"
   ]
  },
  {
   "cell_type": "code",
   "execution_count": null,
   "id": "a681c127",
   "metadata": {},
   "outputs": [],
   "source": [
    "spark.sql(\"\"\"\n",
    "        SELECT \n",
    "        destination, count(origin)\n",
    "        FROM\n",
    "        2019View\n",
    "        GROUP BY destination\n",
    "        ORDER BY count(origin) DESC\n",
    "        \"\"\").show(1000)"
   ]
  }
 ],
 "metadata": {
  "kernelspec": {
   "display_name": "Python 3 (ipykernel)",
   "language": "python",
   "name": "python3"
  },
  "language_info": {
   "codemirror_mode": {
    "name": "ipython",
    "version": 3
   },
   "file_extension": ".py",
   "mimetype": "text/x-python",
   "name": "python",
   "nbconvert_exporter": "python",
   "pygments_lexer": "ipython3",
   "version": "3.11.1"
  }
 },
 "nbformat": 4,
 "nbformat_minor": 5
}
