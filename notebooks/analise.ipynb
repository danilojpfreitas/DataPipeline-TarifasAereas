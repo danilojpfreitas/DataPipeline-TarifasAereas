{
 "cells": [
  {
   "cell_type": "code",
   "execution_count": 1,
   "id": "5031c221",
   "metadata": {},
   "outputs": [
    {
     "name": "stdout",
     "output_type": "stream",
     "text": [
      "Requirement already satisfied: pyspark in /home/danilojpfreitas/anaconda3/lib/python3.10/site-packages (3.4.0)\n",
      "Requirement already satisfied: py4j==0.10.9.7 in /home/danilojpfreitas/anaconda3/lib/python3.10/site-packages (from pyspark) (0.10.9.7)\n",
      "Requirement already satisfied: findspark in /home/danilojpfreitas/anaconda3/lib/python3.10/site-packages (2.0.1)\n",
      "Requirement already satisfied: pandas in /home/danilojpfreitas/anaconda3/lib/python3.10/site-packages (1.5.3)\n",
      "Requirement already satisfied: python-dateutil>=2.8.1 in /home/danilojpfreitas/anaconda3/lib/python3.10/site-packages (from pandas) (2.8.2)\n",
      "Requirement already satisfied: pytz>=2020.1 in /home/danilojpfreitas/anaconda3/lib/python3.10/site-packages (from pandas) (2022.7)\n",
      "Requirement already satisfied: numpy>=1.21.0 in /home/danilojpfreitas/anaconda3/lib/python3.10/site-packages (from pandas) (1.23.5)\n",
      "Requirement already satisfied: six>=1.5 in /home/danilojpfreitas/anaconda3/lib/python3.10/site-packages (from python-dateutil>=2.8.1->pandas) (1.16.0)\n",
      "Requirement already satisfied: install-jdk in /home/danilojpfreitas/anaconda3/lib/python3.10/site-packages (1.0.4)\n"
     ]
    }
   ],
   "source": [
    "!pip install pyspark\n",
    "!pip install findspark\n",
    "!pip install pandas \n",
    "!pip install install-jdk"
   ]
  },
  {
   "cell_type": "code",
   "execution_count": 2,
   "id": "0d980ab1",
   "metadata": {},
   "outputs": [],
   "source": [
    "import pandas as pd\n",
    "import findspark\n",
    "findspark.init()"
   ]
  },
  {
   "cell_type": "code",
   "execution_count": 3,
   "id": "bcb257d8",
   "metadata": {},
   "outputs": [],
   "source": [
    "from pyspark.sql import SparkSession"
   ]
  },
  {
   "cell_type": "code",
   "execution_count": 4,
   "id": "f12e369c",
   "metadata": {},
   "outputs": [
    {
     "name": "stderr",
     "output_type": "stream",
     "text": [
      "23/06/16 21:34:39 WARN Utils: Your hostname, danilojpfreitas-Vostro-13-5310 resolves to a loopback address: 127.0.1.1; using 10.0.0.155 instead (on interface wlp0s20f3)\n",
      "23/06/16 21:34:39 WARN Utils: Set SPARK_LOCAL_IP if you need to bind to another address\n",
      "Setting default log level to \"WARN\".\n",
      "To adjust logging level use sc.setLogLevel(newLevel). For SparkR, use setLogLevel(newLevel).\n",
      "23/06/16 21:34:40 WARN NativeCodeLoader: Unable to load native-hadoop library for your platform... using builtin-java classes where applicable\n"
     ]
    }
   ],
   "source": [
    "spark = SparkSession.builder.master('local[*]').getOrCreate()"
   ]
  },
  {
   "cell_type": "code",
   "execution_count": 5,
   "id": "71c206d1",
   "metadata": {},
   "outputs": [
    {
     "data": {
      "text/html": [
       "\n",
       "            <div>\n",
       "                <p><b>SparkSession - in-memory</b></p>\n",
       "                \n",
       "        <div>\n",
       "            <p><b>SparkContext</b></p>\n",
       "\n",
       "            <p><a href=\"http://10.0.0.155:4040\">Spark UI</a></p>\n",
       "\n",
       "            <dl>\n",
       "              <dt>Version</dt>\n",
       "                <dd><code>v3.4.0</code></dd>\n",
       "              <dt>Master</dt>\n",
       "                <dd><code>local[*]</code></dd>\n",
       "              <dt>AppName</dt>\n",
       "                <dd><code>pyspark-shell</code></dd>\n",
       "            </dl>\n",
       "        </div>\n",
       "        \n",
       "            </div>\n",
       "        "
      ],
      "text/plain": [
       "<pyspark.sql.session.SparkSession at 0x7f2c8f217dc0>"
      ]
     },
     "execution_count": 5,
     "metadata": {},
     "output_type": "execute_result"
    }
   ],
   "source": [
    "spark"
   ]
  },
  {
   "cell_type": "markdown",
   "id": "71b93ac7",
   "metadata": {},
   "source": [
    "# Carregamendo dos Dados"
   ]
  },
  {
   "cell_type": "markdown",
   "id": "5f5792af",
   "metadata": {},
   "source": [
    "## Distância entre Maceió e outras capitais"
   ]
  },
  {
   "cell_type": "code",
   "execution_count": 6,
   "id": "a8f80562",
   "metadata": {},
   "outputs": [],
   "source": [
    "distPath = '/home/danilojpfreitas/Documentos/Data Engineer/Projeto/DataPipeline-TarifasAereas/data/dist/maceioDistCapitals.json'"
   ]
  },
  {
   "cell_type": "code",
   "execution_count": 7,
   "id": "04f489a0",
   "metadata": {},
   "outputs": [],
   "source": [
    "dist = spark.read.option(\"multiline\", \"true\").json(distPath)"
   ]
  },
  {
   "cell_type": "code",
   "execution_count": 8,
   "id": "a308af4d",
   "metadata": {},
   "outputs": [
    {
     "name": "stdout",
     "output_type": "stream",
     "text": [
      "+--------------+-----------+--------+\n",
      "|          city|distHighway|distLine|\n",
      "+--------------+-----------+--------+\n",
      "|    Rio Branco|       5063|    3513|\n",
      "|        Macapa|       3545|    2011|\n",
      "|        Manaus|       5444|    2779|\n",
      "|      Salvador|        578|     476|\n",
      "|     Fortaleza|        965|     731|\n",
      "|      Brasilia|       1920|    1487|\n",
      "|       Vitoria|       1611|    1282|\n",
      "|       Goiania|       2119|    1658|\n",
      "|      Sao Luis|       1584|    1236|\n",
      "|        Cuiaba|       3111|    2304|\n",
      "|  Campo Grande|       2830|    2355|\n",
      "|Belo Horizonte|       1855|    1443|\n",
      "|         Belem|       2059|    1682|\n",
      "|   Joao Pessoa|        371|     300|\n",
      "|      Curitiba|       2805|    2263|\n",
      "|        Recife|        257|     203|\n",
      "|      Teresina|       1155|     931|\n",
      "|      Teresina|       2071|    1674|\n",
      "|         Natal|        539|     435|\n",
      "|  Porto Alegre|       3531|    2778|\n",
      "+--------------+-----------+--------+\n",
      "only showing top 20 rows\n",
      "\n"
     ]
    }
   ],
   "source": [
    "dist.show()"
   ]
  },
  {
   "cell_type": "markdown",
   "id": "52f8ad76",
   "metadata": {},
   "source": [
    "## Preço por ano das passagens"
   ]
  },
  {
   "cell_type": "markdown",
   "id": "9885c585",
   "metadata": {},
   "source": [
    "### Carregamento dos dados"
   ]
  },
  {
   "cell_type": "code",
   "execution_count": 9,
   "id": "058f85e4",
   "metadata": {},
   "outputs": [],
   "source": [
    "price2019Path = \"../data/price2019/*.CSV\"\n",
    "price2020Path = \"../data/price2020/*.CSV\"\n",
    "price2021Path = \"../data/price2021/*.CSV\"\n",
    "price2022Path = \"../data/price2022/*.CSV\""
   ]
  },
  {
   "cell_type": "code",
   "execution_count": 10,
   "id": "9852e7a3",
   "metadata": {},
   "outputs": [
    {
     "name": "stderr",
     "output_type": "stream",
     "text": [
      "                                                                                \r"
     ]
    }
   ],
   "source": [
    "price2019 = spark.read.csv(price2019Path, sep=';', inferSchema=True)\n",
    "price2020 = spark.read.csv(price2020Path, sep=';', inferSchema=True)\n",
    "price2021 = spark.read.csv(price2021Path, sep=';', inferSchema=True)\n",
    "price2022 = spark.read.csv(price2019Path, sep=';', inferSchema=True)"
   ]
  },
  {
   "cell_type": "code",
   "execution_count": 11,
   "id": "b2b0f95a",
   "metadata": {},
   "outputs": [
    {
     "name": "stdout",
     "output_type": "stream",
     "text": [
      "+----+---+-------+------+-------+------+--------+\n",
      "| _c0|_c1|    _c2|   _c3|    _c4|   _c5|     _c6|\n",
      "+----+---+-------+------+-------+------+--------+\n",
      "| ANO|MES|EMPRESA|ORIGEM|DESTINO|TARIFA|ASSENTOS|\n",
      "|2019|  1|    AZU|  SBAC|   SBAR|239,90|       2|\n",
      "|2019|  1|    AZU|  SBAC|   SBAR|270,90|       2|\n",
      "|2019|  1|    AZU|  SBAC|   SBBR|217,90|       1|\n",
      "|2019|  1|    AZU|  SBAC|   SBBR|630,90|       2|\n",
      "|2019|  1|    AZU|  SBAC|   SBBV|347,90|       1|\n",
      "|2019|  1|    AZU|  SBAC|   SBCF|212,90|       2|\n",
      "|2019|  1|    AZU|  SBAC|   SBCF|283,90|       1|\n",
      "|2019|  1|    AZU|  SBAC|   SBCF|354,90|       3|\n",
      "|2019|  1|    AZU|  SBAC|   SBCF|414,90|       2|\n",
      "|2019|  1|    AZU|  SBAC|   SBCF|619,90|       3|\n",
      "|2019|  1|    AZU|  SBAC|   SBCG|291,90|       1|\n",
      "|2019|  1|    AZU|  SBAC|   SBCH|737,90|       2|\n",
      "|2019|  1|    AZU|  SBAC|   SBCR|361,90|       1|\n",
      "|2019|  1|    AZU|  SBAC|   SBCY|425,90|       1|\n",
      "|2019|  1|    AZU|  SBAC|   SBEG|277,90|       1|\n",
      "|2019|  1|    AZU|  SBAC|   SBEG|307,90|       2|\n",
      "|2019|  1|    AZU|  SBAC|   SBFL|411,90|       1|\n",
      "|2019|  1|    AZU|  SBAC|   SBGL|229,90|       5|\n",
      "|2019|  1|    AZU|  SBAC|   SBGL|442,90|       1|\n",
      "+----+---+-------+------+-------+------+--------+\n",
      "only showing top 20 rows\n",
      "\n"
     ]
    }
   ],
   "source": [
    "price2019.show()"
   ]
  },
  {
   "cell_type": "markdown",
   "id": "530afe89",
   "metadata": {},
   "source": [
    "### Renomeando o Header"
   ]
  },
  {
   "cell_type": "code",
   "execution_count": 12,
   "id": "0f0bee43",
   "metadata": {},
   "outputs": [],
   "source": [
    "newHeaderColNames = ['year', 'month', 'company', 'origin', 'destination', 'price', 'seats']"
   ]
  },
  {
   "cell_type": "code",
   "execution_count": 13,
   "id": "90e2d0bb",
   "metadata": {},
   "outputs": [],
   "source": [
    "for index, colName in enumerate(newHeaderColNames):\n",
    "    price2019 = price2019.withColumnRenamed(f\"_c{index}\", colName)\n",
    "    price2020 = price2020.withColumnRenamed(f\"_c{index}\", colName)\n",
    "    price2021 = price2021.withColumnRenamed(f\"_c{index}\", colName)\n",
    "    price2022 = price2022.withColumnRenamed(f\"_c{index}\", colName)"
   ]
  },
  {
   "cell_type": "code",
   "execution_count": 14,
   "id": "4fa65e0c",
   "metadata": {},
   "outputs": [
    {
     "name": "stdout",
     "output_type": "stream",
     "text": [
      "+-----------------+-----------------+------------------+--------------------+--------------------+--------+--------------------+\n",
      "|             year|            month|           company|              origin|         destination|   price|               seats|\n",
      "+-----------------+-----------------+------------------+--------------------+--------------------+--------+--------------------+\n",
      "|Ano de Refer�ncia|M�s de Refer�ncia|ICAO Empresa A�rea|ICAO Aer�dromo Or...|ICAO Aer�dromo De...|Tarifa-N|Assentos Comercia...|\n",
      "|             2020|               11|               AZU|                SBAC|                SBBR|  297,69|                   5|\n",
      "|             2020|               11|               AZU|                SBAC|                SBBR|   340,9|                   1|\n",
      "|             2020|               11|               AZU|                SBAC|                SBBR|   374,9|                   3|\n",
      "|             2020|               11|               AZU|                SBAC|                SBBV|   707,9|                   4|\n",
      "+-----------------+-----------------+------------------+--------------------+--------------------+--------+--------------------+\n",
      "\n"
     ]
    }
   ],
   "source": [
    "price2020.limit(5).show()"
   ]
  },
  {
   "cell_type": "code",
   "execution_count": 15,
   "id": "97d5f306",
   "metadata": {
    "scrolled": true
   },
   "outputs": [],
   "source": [
    "price2019 = price2019.where('price!=\"Tarifa-N\"')\n",
    "price2020 = price2020.where('price!=\"Tarifa-N\"')\n",
    "price2021 = price2021.where('price!=\"Tarifa-N\"')\n",
    "price2022 = price2022.where('price!=\"Tarifa-N\"')"
   ]
  },
  {
   "cell_type": "code",
   "execution_count": 16,
   "id": "2d829537",
   "metadata": {},
   "outputs": [
    {
     "name": "stdout",
     "output_type": "stream",
     "text": [
      "+----+-----+-------+------+-----------+------+-----+\n",
      "|year|month|company|origin|destination| price|seats|\n",
      "+----+-----+-------+------+-----------+------+-----+\n",
      "|2020|   11|    AZU|  SBAC|       SBBR|297,69|    5|\n",
      "|2020|   11|    AZU|  SBAC|       SBBR| 340,9|    1|\n",
      "|2020|   11|    AZU|  SBAC|       SBBR| 374,9|    3|\n",
      "|2020|   11|    AZU|  SBAC|       SBBV| 707,9|    4|\n",
      "|2020|   11|    AZU|  SBAC|       SBCF| 385,9|    1|\n",
      "+----+-----+-------+------+-----------+------+-----+\n",
      "\n"
     ]
    }
   ],
   "source": [
    "price2020.limit(5).show()"
   ]
  },
  {
   "cell_type": "markdown",
   "id": "3770d9df",
   "metadata": {},
   "source": [
    "### Selecionamento somente o aeroporto de Maceió como origem"
   ]
  },
  {
   "cell_type": "code",
   "execution_count": 17,
   "id": "4df7b151",
   "metadata": {},
   "outputs": [],
   "source": [
    "price2019 = price2019.where('origin==\"SBMO\"')\n",
    "price2020 = price2020.where('origin==\"SBMO\"')\n",
    "price2021 = price2021.where('origin==\"SBMO\"')\n",
    "price2022 = price2022.where('origin==\"SBMO\"')"
   ]
  },
  {
   "cell_type": "code",
   "execution_count": 18,
   "id": "60621e41",
   "metadata": {},
   "outputs": [
    {
     "name": "stdout",
     "output_type": "stream",
     "text": [
      "+----+-----+-------+------+-----------+------+-----+\n",
      "|year|month|company|origin|destination| price|seats|\n",
      "+----+-----+-------+------+-----------+------+-----+\n",
      "|2020|   11|    AZU|  SBMO|       SBAE|1370,9|    2|\n",
      "|2020|   11|    AZU|  SBMO|       SBAE|1409,9|    2|\n",
      "|2020|   11|    AZU|  SBMO|       SBAE| 352,8|    6|\n",
      "|2020|   11|    AZU|  SBMO|       SBAE|378,05|    1|\n",
      "|2020|   11|    AZU|  SBMO|       SBAE| 415,9|    2|\n",
      "+----+-----+-------+------+-----------+------+-----+\n",
      "\n"
     ]
    }
   ],
   "source": [
    "price2020.limit(5).show()"
   ]
  },
  {
   "cell_type": "code",
   "execution_count": 19,
   "id": "4e26f0f9",
   "metadata": {},
   "outputs": [
    {
     "name": "stderr",
     "output_type": "stream",
     "text": [
      "                                                                                \r"
     ]
    },
    {
     "data": {
      "text/plain": [
       "62530"
      ]
     },
     "execution_count": 19,
     "metadata": {},
     "output_type": "execute_result"
    }
   ],
   "source": [
    "price2019.count()"
   ]
  },
  {
   "cell_type": "markdown",
   "id": "ca508d06",
   "metadata": {},
   "source": [
    "### Convertendo: String to Integer and String to Double"
   ]
  },
  {
   "cell_type": "code",
   "execution_count": 20,
   "id": "0f6c6f0b",
   "metadata": {},
   "outputs": [],
   "source": [
    "from pyspark.sql.types import DoubleType, StringType, IntegerType "
   ]
  },
  {
   "cell_type": "code",
   "execution_count": 21,
   "id": "4f5e9e88",
   "metadata": {},
   "outputs": [],
   "source": [
    "from pyspark.sql import functions as f"
   ]
  },
  {
   "cell_type": "markdown",
   "id": "f89c31a8",
   "metadata": {},
   "source": [
    "#### 2019"
   ]
  },
  {
   "cell_type": "code",
   "execution_count": 22,
   "id": "af91f34c",
   "metadata": {},
   "outputs": [
    {
     "name": "stdout",
     "output_type": "stream",
     "text": [
      "root\n",
      " |-- year: string (nullable = true)\n",
      " |-- month: string (nullable = true)\n",
      " |-- company: string (nullable = true)\n",
      " |-- origin: string (nullable = true)\n",
      " |-- destination: string (nullable = true)\n",
      " |-- price: string (nullable = true)\n",
      " |-- seats: string (nullable = true)\n",
      "\n"
     ]
    }
   ],
   "source": [
    "price2019.printSchema()"
   ]
  },
  {
   "cell_type": "code",
   "execution_count": 23,
   "id": "eea00563",
   "metadata": {},
   "outputs": [],
   "source": [
    "price2019 = price2019\\\n",
    "    .withColumn(\n",
    "    \"year\",\n",
    "    price2019[\"year\"].cast(IntegerType())\n",
    "    )\\\n",
    "    .withColumn(\n",
    "    \"month\",\n",
    "    price2019[\"month\"].cast(IntegerType())\n",
    "    )\\\n",
    "    .withColumn(\n",
    "    \"seats\",\n",
    "    price2019[\"seats\"].cast(IntegerType())\n",
    "    )\\\n",
    "    .withColumn(\n",
    "    \"price\",\n",
    "    f.regexp_replace('price', ',', '.')\n",
    "    )"
   ]
  },
  {
   "cell_type": "code",
   "execution_count": 24,
   "id": "f9e4b59b",
   "metadata": {},
   "outputs": [],
   "source": [
    "price2019 = price2019\\\n",
    "    .withColumn(\n",
    "    \"price\",\n",
    "    price2019[\"price\"].cast(DoubleType())\n",
    "    )"
   ]
  },
  {
   "cell_type": "code",
   "execution_count": 25,
   "id": "6fb5df7e",
   "metadata": {},
   "outputs": [
    {
     "name": "stdout",
     "output_type": "stream",
     "text": [
      "root\n",
      " |-- year: integer (nullable = true)\n",
      " |-- month: integer (nullable = true)\n",
      " |-- company: string (nullable = true)\n",
      " |-- origin: string (nullable = true)\n",
      " |-- destination: string (nullable = true)\n",
      " |-- price: double (nullable = true)\n",
      " |-- seats: integer (nullable = true)\n",
      "\n"
     ]
    }
   ],
   "source": [
    "price2019.printSchema()"
   ]
  },
  {
   "cell_type": "code",
   "execution_count": 26,
   "id": "c7f5a84b",
   "metadata": {},
   "outputs": [
    {
     "name": "stdout",
     "output_type": "stream",
     "text": [
      "+----+-----+-------+------+-----------+------+-----+\n",
      "|year|month|company|origin|destination| price|seats|\n",
      "+----+-----+-------+------+-----------+------+-----+\n",
      "|2019|    1|    AZU|  SBMO|       SBAC| 179.9|    2|\n",
      "|2019|    1|    AZU|  SBMO|       SBAE|295.33|    2|\n",
      "|2019|    1|    AZU|  SBMO|       SBAE| 302.9|    2|\n",
      "|2019|    1|    AZU|  SBMO|       SBAE| 372.9|    2|\n",
      "|2019|    1|    AZU|  SBMO|       SBAE|389.42|    4|\n",
      "|2019|    1|    AZU|  SBMO|       SBAE| 419.9|    2|\n",
      "|2019|    1|    AZU|  SBMO|       SBAE| 448.9|    1|\n",
      "|2019|    1|    AZU|  SBMO|       SBAE| 639.9|    1|\n",
      "|2019|    1|    AZU|  SBMO|       SBAE| 656.9|    1|\n",
      "|2019|    1|    AZU|  SBMO|       SBAE| 724.9|    1|\n",
      "+----+-----+-------+------+-----------+------+-----+\n",
      "\n"
     ]
    }
   ],
   "source": [
    "price2019.limit(10).show()"
   ]
  },
  {
   "cell_type": "markdown",
   "id": "c7cfb5be",
   "metadata": {},
   "source": [
    "#### 2020"
   ]
  },
  {
   "cell_type": "code",
   "execution_count": 27,
   "id": "80d6958b",
   "metadata": {},
   "outputs": [],
   "source": [
    "price2020 = price2020\\\n",
    "    .withColumn(\n",
    "    \"year\",\n",
    "    price2020[\"year\"].cast(IntegerType())\n",
    "    )\\\n",
    "    .withColumn(\n",
    "    \"month\",\n",
    "    price2020[\"month\"].cast(IntegerType())\n",
    "    )\\\n",
    "    .withColumn(\n",
    "    \"seats\",\n",
    "    price2020[\"seats\"].cast(IntegerType())\n",
    "    )\\\n",
    "    .withColumn(\n",
    "    \"price\",\n",
    "    f.regexp_replace('price', ',', '.')\n",
    "    )"
   ]
  },
  {
   "cell_type": "code",
   "execution_count": 28,
   "id": "b9fecd17",
   "metadata": {},
   "outputs": [],
   "source": [
    "price2020 = price2020\\\n",
    "    .withColumn(\n",
    "    \"price\",\n",
    "    price2020[\"price\"].cast(DoubleType())\n",
    "    )"
   ]
  },
  {
   "cell_type": "code",
   "execution_count": 29,
   "id": "7cd09a41",
   "metadata": {},
   "outputs": [
    {
     "name": "stdout",
     "output_type": "stream",
     "text": [
      "root\n",
      " |-- year: integer (nullable = true)\n",
      " |-- month: integer (nullable = true)\n",
      " |-- company: string (nullable = true)\n",
      " |-- origin: string (nullable = true)\n",
      " |-- destination: string (nullable = true)\n",
      " |-- price: double (nullable = true)\n",
      " |-- seats: integer (nullable = true)\n",
      "\n"
     ]
    }
   ],
   "source": [
    "price2020.printSchema()"
   ]
  },
  {
   "cell_type": "markdown",
   "id": "fc197b55",
   "metadata": {},
   "source": [
    "#### 2021"
   ]
  },
  {
   "cell_type": "code",
   "execution_count": 30,
   "id": "0beb49b0",
   "metadata": {},
   "outputs": [],
   "source": [
    "price2021 = price2021\\\n",
    "    .withColumn(\n",
    "    \"year\",\n",
    "    price2021[\"year\"].cast(IntegerType())\n",
    "    )\\\n",
    "    .withColumn(\n",
    "    \"month\",\n",
    "    price2021[\"month\"].cast(IntegerType())\n",
    "    )\\\n",
    "    .withColumn(\n",
    "    \"seats\",\n",
    "    price2021[\"seats\"].cast(IntegerType())\n",
    "    )\\\n",
    "    .withColumn(\n",
    "    \"price\",\n",
    "    f.regexp_replace('price', ',', '.')\n",
    "    )"
   ]
  },
  {
   "cell_type": "code",
   "execution_count": 31,
   "id": "f8919d9b",
   "metadata": {},
   "outputs": [],
   "source": [
    "price2021 = price2021\\\n",
    "    .withColumn(\n",
    "    \"price\",\n",
    "    price2021[\"price\"].cast(DoubleType())\n",
    "    )"
   ]
  },
  {
   "cell_type": "code",
   "execution_count": 32,
   "id": "b6dfd73a",
   "metadata": {},
   "outputs": [
    {
     "name": "stdout",
     "output_type": "stream",
     "text": [
      "root\n",
      " |-- year: integer (nullable = true)\n",
      " |-- month: integer (nullable = true)\n",
      " |-- company: string (nullable = true)\n",
      " |-- origin: string (nullable = true)\n",
      " |-- destination: string (nullable = true)\n",
      " |-- price: double (nullable = true)\n",
      " |-- seats: integer (nullable = true)\n",
      " |-- _c7: string (nullable = true)\n",
      "\n"
     ]
    }
   ],
   "source": [
    "price2021.printSchema()"
   ]
  },
  {
   "cell_type": "markdown",
   "id": "af542ac7",
   "metadata": {},
   "source": [
    "#### 2022"
   ]
  },
  {
   "cell_type": "code",
   "execution_count": 33,
   "id": "118fba90",
   "metadata": {},
   "outputs": [],
   "source": [
    "price2022 = price2022\\\n",
    "    .withColumn(\n",
    "    \"year\",\n",
    "    price2022[\"year\"].cast(IntegerType())\n",
    "    )\\\n",
    "    .withColumn(\n",
    "    \"month\",\n",
    "    price2022[\"month\"].cast(IntegerType())\n",
    "    )\\\n",
    "    .withColumn(\n",
    "    \"seats\",\n",
    "    price2022[\"seats\"].cast(IntegerType())\n",
    "    )\\\n",
    "    .withColumn(\n",
    "    \"price\",\n",
    "    f.regexp_replace('price', ',', '.')\n",
    "    )"
   ]
  },
  {
   "cell_type": "code",
   "execution_count": 34,
   "id": "acfe0a28",
   "metadata": {},
   "outputs": [],
   "source": [
    "price2022 = price2022\\\n",
    "    .withColumn(\n",
    "    \"price\",\n",
    "    price2022[\"price\"].cast(DoubleType())\n",
    "    )"
   ]
  },
  {
   "cell_type": "code",
   "execution_count": 35,
   "id": "9aeb91fb",
   "metadata": {},
   "outputs": [
    {
     "name": "stdout",
     "output_type": "stream",
     "text": [
      "root\n",
      " |-- year: integer (nullable = true)\n",
      " |-- month: integer (nullable = true)\n",
      " |-- company: string (nullable = true)\n",
      " |-- origin: string (nullable = true)\n",
      " |-- destination: string (nullable = true)\n",
      " |-- price: double (nullable = true)\n",
      " |-- seats: integer (nullable = true)\n",
      "\n"
     ]
    }
   ],
   "source": [
    "price2022.printSchema()"
   ]
  },
  {
   "cell_type": "markdown",
   "id": "51348253",
   "metadata": {},
   "source": [
    "## Codigo ICAO - JSON"
   ]
  },
  {
   "cell_type": "markdown",
   "id": "da2c645b",
   "metadata": {},
   "source": [
    "###  ICAO da Base de Dados faltando Aeroportos => Utilização de uma nova base de dados"
   ]
  },
  {
   "cell_type": "code",
   "execution_count": 36,
   "id": "5695017b",
   "metadata": {},
   "outputs": [],
   "source": [
    "pathIcaoJson = '/home/danilojpfreitas/Documentos/Data Engineer/Projeto/DataPipeline-TarifasAereas/data/icao/icao.csv'"
   ]
  },
  {
   "cell_type": "code",
   "execution_count": 37,
   "id": "a6fe6d0c",
   "metadata": {},
   "outputs": [],
   "source": [
    "icao = spark.read.csv(pathIcaoJson, sep=',', header=True)"
   ]
  },
  {
   "cell_type": "code",
   "execution_count": 38,
   "id": "a4b019f1",
   "metadata": {},
   "outputs": [
    {
     "name": "stdout",
     "output_type": "stream",
     "text": [
      "root\n",
      " |-- icao: string (nullable = true)\n",
      " |-- airport: string (nullable = true)\n",
      " |-- city: string (nullable = true)\n",
      " |-- state: string (nullable = true)\n",
      "\n"
     ]
    }
   ],
   "source": [
    "icao.printSchema()"
   ]
  },
  {
   "cell_type": "code",
   "execution_count": 39,
   "id": "7f96c586",
   "metadata": {},
   "outputs": [
    {
     "name": "stdout",
     "output_type": "stream",
     "text": [
      "+----+--------------------+----------------+-----+\n",
      "|icao|             airport|            city|state|\n",
      "+----+--------------------+----------------+-----+\n",
      "|SBFE|JOÃO DURVAL CARNEIRO|FEIRA DE SANTANA|   BA|\n",
      "|SSPB|         PATO BRANCO|     PATO BRANCO|   PR|\n",
      "|SBRG|          RIO GRANDE|      RIO GRANDE|   RS|\n",
      "|SBGU|TANCREDO THOMAS D...|      GUARAPUAVA|   PR|\n",
      "|SSOU|            ARIPUANÃ|        ARIPUANÃ|   MT|\n",
      "+----+--------------------+----------------+-----+\n",
      "\n"
     ]
    }
   ],
   "source": [
    "icao.limit(5).show()"
   ]
  },
  {
   "cell_type": "code",
   "execution_count": 40,
   "id": "27a52cfe",
   "metadata": {},
   "outputs": [
    {
     "name": "stdout",
     "output_type": "stream",
     "text": [
      "+----+----------------+-----+\n",
      "|icao|            city|state|\n",
      "+----+----------------+-----+\n",
      "|SBFE|FEIRA DE SANTANA|   BA|\n",
      "|SSPB|     PATO BRANCO|   PR|\n",
      "|SBRG|      RIO GRANDE|   RS|\n",
      "|SBGU|      GUARAPUAVA|   PR|\n",
      "|SSOU|        ARIPUANÃ|   MT|\n",
      "+----+----------------+-----+\n",
      "\n"
     ]
    }
   ],
   "source": [
    "icao.select(\"icao\", \"city\", \"state\").limit(5).show()"
   ]
  },
  {
   "cell_type": "code",
   "execution_count": 41,
   "id": "57cb2d81",
   "metadata": {},
   "outputs": [
    {
     "name": "stdout",
     "output_type": "stream",
     "text": [
      "+----+-------+----+-----+\n",
      "|icao|airport|city|state|\n",
      "+----+-------+----+-----+\n",
      "+----+-------+----+-----+\n",
      "\n"
     ]
    }
   ],
   "source": [
    "icao.where('icao==\"\"').show()"
   ]
  },
  {
   "cell_type": "markdown",
   "id": "4cbebb81",
   "metadata": {},
   "source": [
    "## Dados Estatisticos"
   ]
  },
  {
   "cell_type": "code",
   "execution_count": 148,
   "id": "aa7d2ab2",
   "metadata": {},
   "outputs": [],
   "source": [
    "pathEstatisticos = '/home/danilojpfreitas/Documentos/Data Engineer/Projeto/DataPipeline-TarifasAereas/data/statistic/Dados_Estatisticos.csv'"
   ]
  },
  {
   "cell_type": "code",
   "execution_count": 149,
   "id": "05917c58",
   "metadata": {},
   "outputs": [],
   "source": [
    "estatisticos = spark.read.csv(pathEstatisticos, sep=';', header=True)"
   ]
  },
  {
   "cell_type": "code",
   "execution_count": 150,
   "id": "842091b7",
   "metadata": {},
   "outputs": [
    {
     "name": "stdout",
     "output_type": "stream",
     "text": [
      "root\n",
      " |-- EMPRESA_SIGLA: string (nullable = true)\n",
      " |-- EMPRESA_NOME: string (nullable = true)\n",
      " |-- EMPRESA_NACIONALIDADE: string (nullable = true)\n",
      " |-- ANO: string (nullable = true)\n",
      " |-- MES: string (nullable = true)\n",
      " |-- AEROPORTO_DE_ORIGEM_SIGLA: string (nullable = true)\n",
      " |-- AEROPORTO_DE_ORIGEM_NOME: string (nullable = true)\n",
      " |-- AEROPORTO_DE_ORIGEM_UF: string (nullable = true)\n",
      " |-- AEROPORTO_DE_ORIGEM_REGIAO: string (nullable = true)\n",
      " |-- AEROPORTO_DE_ORIGEM_PAIS: string (nullable = true)\n",
      " |-- AEROPORTO_DE_ORIGEM_CONTINENTE: string (nullable = true)\n",
      " |-- AEROPORTO_DE_DESTINO_SIGLA: string (nullable = true)\n",
      " |-- AEROPORTO_DE_DESTINO_NOME: string (nullable = true)\n",
      " |-- AEROPORTO_DE_DESTINO_UF: string (nullable = true)\n",
      " |-- AEROPORTO_DE_DESTINO_REGIAO: string (nullable = true)\n",
      " |-- AEROPORTO_DE_DESTINO_PAIS: string (nullable = true)\n",
      " |-- AEROPORTO_DE_DESTINO_CONTINENTE: string (nullable = true)\n",
      " |-- NATUREZA: string (nullable = true)\n",
      " |-- GRUPO_DE_VOO: string (nullable = true)\n",
      " |-- PASSAGEIROS_PAGOS: string (nullable = true)\n",
      " |-- PASSAGEIROS_GRATIS: string (nullable = true)\n",
      " |-- CARGA_PAGA_KG: string (nullable = true)\n",
      " |-- CARGA_GRATIS_KG: string (nullable = true)\n",
      " |-- CORREIO_KG: string (nullable = true)\n",
      " |-- ASK: string (nullable = true)\n",
      " |-- RPK: string (nullable = true)\n",
      " |-- ATK: string (nullable = true)\n",
      " |-- RTK: string (nullable = true)\n",
      " |-- COMBUSTIVEL_LITROS: string (nullable = true)\n",
      " |-- DISTANCIA_VOADA_KM: string (nullable = true)\n",
      " |-- DECOLAGENS: string (nullable = true)\n",
      " |-- CARGA_PAGA_KM: string (nullable = true)\n",
      " |-- CARGA_GRATIS_KM: string (nullable = true)\n",
      " |-- CORREIO_KM: string (nullable = true)\n",
      " |-- ASSENTOS: string (nullable = true)\n",
      " |-- PAYLOAD: string (nullable = true)\n",
      " |-- HORAS_VOADAS: string (nullable = true)\n",
      " |-- BAGAGEM_KG: string (nullable = true)\n",
      "\n"
     ]
    }
   ],
   "source": [
    "estatisticos.printSchema()"
   ]
  },
  {
   "cell_type": "code",
   "execution_count": 151,
   "id": "80dc92ef",
   "metadata": {},
   "outputs": [],
   "source": [
    "estatisticos.createOrReplaceTempView('estatisticosSQLView')"
   ]
  },
  {
   "cell_type": "code",
   "execution_count": 152,
   "id": "845cdfa4",
   "metadata": {},
   "outputs": [],
   "source": [
    "estatisticosSelect = spark.sql(\"\"\"\n",
    "        SELECT\n",
    "        EMPRESA_SIGLA AS company,\n",
    "        EMPRESA_NOME AS companyName,\n",
    "        EMPRESA_NACIONALIDADE AS nationality,\n",
    "        ANO AS year,\n",
    "        MES AS month,\n",
    "        AEROPORTO_DE_ORIGEM_SIGLA AS origin,\n",
    "        AEROPORTO_DE_DESTINO_SIGLA AS destination,\n",
    "        DECOLAGENS AS takeOffs,\n",
    "        DISTANCIA_VOADA_KM AS distance,\n",
    "        ASSENTOS AS seats,\n",
    "        HORAS_VOADAS AS time,\n",
    "        PASSAGEIROS_PAGOS AS paidPassengers,\n",
    "        PASSAGEIROS_GRATIS AS noPaidPassengers\n",
    "        FROM\n",
    "        estatisticosSQLView\n",
    "\"\"\")"
   ]
  },
  {
   "cell_type": "code",
   "execution_count": 153,
   "id": "ace63758",
   "metadata": {},
   "outputs": [
    {
     "name": "stdout",
     "output_type": "stream",
     "text": [
      "+-------+--------------------+-----------+----+-----+------+-----------+--------+--------+-----+------+--------------+----------------+\n",
      "|company|         companyName|nationality|year|month|origin|destination|takeOffs|distance|seats|  time|paidPassengers|noPaidPassengers|\n",
      "+-------+--------------------+-----------+----+-----+------+-----------+--------+--------+-----+------+--------------+----------------+\n",
      "|    AAL|AMERICAN AIRLINES...|ESTRANGEIRA|2000|    1|  KDFW|       SBGR|      30|  247320| 6330|409,08|          3932|             142|\n",
      "|    AAL|AMERICAN AIRLINES...|ESTRANGEIRA|2000|    1|  KJFK|       SBGL|      29|  224141| 6119| 418,1|          2338|             131|\n",
      "|    AAL|AMERICAN AIRLINES...|ESTRANGEIRA|2000|    1|  KJFK|       SBGR|      29|  222256| 6119| 411,5|          2892|             127|\n",
      "|    AAL|AMERICAN AIRLINES...|ESTRANGEIRA|2000|    1|  KMIA|       SBCF|    null|    null| null|  null|           997|              20|\n",
      "|    AAL|AMERICAN AIRLINES...|ESTRANGEIRA|2000|    1|  KMIA|       SBGL|      31|  208227| 6541| 491,8|          3589|             133|\n",
      "+-------+--------------------+-----------+----+-----+------+-----------+--------+--------+-----+------+--------------+----------------+\n",
      "\n"
     ]
    }
   ],
   "source": [
    "estatisticosSelect.limit(5).show()"
   ]
  },
  {
   "cell_type": "code",
   "execution_count": 154,
   "id": "653b1063",
   "metadata": {},
   "outputs": [],
   "source": [
    "estatisticosSelect = estatisticosSelect\\\n",
    "    .withColumn(\n",
    "    \"year\",\n",
    "    estatisticosSelect[\"year\"].cast(IntegerType())\n",
    "    )\\\n",
    "    .withColumn(\n",
    "    \"month\",\n",
    "    estatisticosSelect[\"month\"].cast(IntegerType())\n",
    "    )\\\n",
    "    .withColumn(\n",
    "    \"takeOffs\",\n",
    "    estatisticosSelect[\"takeOffs\"].cast(IntegerType())\n",
    "    )\\\n",
    "    .withColumn(\n",
    "    \"distance\",\n",
    "    estatisticosSelect[\"distance\"].cast(IntegerType())\n",
    "    )\\\n",
    "    .withColumn(\n",
    "    \"seats\",\n",
    "    estatisticosSelect[\"seats\"].cast(IntegerType())\n",
    "    )\\\n",
    "    .withColumn(\n",
    "    \"time\",\n",
    "    f.regexp_replace('time', ',', '.')\n",
    "    )\\\n",
    "    .withColumn(\n",
    "    \"paidPassengers\",\n",
    "    estatisticosSelect[\"paidPassengers\"].cast(IntegerType())\n",
    "    )\\\n",
    "    .withColumn(\n",
    "    \"noPaidPassengers\",\n",
    "    estatisticosSelect[\"noPaidPassengers\"].cast(IntegerType())\n",
    "    )"
   ]
  },
  {
   "cell_type": "code",
   "execution_count": 155,
   "id": "6a022f2f",
   "metadata": {},
   "outputs": [
    {
     "name": "stdout",
     "output_type": "stream",
     "text": [
      "root\n",
      " |-- company: string (nullable = true)\n",
      " |-- companyName: string (nullable = true)\n",
      " |-- nationality: string (nullable = true)\n",
      " |-- year: integer (nullable = true)\n",
      " |-- month: integer (nullable = true)\n",
      " |-- origin: string (nullable = true)\n",
      " |-- destination: string (nullable = true)\n",
      " |-- takeOffs: integer (nullable = true)\n",
      " |-- distance: integer (nullable = true)\n",
      " |-- seats: integer (nullable = true)\n",
      " |-- time: string (nullable = true)\n",
      " |-- paidPassengers: integer (nullable = true)\n",
      " |-- noPaidPassengers: integer (nullable = true)\n",
      "\n"
     ]
    }
   ],
   "source": [
    "estatisticosSelect.printSchema()"
   ]
  },
  {
   "cell_type": "markdown",
   "id": "bba7f04a",
   "metadata": {},
   "source": [
    "# Carregamento na Processing Zone - Arquivos no Formato Parquet"
   ]
  },
  {
   "cell_type": "markdown",
   "id": "6235ec68",
   "metadata": {},
   "source": [
    "## Preço por ano das passagens"
   ]
  },
  {
   "cell_type": "markdown",
   "id": "4e2fbd64",
   "metadata": {},
   "source": [
    "#### 2019"
   ]
  },
  {
   "cell_type": "code",
   "execution_count": 109,
   "id": "43c7d710",
   "metadata": {},
   "outputs": [],
   "source": [
    "pathProcessingZone2019 = \"/home/danilojpfreitas/Documentos/Data Engineer/Projeto/DataPipeline-TarifasAereas/data/processing/2019\""
   ]
  },
  {
   "cell_type": "code",
   "execution_count": 110,
   "id": "cb211617",
   "metadata": {},
   "outputs": [
    {
     "name": "stderr",
     "output_type": "stream",
     "text": [
      "23/06/16 22:15:26 WARN MemoryManager: Total allocation exceeds 95,00% (1.020.054.720 bytes) of heap memory\n",
      "Scaling row group sizes to 95,00% for 8 writers\n",
      "                                                                                \r"
     ]
    }
   ],
   "source": [
    "price2019.write.parquet(\n",
    "    pathProcessingZone2019,\n",
    "    mode = 'overwrite'\n",
    ")"
   ]
  },
  {
   "cell_type": "code",
   "execution_count": 111,
   "id": "6ef8ed9b",
   "metadata": {},
   "outputs": [],
   "source": [
    "price2019Parquet = spark.read.parquet(\n",
    "    pathProcessingZone2019\n",
    ")"
   ]
  },
  {
   "cell_type": "code",
   "execution_count": 112,
   "id": "6aa3f905",
   "metadata": {},
   "outputs": [
    {
     "name": "stdout",
     "output_type": "stream",
     "text": [
      "+----+-----+-------+------+-----------+-----+-----+\n",
      "|year|month|company|origin|destination|price|seats|\n",
      "+----+-----+-------+------+-----------+-----+-----+\n",
      "|2019|    5|    AZU|  SBMO|       SBAE|558.9|    3|\n",
      "|2019|    5|    AZU|  SBMO|       SBAE|633.9|    3|\n",
      "|2019|    5|    AZU|  SBMO|       SBAE|648.9|    1|\n",
      "|2019|    5|    AZU|  SBMO|       SBAE|723.9|    2|\n",
      "|2019|    5|    AZU|  SBMO|       SBAE|773.9|    2|\n",
      "+----+-----+-------+------+-----------+-----+-----+\n",
      "\n"
     ]
    }
   ],
   "source": [
    "price2019Parquet.limit(5).show()"
   ]
  },
  {
   "cell_type": "code",
   "execution_count": 113,
   "id": "4531a5c1",
   "metadata": {},
   "outputs": [
    {
     "data": {
      "text/plain": [
       "62530"
      ]
     },
     "execution_count": 113,
     "metadata": {},
     "output_type": "execute_result"
    }
   ],
   "source": [
    "price2019Parquet.count()"
   ]
  },
  {
   "cell_type": "markdown",
   "id": "2fadc172",
   "metadata": {},
   "source": [
    "#### 2020"
   ]
  },
  {
   "cell_type": "code",
   "execution_count": 114,
   "id": "309028c7",
   "metadata": {},
   "outputs": [],
   "source": [
    "pathProcessingZone2020 = \"/home/danilojpfreitas/Documentos/Data Engineer/Projeto/DataPipeline-TarifasAereas/data/processing/2020\""
   ]
  },
  {
   "cell_type": "code",
   "execution_count": 115,
   "id": "a38dedc6",
   "metadata": {},
   "outputs": [
    {
     "name": "stderr",
     "output_type": "stream",
     "text": [
      "23/06/16 22:15:33 WARN MemoryManager: Total allocation exceeds 95,00% (1.020.054.720 bytes) of heap memory\n",
      "Scaling row group sizes to 95,00% for 8 writers\n",
      "                                                                                \r"
     ]
    }
   ],
   "source": [
    "price2020.write.parquet(\n",
    "    pathProcessingZone2020,\n",
    "    mode = 'overwrite'\n",
    ")"
   ]
  },
  {
   "cell_type": "code",
   "execution_count": 116,
   "id": "78249c1f",
   "metadata": {},
   "outputs": [],
   "source": [
    "price2020Parquet = spark.read.parquet(\n",
    "    pathProcessingZone2019\n",
    ")"
   ]
  },
  {
   "cell_type": "code",
   "execution_count": 117,
   "id": "892e6369",
   "metadata": {},
   "outputs": [
    {
     "name": "stdout",
     "output_type": "stream",
     "text": [
      "+----+-----+-------+------+-----------+-----+-----+\n",
      "|year|month|company|origin|destination|price|seats|\n",
      "+----+-----+-------+------+-----------+-----+-----+\n",
      "|2019|    5|    AZU|  SBMO|       SBAE|558.9|    3|\n",
      "|2019|    5|    AZU|  SBMO|       SBAE|633.9|    3|\n",
      "|2019|    5|    AZU|  SBMO|       SBAE|648.9|    1|\n",
      "|2019|    5|    AZU|  SBMO|       SBAE|723.9|    2|\n",
      "|2019|    5|    AZU|  SBMO|       SBAE|773.9|    2|\n",
      "+----+-----+-------+------+-----------+-----+-----+\n",
      "\n"
     ]
    }
   ],
   "source": [
    "price2020Parquet.limit(5).show()"
   ]
  },
  {
   "cell_type": "markdown",
   "id": "cec39aff",
   "metadata": {},
   "source": [
    "#### 2021"
   ]
  },
  {
   "cell_type": "code",
   "execution_count": 118,
   "id": "998b2d72",
   "metadata": {},
   "outputs": [],
   "source": [
    "pathProcessingZone2021 = \"/home/danilojpfreitas/Documentos/Data Engineer/Projeto/DataPipeline-TarifasAereas/data/processing/2021\""
   ]
  },
  {
   "cell_type": "code",
   "execution_count": 119,
   "id": "2ab92116",
   "metadata": {},
   "outputs": [
    {
     "name": "stderr",
     "output_type": "stream",
     "text": [
      "23/06/16 22:15:37 WARN MemoryManager: Total allocation exceeds 95,00% (1.020.054.720 bytes) of heap memory\n",
      "Scaling row group sizes to 95,00% for 8 writers\n",
      "23/06/16 22:15:38 WARN MemoryManager: Total allocation exceeds 95,00% (1.020.054.720 bytes) of heap memory\n",
      "Scaling row group sizes to 95,00% for 8 writers\n",
      "                                                                                \r"
     ]
    }
   ],
   "source": [
    "price2021.write.parquet(\n",
    "    pathProcessingZone2021,\n",
    "    mode = 'overwrite'\n",
    ")"
   ]
  },
  {
   "cell_type": "code",
   "execution_count": 120,
   "id": "f98e4df7",
   "metadata": {},
   "outputs": [],
   "source": [
    "price2021Parquet = spark.read.parquet(\n",
    "    pathProcessingZone2021\n",
    ")"
   ]
  },
  {
   "cell_type": "code",
   "execution_count": 121,
   "id": "70763d55",
   "metadata": {},
   "outputs": [
    {
     "name": "stdout",
     "output_type": "stream",
     "text": [
      "+----+-----+-------+------+-----------+-----+-----+----+\n",
      "|year|month|company|origin|destination|price|seats| _c7|\n",
      "+----+-----+-------+------+-----------+-----+-----+----+\n",
      "|2021|   11|    AZU|  SBMO|       SBAE|538.9|    2|null|\n",
      "|2021|   11|    AZU|  SBMO|       SBAE|557.9|    1|null|\n",
      "|2021|   11|    AZU|  SBMO|       SBAE|592.9|    1|null|\n",
      "|2021|   11|    AZU|  SBMO|       SBAE|697.9|    1|null|\n",
      "|2021|   11|    AZU|  SBMO|       SBAE|698.9|    1|null|\n",
      "+----+-----+-------+------+-----------+-----+-----+----+\n",
      "\n"
     ]
    }
   ],
   "source": [
    "price2021Parquet.limit(5).show()"
   ]
  },
  {
   "cell_type": "markdown",
   "id": "f8c51c17",
   "metadata": {},
   "source": [
    "#### 2022"
   ]
  },
  {
   "cell_type": "code",
   "execution_count": 122,
   "id": "6f31fc90",
   "metadata": {},
   "outputs": [],
   "source": [
    "pathProcessingZone2022 = \"/home/danilojpfreitas/Documentos/Data Engineer/Projeto/DataPipeline-TarifasAereas/data/processing/2022\""
   ]
  },
  {
   "cell_type": "code",
   "execution_count": 123,
   "id": "acbe646a",
   "metadata": {},
   "outputs": [
    {
     "name": "stderr",
     "output_type": "stream",
     "text": [
      "23/06/16 22:15:46 WARN MemoryManager: Total allocation exceeds 95,00% (1.020.054.720 bytes) of heap memory\n",
      "Scaling row group sizes to 95,00% for 8 writers\n",
      "                                                                                \r"
     ]
    }
   ],
   "source": [
    "price2022.write.parquet(\n",
    "    pathProcessingZone2022,\n",
    "    mode = 'overwrite'\n",
    ")"
   ]
  },
  {
   "cell_type": "code",
   "execution_count": 124,
   "id": "676c0f5c",
   "metadata": {},
   "outputs": [],
   "source": [
    "price2022Parquet = spark.read.parquet(\n",
    "    pathProcessingZone2022\n",
    ")"
   ]
  },
  {
   "cell_type": "code",
   "execution_count": 125,
   "id": "ff5c40ca",
   "metadata": {},
   "outputs": [
    {
     "name": "stdout",
     "output_type": "stream",
     "text": [
      "+----+-----+-------+------+-----------+-----+-----+\n",
      "|year|month|company|origin|destination|price|seats|\n",
      "+----+-----+-------+------+-----------+-----+-----+\n",
      "|2019|    5|    AZU|  SBMO|       SBAE|558.9|    3|\n",
      "|2019|    5|    AZU|  SBMO|       SBAE|633.9|    3|\n",
      "|2019|    5|    AZU|  SBMO|       SBAE|648.9|    1|\n",
      "|2019|    5|    AZU|  SBMO|       SBAE|723.9|    2|\n",
      "|2019|    5|    AZU|  SBMO|       SBAE|773.9|    2|\n",
      "+----+-----+-------+------+-----------+-----+-----+\n",
      "\n"
     ]
    }
   ],
   "source": [
    "price2022Parquet.limit(5).show()"
   ]
  },
  {
   "cell_type": "markdown",
   "id": "9c2aa854",
   "metadata": {},
   "source": [
    "## Distância entre Maceió e outras capitais"
   ]
  },
  {
   "cell_type": "code",
   "execution_count": 126,
   "id": "53a57d10",
   "metadata": {},
   "outputs": [],
   "source": [
    "distParquet = \"/home/danilojpfreitas/Documentos/Data Engineer/Projeto/DataPipeline-TarifasAereas/data/processing/distancia\""
   ]
  },
  {
   "cell_type": "code",
   "execution_count": 127,
   "id": "374fed05",
   "metadata": {},
   "outputs": [],
   "source": [
    "dist.write.parquet(\n",
    "    distParquet,\n",
    "    mode = 'overwrite'\n",
    ")"
   ]
  },
  {
   "cell_type": "code",
   "execution_count": 128,
   "id": "877931b7",
   "metadata": {},
   "outputs": [],
   "source": [
    "dist_parquet = spark.read.parquet(distParquet)"
   ]
  },
  {
   "cell_type": "code",
   "execution_count": 129,
   "id": "9df80f01",
   "metadata": {},
   "outputs": [
    {
     "name": "stdout",
     "output_type": "stream",
     "text": [
      "+--------------+-----------+--------+\n",
      "|          city|distHighway|distLine|\n",
      "+--------------+-----------+--------+\n",
      "|    Rio Branco|       5063|    3513|\n",
      "|        Macapa|       3545|    2011|\n",
      "|        Manaus|       5444|    2779|\n",
      "|      Salvador|        578|     476|\n",
      "|     Fortaleza|        965|     731|\n",
      "|      Brasilia|       1920|    1487|\n",
      "|       Vitoria|       1611|    1282|\n",
      "|       Goiania|       2119|    1658|\n",
      "|      Sao Luis|       1584|    1236|\n",
      "|        Cuiaba|       3111|    2304|\n",
      "|  Campo Grande|       2830|    2355|\n",
      "|Belo Horizonte|       1855|    1443|\n",
      "|         Belem|       2059|    1682|\n",
      "|   Joao Pessoa|        371|     300|\n",
      "|      Curitiba|       2805|    2263|\n",
      "|        Recife|        257|     203|\n",
      "|      Teresina|       1155|     931|\n",
      "|      Teresina|       2071|    1674|\n",
      "|         Natal|        539|     435|\n",
      "|  Porto Alegre|       3531|    2778|\n",
      "+--------------+-----------+--------+\n",
      "only showing top 20 rows\n",
      "\n"
     ]
    }
   ],
   "source": [
    "dist_parquet.show()"
   ]
  },
  {
   "cell_type": "markdown",
   "id": "bc8ed961",
   "metadata": {},
   "source": [
    "## Codigo ICAO - JSON"
   ]
  },
  {
   "cell_type": "code",
   "execution_count": 130,
   "id": "11cd8331",
   "metadata": {},
   "outputs": [],
   "source": [
    "icaoParquet = \"/home/danilojpfreitas/Documentos/Data Engineer/Projeto/DataPipeline-TarifasAereas/data/processing/icao\""
   ]
  },
  {
   "cell_type": "code",
   "execution_count": 131,
   "id": "b756417b",
   "metadata": {},
   "outputs": [],
   "source": [
    "icao.write.parquet(\n",
    "    icaoParquet,\n",
    "    mode = 'overwrite'\n",
    ")"
   ]
  },
  {
   "cell_type": "code",
   "execution_count": 132,
   "id": "11298ebc",
   "metadata": {},
   "outputs": [],
   "source": [
    "icao_parquet = spark.read.parquet(\n",
    "    icaoParquet\n",
    ")"
   ]
  },
  {
   "cell_type": "code",
   "execution_count": 133,
   "id": "8605bc64",
   "metadata": {},
   "outputs": [
    {
     "name": "stdout",
     "output_type": "stream",
     "text": [
      "+----+--------------------+--------------------+-----+\n",
      "|icao|             airport|                city|state|\n",
      "+----+--------------------+--------------------+-----+\n",
      "|SBFE|JOÃO DURVAL CARNEIRO|    FEIRA DE SANTANA|   BA|\n",
      "|SSPB|         PATO BRANCO|         PATO BRANCO|   PR|\n",
      "|SBRG|          RIO GRANDE|          RIO GRANDE|   RS|\n",
      "|SBGU|TANCREDO THOMAS D...|          GUARAPUAVA|   PR|\n",
      "|SSOU|            ARIPUANÃ|            ARIPUANÃ|   MT|\n",
      "|SBSI|   FAZENDA ITAGUASSU|            MARACAJU|   MS|\n",
      "|SWSI|PRESIDENTE JOÃO B...|              SINOPE|   MG|\n",
      "|SBQV|PEDRO OTACÍLIO FI...|VITÓRIA DA CONQUISTA|   BA|\n",
      "|SBAA|CONCEIÇÃO DO ARAG...|CONCEIÇÃO DO ARAG...|   PA|\n",
      "|SBAE|       BAURU/AREALVA|               BAURU|   SP|\n",
      "|SBAQ|BARTOLOMEU DE GUSMÃO|          ARARAQUARA|   SP|\n",
      "|SBAR|         SANTA MARIA|             ARACAJU|   SE|\n",
      "|SBAT|PILOTO OSVALDO MA...|       ALTA FLORESTA|   MT|\n",
      "|SBAU|           ARAÇATUBA|           ARAÇATUBA|   SP|\n",
      "|SBAX|          ROMEU ZEMA|               ARAXÁ|   MG|\n",
      "|SBBE|INTERNACIONAL DE ...|               BELÉM|   PA|\n",
      "|SBBG|COMANDANTE GUSTAV...|                BAGÉ|   RS|\n",
      "|SBBH|PAMPULHA - CARLOS...|      BELO HORIZONTE|   MG|\n",
      "|SBBI|           BACACHERI|            CURITIBA|   PR|\n",
      "|SBBP|ESTADUAL ARTHUR S...|   BRAGANÇA PAULISTA|   SP|\n",
      "+----+--------------------+--------------------+-----+\n",
      "only showing top 20 rows\n",
      "\n"
     ]
    }
   ],
   "source": [
    "icao_parquet.show()"
   ]
  },
  {
   "cell_type": "markdown",
   "id": "258a890d",
   "metadata": {},
   "source": [
    "## Dados Estatisticos"
   ]
  },
  {
   "cell_type": "code",
   "execution_count": 177,
   "id": "f796cfe2",
   "metadata": {},
   "outputs": [
    {
     "data": {
      "text/plain": [
       "969277"
      ]
     },
     "execution_count": 177,
     "metadata": {},
     "output_type": "execute_result"
    }
   ],
   "source": [
    "estatisticosSelect.count()"
   ]
  },
  {
   "cell_type": "code",
   "execution_count": 157,
   "id": "6c180322",
   "metadata": {},
   "outputs": [
    {
     "name": "stdout",
     "output_type": "stream",
     "text": [
      "+-------+--------------------+-----------+----+-----+------+-----------+--------+--------+-----+-------+--------------+----------------+\n",
      "|company|         companyName|nationality|year|month|origin|destination|takeOffs|distance|seats|   time|paidPassengers|noPaidPassengers|\n",
      "+-------+--------------------+-----------+----+-----+------+-----------+--------+--------+-----+-------+--------------+----------------+\n",
      "|    AAL|AMERICAN AIRLINES...|ESTRANGEIRA|2000|    1|  KDFW|       SBGR|      30|  247320| 6330| 409.08|          3932|             142|\n",
      "|    AAL|AMERICAN AIRLINES...|ESTRANGEIRA|2000|    1|  KJFK|       SBGL|      29|  224141| 6119|  418.1|          2338|             131|\n",
      "|    AAL|AMERICAN AIRLINES...|ESTRANGEIRA|2000|    1|  KJFK|       SBGR|      29|  222256| 6119|  411.5|          2892|             127|\n",
      "|    AAL|AMERICAN AIRLINES...|ESTRANGEIRA|2000|    1|  KMIA|       SBCF|    null|    null| null|   null|           997|              20|\n",
      "|    AAL|AMERICAN AIRLINES...|ESTRANGEIRA|2000|    1|  KMIA|       SBGL|      31|  208227| 6541|  491.8|          3589|             133|\n",
      "|    AAL|AMERICAN AIRLINES...|ESTRANGEIRA|2000|    1|  KMIA|       SBGR|      60|  394440|12660| 937.99|          8147|             204|\n",
      "|    AAL|AMERICAN AIRLINES...|ESTRANGEIRA|2000|    1|  KMIA|       SGAS|    null|    null| null|   null|           574|              29|\n",
      "|    AAL|AMERICAN AIRLINES...|ESTRANGEIRA|2000|    1|  KMIA|       SUMU|    null|    null| null|   null|           707|              39|\n",
      "|    AAL|AMERICAN AIRLINES...|ESTRANGEIRA|2000|    1|  SBCF|       KMIA|    null|    null| null|   null|          1017|              12|\n",
      "|    AAL|AMERICAN AIRLINES...|ESTRANGEIRA|2000|    1|  SBCF|       SBGL|      31|   11222| 6541| 723.99|            31|              28|\n",
      "|    AAL|AMERICAN AIRLINES...|ESTRANGEIRA|2000|    1|  SBGL|       KJFK|      30|  231870| 6330| 440.01|          3440|             267|\n",
      "|    AAL|AMERICAN AIRLINES...|ESTRANGEIRA|2000|    1|  SBGL|       KMIA|      31|  208227| 6541| 495.26|          4417|             253|\n",
      "|    AAL|AMERICAN AIRLINES...|ESTRANGEIRA|2000|    1|  SBGL|       SBCF|      31|   11222| 6541| 722.15|             0|              14|\n",
      "|    AAL|AMERICAN AIRLINES...|ESTRANGEIRA|2000|    1|  SBGR|       KDFW|      31|  255564| 6541| 456.84|          5016|             161|\n",
      "|    AAL|AMERICAN AIRLINES...|ESTRANGEIRA|2000|    1|  SBGR|       KJFK|      29|  222256| 6119| 422.04|          3699|             202|\n",
      "|    AAL|AMERICAN AIRLINES...|ESTRANGEIRA|2000|    1|  SBGR|       KMIA|     119|  782306|25109|1862.36|         14835|             594|\n",
      "|    AAL|AMERICAN AIRLINES...|ESTRANGEIRA|2000|    1|  SBGR|       SGAS|      31|   35247| 6541| 725.03|          1442|              38|\n",
      "|    AAL|AMERICAN AIRLINES...|ESTRANGEIRA|2000|    1|  SBGR|       SUMU|      31|   48670| 6541| 707.98|          1593|              86|\n",
      "|    AAL|AMERICAN AIRLINES...|ESTRANGEIRA|2000|    1|  SGAS|       KMIA|    null|    null| null|   null|           657|              32|\n",
      "|    AAL|AMERICAN AIRLINES...|ESTRANGEIRA|2000|    1|  SGAS|       SBGR|      30|   34110| 6330| 631.41|          2130|              93|\n",
      "+-------+--------------------+-----------+----+-----+------+-----------+--------+--------+-----+-------+--------------+----------------+\n",
      "only showing top 20 rows\n",
      "\n"
     ]
    }
   ],
   "source": [
    "estatisticosSelect.show()"
   ]
  },
  {
   "cell_type": "code",
   "execution_count": 147,
   "id": "387123b3",
   "metadata": {},
   "outputs": [
    {
     "name": "stdout",
     "output_type": "stream",
     "text": [
      "+-------+--------------------+-----------+----+-----+------+-----------+--------+--------+-----+-------+--------------+----------------+\n",
      "|company|         companyName|nationality|year|month|origin|destination|takeOffs|distance|seats|   time|paidPassengers|noPaidPassengers|\n",
      "+-------+--------------------+-----------+----+-----+------+-----------+--------+--------+-----+-------+--------------+----------------+\n",
      "|    AAL|AMERICAN AIRLINES...|ESTRANGEIRA|2000|    1|  KDFW|       SBGR|      30|  247320| 6330| 409.08|          3932|             142|\n",
      "|    AAL|AMERICAN AIRLINES...|ESTRANGEIRA|2000|    1|  KJFK|       SBGL|      29|  224141| 6119|  418.1|          2338|             131|\n",
      "|    AAL|AMERICAN AIRLINES...|ESTRANGEIRA|2000|    1|  KJFK|       SBGR|      29|  222256| 6119|  411.5|          2892|             127|\n",
      "|    AAL|AMERICAN AIRLINES...|ESTRANGEIRA|2000|    1|  KMIA|       SBGL|      31|  208227| 6541|  491.8|          3589|             133|\n",
      "|    AAL|AMERICAN AIRLINES...|ESTRANGEIRA|2000|    1|  KMIA|       SBGR|      60|  394440|12660| 937.99|          8147|             204|\n",
      "|    AAL|AMERICAN AIRLINES...|ESTRANGEIRA|2000|    1|  SBCF|       SBGL|      31|   11222| 6541| 723.99|            31|              28|\n",
      "|    AAL|AMERICAN AIRLINES...|ESTRANGEIRA|2000|    1|  SBGL|       KJFK|      30|  231870| 6330| 440.01|          3440|             267|\n",
      "|    AAL|AMERICAN AIRLINES...|ESTRANGEIRA|2000|    1|  SBGL|       KMIA|      31|  208227| 6541| 495.26|          4417|             253|\n",
      "|    AAL|AMERICAN AIRLINES...|ESTRANGEIRA|2000|    1|  SBGL|       SBCF|      31|   11222| 6541| 722.15|             0|              14|\n",
      "|    AAL|AMERICAN AIRLINES...|ESTRANGEIRA|2000|    1|  SBGR|       KDFW|      31|  255564| 6541| 456.84|          5016|             161|\n",
      "|    AAL|AMERICAN AIRLINES...|ESTRANGEIRA|2000|    1|  SBGR|       KJFK|      29|  222256| 6119| 422.04|          3699|             202|\n",
      "|    AAL|AMERICAN AIRLINES...|ESTRANGEIRA|2000|    1|  SBGR|       KMIA|     119|  782306|25109|1862.36|         14835|             594|\n",
      "|    AAL|AMERICAN AIRLINES...|ESTRANGEIRA|2000|    1|  SBGR|       SGAS|      31|   35247| 6541| 725.03|          1442|              38|\n",
      "|    AAL|AMERICAN AIRLINES...|ESTRANGEIRA|2000|    1|  SBGR|       SUMU|      31|   48670| 6541| 707.98|          1593|              86|\n",
      "|    AAL|AMERICAN AIRLINES...|ESTRANGEIRA|2000|    1|  SGAS|       SBGR|      30|   34110| 6330| 631.41|          2130|              93|\n",
      "|    AAL|AMERICAN AIRLINES...|ESTRANGEIRA|2000|    1|  SSUM|       SBGR|       1|     698|  211|  20.77|            76|               3|\n",
      "|    AAL|AMERICAN AIRLINES...|ESTRANGEIRA|2000|    1|  SUMU|       SBGR|      29|   45530| 6119| 606.98|          2917|             121|\n",
      "|    AAL|AMERICAN AIRLINES...|ESTRANGEIRA|2000|    2|  KDFW|       SBGR|      26|  214344| 5486| 358.12|          3850|             159|\n",
      "|    AAL|AMERICAN AIRLINES...|ESTRANGEIRA|2000|    2|  KJFK|       SBGL|      27|  208683| 5697| 380.65|          2455|             170|\n",
      "|    AAL|AMERICAN AIRLINES...|ESTRANGEIRA|2000|    2|  KJFK|       SBGR|      28|  214592| 5908| 404.46|          2647|             125|\n",
      "+-------+--------------------+-----------+----+-----+------+-----------+--------+--------+-----+-------+--------------+----------------+\n",
      "only showing top 20 rows\n",
      "\n"
     ]
    }
   ],
   "source": [
    "estatisticosSelect.where('year == 2000').show()"
   ]
  },
  {
   "cell_type": "code",
   "execution_count": 175,
   "id": "959c9497",
   "metadata": {},
   "outputs": [],
   "source": [
    "estatisticos2019To2022MCZ = estatisticosSelect.where('year >= 2019').where('year <= 2022').where('origin == \"SBMO\"')"
   ]
  },
  {
   "cell_type": "code",
   "execution_count": 176,
   "id": "c47d4281",
   "metadata": {},
   "outputs": [
    {
     "name": "stderr",
     "output_type": "stream",
     "text": [
      "\r",
      "[Stage 119:=======>                                                 (1 + 7) / 8]\r",
      "\r",
      "                                                                                \r"
     ]
    },
    {
     "data": {
      "text/plain": [
       "1447"
      ]
     },
     "execution_count": 176,
     "metadata": {},
     "output_type": "execute_result"
    }
   ],
   "source": [
    "estatisticos2019To2022MCZ.count()"
   ]
  },
  {
   "cell_type": "code",
   "execution_count": 179,
   "id": "0cdbdf39",
   "metadata": {},
   "outputs": [],
   "source": [
    "estatisticosParquet = '/home/danilojpfreitas/Documentos/Data Engineer/Projeto/DataPipeline-TarifasAereas/data/processing/estatisticos'"
   ]
  },
  {
   "cell_type": "code",
   "execution_count": 180,
   "id": "3b64473c",
   "metadata": {},
   "outputs": [
    {
     "name": "stderr",
     "output_type": "stream",
     "text": [
      "                                                                                \r"
     ]
    }
   ],
   "source": [
    "estatisticos2019To2022MCZ.write.parquet(\n",
    "    estatisticosParquet,\n",
    "    mode = 'overwrite'\n",
    ")"
   ]
  },
  {
   "cell_type": "code",
   "execution_count": 181,
   "id": "438734da",
   "metadata": {},
   "outputs": [],
   "source": [
    "estatisticosParquet = spark.read.parquet(\n",
    "    estatisticosParquet\n",
    ")"
   ]
  },
  {
   "cell_type": "code",
   "execution_count": 182,
   "id": "630b74d3",
   "metadata": {},
   "outputs": [
    {
     "name": "stdout",
     "output_type": "stream",
     "text": [
      "+-------+--------------------+-----------+----+-----+------+-----------+--------+--------+-----+-------+--------------+----------------+\n",
      "|company|         companyName|nationality|year|month|origin|destination|takeOffs|distance|seats|   time|paidPassengers|noPaidPassengers|\n",
      "+-------+--------------------+-----------+----+-----+------+-----------+--------+--------+-----+-------+--------------+----------------+\n",
      "|    TAM|TAM LINHAS AÉREAS...| BRASILEIRA|2019|   11|  SBMO|       SBBR|      60|   89580|11512| 140.46|          9467|              42|\n",
      "|    TAM|TAM LINHAS AÉREAS...| BRASILEIRA|2019|   11|  SBMO|       SBGR|     141|  270720|27208| 419.36|         22874|             202|\n",
      "|    TAM|TAM LINHAS AÉREAS...| BRASILEIRA|2019|   11|  SBMO|       SBPA|       5|   13910|  882|  20.01|           743|               0|\n",
      "|    TAM|TAM LINHAS AÉREAS...| BRASILEIRA|2019|   11|  SBMO|       SBRP|       1|    1821|  162|   3.27|             0|               0|\n",
      "|    TAM|TAM LINHAS AÉREAS...| BRASILEIRA|2019|   11|  SBMO|       SBSP|       5|    9740|  858|  14.42|           728|               4|\n",
      "|    TAM|TAM LINHAS AÉREAS...| BRASILEIRA|2019|   11|  SBMO|       SBSV|       2|     936|  394|   2.48|             0|               0|\n",
      "|    TAM|TAM LINHAS AÉREAS...| BRASILEIRA|2019|   12|  SBMO|       SBBR|      62|   92566|13496| 144.47|          9041|              62|\n",
      "|    TAM|TAM LINHAS AÉREAS...| BRASILEIRA|2019|   12|  SBMO|       SBGR|     164|  314880|32154| 491.92|         26224|             195|\n",
      "|    TAM|TAM LINHAS AÉREAS...| BRASILEIRA|2019|   12|  SBMO|       SBPA|       4|   11128|  702|  15.46|           590|               0|\n",
      "|    TAM|TAM LINHAS AÉREAS...| BRASILEIRA|2019|   12|  SBMO|       SBSP|       3|    5844|  540|   9.02|           331|               0|\n",
      "|    TAM|TAM LINHAS AÉREAS...| BRASILEIRA|2019|   12|  SBMO|       SBSP|       4|    7792|  714|  11.98|           452|               1|\n",
      "|    TAM|TAM LINHAS AÉREAS...| BRASILEIRA|2019|   12|  SBMO|       SBSV|       1|     468|  174|   1.02|             0|               0|\n",
      "|    ACN|AZUL CONECTA LTDA...| BRASILEIRA|2020|    4|  SBMO|       SBAR|       5|    1080|    0|5.43333|             0|               0|\n",
      "|    ACN|AZUL CONECTA LTDA...| BRASILEIRA|2020|    4|  SBMO|       SBCF|    null|    null| null|   null|             0|               0|\n",
      "|    ACN|AZUL CONECTA LTDA...| BRASILEIRA|2020|    4|  SBMO|       SBPS|    null|    null| null|   null|             0|               0|\n",
      "|    ACN|AZUL CONECTA LTDA...| BRASILEIRA|2020|    4|  SBMO|       SBSV|    null|    null| null|   null|             0|               0|\n",
      "|    ACN|AZUL CONECTA LTDA...| BRASILEIRA|2020|    4|  SBMO|       SBVC|    null|    null| null|   null|             0|               0|\n",
      "|    ACN|AZUL CONECTA LTDA...| BRASILEIRA|2020|    5|  SBMO|       SBAR|       2|     432|    0|    2.1|             0|               0|\n",
      "|    ACN|AZUL CONECTA LTDA...| BRASILEIRA|2020|    5|  SBMO|       SBCF|    null|    null| null|   null|             0|               0|\n",
      "|    ACN|AZUL CONECTA LTDA...| BRASILEIRA|2020|    5|  SBMO|       SBKG|       1|     250|    9|1.11667|             2|               0|\n",
      "+-------+--------------------+-----------+----+-----+------+-----------+--------+--------+-----+-------+--------------+----------------+\n",
      "only showing top 20 rows\n",
      "\n"
     ]
    }
   ],
   "source": [
    "estatisticosParquet.show()"
   ]
  },
  {
   "cell_type": "code",
   "execution_count": 183,
   "id": "5349d48e",
   "metadata": {},
   "outputs": [
    {
     "data": {
      "text/plain": [
       "1447"
      ]
     },
     "execution_count": 183,
     "metadata": {},
     "output_type": "execute_result"
    }
   ],
   "source": [
    "estatisticosParquet.count()"
   ]
  },
  {
   "cell_type": "markdown",
   "id": "d6b78fa5",
   "metadata": {},
   "source": [
    "# Análise dos Dados"
   ]
  },
  {
   "cell_type": "markdown",
   "id": "4f668046",
   "metadata": {},
   "source": [
    "## Views"
   ]
  },
  {
   "cell_type": "code",
   "execution_count": 166,
   "id": "3a79d2fc",
   "metadata": {},
   "outputs": [],
   "source": [
    "price2019Parquet.createOrReplaceTempView(\"2019View\")\n",
    "price2020Parquet.createOrReplaceTempView(\"2020View\")\n",
    "price2021Parquet.createOrReplaceTempView(\"2021View\")\n",
    "price2022Parquet.createOrReplaceTempView(\"2022View\")"
   ]
  },
  {
   "cell_type": "code",
   "execution_count": 167,
   "id": "85f1af0c",
   "metadata": {},
   "outputs": [
    {
     "name": "stdout",
     "output_type": "stream",
     "text": [
      "+----+-----+-------+------+-----------+-----+-----+\n",
      "|year|month|company|origin|destination|price|seats|\n",
      "+----+-----+-------+------+-----------+-----+-----+\n",
      "|2019|    5|    AZU|  SBMO|       SBAE|558.9|    3|\n",
      "|2019|    5|    AZU|  SBMO|       SBAE|633.9|    3|\n",
      "|2019|    5|    AZU|  SBMO|       SBAE|648.9|    1|\n",
      "|2019|    5|    AZU|  SBMO|       SBAE|723.9|    2|\n",
      "|2019|    5|    AZU|  SBMO|       SBAE|773.9|    2|\n",
      "+----+-----+-------+------+-----------+-----+-----+\n",
      "only showing top 5 rows\n",
      "\n"
     ]
    }
   ],
   "source": [
    "spark.sql(\"SELECT * FROM 2019View\").show(5)"
   ]
  },
  {
   "cell_type": "code",
   "execution_count": 168,
   "id": "5cf395c1",
   "metadata": {},
   "outputs": [
    {
     "name": "stdout",
     "output_type": "stream",
     "text": [
      "+-----------+-------------+\n",
      "|destination|count(origin)|\n",
      "+-----------+-------------+\n",
      "|       SBGR|         8240|\n",
      "|       SBBR|         4852|\n",
      "|       SBGL|         3411|\n",
      "|       SBPA|         3011|\n",
      "|       SBKP|         2938|\n",
      "|       SBCF|         2925|\n",
      "|       SBCT|         2370|\n",
      "|       SBSP|         2266|\n",
      "|       SBRJ|         1857|\n",
      "|       SBCG|         1823|\n",
      "|       SBFL|         1794|\n",
      "|       SBSV|         1630|\n",
      "|       SBGO|         1539|\n",
      "|       SBCY|         1527|\n",
      "|       SBRP|         1314|\n",
      "|       SBEG|         1232|\n",
      "|       SBLO|         1208|\n",
      "|       SBVT|         1197|\n",
      "|       SBSR|         1135|\n",
      "|       SBRF|         1018|\n",
      "|       SBPV|         1016|\n",
      "|       SBBE|          931|\n",
      "|       SBFZ|          928|\n",
      "|       SBUL|          861|\n",
      "|       SBFI|          778|\n",
      "|       SBNF|          729|\n",
      "|       SBRB|          703|\n",
      "|       SBSL|          665|\n",
      "|       SBTE|          621|\n",
      "|       SBPJ|          518|\n",
      "|       SBSG|          513|\n",
      "|       SBMG|          430|\n",
      "|       SBJV|          426|\n",
      "|       SBCH|          388|\n",
      "|       SBMQ|          366|\n",
      "|       SBBV|          307|\n",
      "|       SBDN|          279|\n",
      "|       SBIZ|          265|\n",
      "|       SBMA|          244|\n",
      "|       SBAU|          220|\n",
      "|       SBJP|          194|\n",
      "|       SBPL|          194|\n",
      "|       SBAE|          190|\n",
      "|       SBCA|          181|\n",
      "|       SBAR|          169|\n",
      "|       SBSN|          154|\n",
      "|       SBMK|          153|\n",
      "|       SBIL|          153|\n",
      "|       SBPF|          139|\n",
      "|       SBJA|          135|\n",
      "|       SBUR|          134|\n",
      "|       SBML|          123|\n",
      "|       SBQV|          119|\n",
      "|       SBPS|          106|\n",
      "|       SBCX|          104|\n",
      "|       SBMS|           94|\n",
      "|       SBTG|           91|\n",
      "|       SWLC|           85|\n",
      "|       SBJI|           84|\n",
      "|       SWSI|           80|\n",
      "|       SBJU|           79|\n",
      "|       SBZM|           70|\n",
      "|       SBFN|           68|\n",
      "|       SBDO|           68|\n",
      "|       SSKW|           65|\n",
      "|       SBCZ|           64|\n",
      "|       SBIP|           54|\n",
      "|       SBPK|           52|\n",
      "|       SNBR|           52|\n",
      "|       SBHT|           52|\n",
      "|       SBVH|           52|\n",
      "|       SBAT|           48|\n",
      "|       SBSI|           47|\n",
      "|       SBRD|           39|\n",
      "|       SBSM|           35|\n",
      "|       SBUG|           33|\n",
      "|       SBGV|           33|\n",
      "|       SBKG|           27|\n",
      "|       SBPG|           27|\n",
      "|       SWGN|           27|\n",
      "|       SBLJ|           26|\n",
      "|       SBCJ|           25|\n",
      "|       SNTF|           24|\n",
      "|       SBCR|           23|\n",
      "|       SBNM|           22|\n",
      "|       SBCP|           20|\n",
      "|       SSPB|           20|\n",
      "|       SBVG|           18|\n",
      "|       SBVC|           17|\n",
      "|       SBSO|           16|\n",
      "|       SBBW|           13|\n",
      "|       SBTT|           13|\n",
      "|       SBAC|           12|\n",
      "|       SBAQ|           10|\n",
      "|       SBBG|           10|\n",
      "|       SBCB|            9|\n",
      "|       SBTD|            9|\n",
      "|       SBAX|            9|\n",
      "|       SBDB|            9|\n",
      "|       SSSB|            7|\n",
      "|       SSZR|            6|\n",
      "|       SSKM|            6|\n",
      "|       SBME|            6|\n",
      "|       SSCT|            6|\n",
      "|       SNBA|            5|\n",
      "|       SBRG|            5|\n",
      "|       SSFB|            5|\n",
      "|       SBCN|            4|\n",
      "|       SBGU|            4|\n",
      "|       SSUV|            3|\n",
      "|       SBLE|            3|\n",
      "|       SBFE|            3|\n",
      "|       SSGY|            2|\n",
      "|       SBJE|            2|\n",
      "|       SSPI|            2|\n",
      "|       SBTF|            2|\n",
      "|       SSVL|            2|\n",
      "|       SSOG|            1|\n",
      "|       SIMK|            1|\n",
      "|       SBSJ|            1|\n",
      "+-----------+-------------+\n",
      "\n"
     ]
    }
   ],
   "source": [
    "spark.sql(\"\"\"\n",
    "        SELECT \n",
    "        destination, count(origin)\n",
    "        FROM\n",
    "        2019View\n",
    "        GROUP BY destination\n",
    "        ORDER BY count(origin) DESC;\n",
    "        \"\"\").show(1000)"
   ]
  },
  {
   "cell_type": "code",
   "execution_count": 169,
   "id": "1408ccec",
   "metadata": {},
   "outputs": [],
   "source": [
    "icao_parquet.createOrReplaceTempView(\"icaoView\")"
   ]
  },
  {
   "cell_type": "code",
   "execution_count": 170,
   "id": "769c6528",
   "metadata": {},
   "outputs": [
    {
     "name": "stdout",
     "output_type": "stream",
     "text": [
      "+----+--------------------+--------------------+-----+\n",
      "|icao|             airport|                city|state|\n",
      "+----+--------------------+--------------------+-----+\n",
      "|SBFE|JOÃO DURVAL CARNEIRO|    FEIRA DE SANTANA|   BA|\n",
      "|SSPB|         PATO BRANCO|         PATO BRANCO|   PR|\n",
      "|SBRG|          RIO GRANDE|          RIO GRANDE|   RS|\n",
      "|SBGU|TANCREDO THOMAS D...|          GUARAPUAVA|   PR|\n",
      "|SSOU|            ARIPUANÃ|            ARIPUANÃ|   MT|\n",
      "|SBSI|   FAZENDA ITAGUASSU|            MARACAJU|   MS|\n",
      "|SWSI|PRESIDENTE JOÃO B...|              SINOPE|   MG|\n",
      "|SBQV|PEDRO OTACÍLIO FI...|VITÓRIA DA CONQUISTA|   BA|\n",
      "|SBAA|CONCEIÇÃO DO ARAG...|CONCEIÇÃO DO ARAG...|   PA|\n",
      "|SBAE|       BAURU/AREALVA|               BAURU|   SP|\n",
      "+----+--------------------+--------------------+-----+\n",
      "only showing top 10 rows\n",
      "\n"
     ]
    }
   ],
   "source": [
    "spark.sql(\"\"\"\n",
    "        SELECT \n",
    "        *\n",
    "        FROM\n",
    "        icaoView;\n",
    "        \"\"\").show(10)"
   ]
  },
  {
   "cell_type": "code",
   "execution_count": 171,
   "id": "3d4a36a8",
   "metadata": {},
   "outputs": [],
   "source": [
    "dist_parquet.createOrReplaceTempView(\"distView\")"
   ]
  },
  {
   "cell_type": "code",
   "execution_count": 172,
   "id": "a3724b7e",
   "metadata": {},
   "outputs": [
    {
     "name": "stdout",
     "output_type": "stream",
     "text": [
      "+----------+-----------+--------+\n",
      "|      city|distHighway|distLine|\n",
      "+----------+-----------+--------+\n",
      "|Rio Branco|       5063|    3513|\n",
      "|    Macapa|       3545|    2011|\n",
      "|    Manaus|       5444|    2779|\n",
      "|  Salvador|        578|     476|\n",
      "| Fortaleza|        965|     731|\n",
      "|  Brasilia|       1920|    1487|\n",
      "|   Vitoria|       1611|    1282|\n",
      "|   Goiania|       2119|    1658|\n",
      "|  Sao Luis|       1584|    1236|\n",
      "|    Cuiaba|       3111|    2304|\n",
      "+----------+-----------+--------+\n",
      "only showing top 10 rows\n",
      "\n"
     ]
    }
   ],
   "source": [
    "spark.sql(\"\"\"\n",
    "        SELECT\n",
    "        *\n",
    "        FROM\n",
    "        distView;\n",
    "        \"\"\").show(10)"
   ]
  },
  {
   "cell_type": "code",
   "execution_count": 184,
   "id": "935fc722",
   "metadata": {},
   "outputs": [],
   "source": [
    "estatisticosParquet.createOrReplaceTempView(\"estatisticosView\")"
   ]
  },
  {
   "cell_type": "code",
   "execution_count": 185,
   "id": "1376653e",
   "metadata": {},
   "outputs": [
    {
     "name": "stdout",
     "output_type": "stream",
     "text": [
      "+-------+--------------------+-----------+----+-----+------+-----------+--------+--------+-----+------+--------------+----------------+\n",
      "|company|         companyName|nationality|year|month|origin|destination|takeOffs|distance|seats|  time|paidPassengers|noPaidPassengers|\n",
      "+-------+--------------------+-----------+----+-----+------+-----------+--------+--------+-----+------+--------------+----------------+\n",
      "|    TAM|TAM LINHAS AÉREAS...| BRASILEIRA|2019|   11|  SBMO|       SBBR|      60|   89580|11512|140.46|          9467|              42|\n",
      "|    TAM|TAM LINHAS AÉREAS...| BRASILEIRA|2019|   11|  SBMO|       SBGR|     141|  270720|27208|419.36|         22874|             202|\n",
      "|    TAM|TAM LINHAS AÉREAS...| BRASILEIRA|2019|   11|  SBMO|       SBPA|       5|   13910|  882| 20.01|           743|               0|\n",
      "|    TAM|TAM LINHAS AÉREAS...| BRASILEIRA|2019|   11|  SBMO|       SBRP|       1|    1821|  162|  3.27|             0|               0|\n",
      "|    TAM|TAM LINHAS AÉREAS...| BRASILEIRA|2019|   11|  SBMO|       SBSP|       5|    9740|  858| 14.42|           728|               4|\n",
      "|    TAM|TAM LINHAS AÉREAS...| BRASILEIRA|2019|   11|  SBMO|       SBSV|       2|     936|  394|  2.48|             0|               0|\n",
      "|    TAM|TAM LINHAS AÉREAS...| BRASILEIRA|2019|   12|  SBMO|       SBBR|      62|   92566|13496|144.47|          9041|              62|\n",
      "|    TAM|TAM LINHAS AÉREAS...| BRASILEIRA|2019|   12|  SBMO|       SBGR|     164|  314880|32154|491.92|         26224|             195|\n",
      "|    TAM|TAM LINHAS AÉREAS...| BRASILEIRA|2019|   12|  SBMO|       SBPA|       4|   11128|  702| 15.46|           590|               0|\n",
      "|    TAM|TAM LINHAS AÉREAS...| BRASILEIRA|2019|   12|  SBMO|       SBSP|       3|    5844|  540|  9.02|           331|               0|\n",
      "+-------+--------------------+-----------+----+-----+------+-----------+--------+--------+-----+------+--------------+----------------+\n",
      "only showing top 10 rows\n",
      "\n"
     ]
    }
   ],
   "source": [
    "spark.sql(\"\"\"\n",
    "    SELECT\n",
    "    *\n",
    "    FROM\n",
    "    estatisticosView\n",
    "\"\"\").show(10)"
   ]
  },
  {
   "cell_type": "markdown",
   "id": "501389c3",
   "metadata": {},
   "source": [
    "### Testes com Estatisticos"
   ]
  },
  {
   "cell_type": "code",
   "execution_count": null,
   "id": "2ab38e78",
   "metadata": {},
   "outputs": [],
   "source": [
    "spark.sql(\"\"\"\n",
    "        SELECT\n",
    "        A.year, A.month, A.company, B.companyName, C.city,\n",
    "        C.state, A.destination, A.price, A.seatsPrice, \n",
    "        B.takeOffs, B.distance, B.seats AS seatsAll,\n",
    "        B.time\n",
    "        FROM\n",
    "        2019View A\n",
    "        LEFT JOIN\n",
    "        (SELECT * FROM estatisticosView WHERE year == 2019) B\n",
    "        ON A.month = B.month AND\n",
    "\"\"\")"
   ]
  },
  {
   "cell_type": "markdown",
   "id": "8f56dfbf",
   "metadata": {},
   "source": [
    "## Junção das tabelas por ano"
   ]
  },
  {
   "cell_type": "markdown",
   "id": "32033ca6",
   "metadata": {},
   "source": [
    "### 2019"
   ]
  },
  {
   "cell_type": "code",
   "execution_count": 88,
   "id": "a681c127",
   "metadata": {},
   "outputs": [],
   "source": [
    "data2019 = spark.sql(\"\"\"\n",
    "        SELECT \n",
    "        A.year, A.month, A.company, B.airport, B.city, B.state, A.destination, A.price, A.seats, C.distLine AS distance\n",
    "        FROM\n",
    "        2019View A\n",
    "        LEFT JOIN\n",
    "        icaoView B\n",
    "        ON A.destination = B.icao\n",
    "        LEFT JOIN\n",
    "        distView C\n",
    "        ON B.city = C.city\n",
    "        \"\"\")"
   ]
  },
  {
   "cell_type": "code",
   "execution_count": 89,
   "id": "ec528232",
   "metadata": {},
   "outputs": [],
   "source": [
    "pathData2019 = \"/home/danilojpfreitas/Documentos/Data Engineer/Projeto/DataPipeline-TarifasAereas/data/curated/data/2019\""
   ]
  },
  {
   "cell_type": "code",
   "execution_count": 90,
   "id": "96d1c5ac",
   "metadata": {},
   "outputs": [],
   "source": [
    "data2019.write.option(\"header\",True).option(\"delimiter\", \",\").mode(\"overwrite\").csv(pathData2019)"
   ]
  },
  {
   "cell_type": "code",
   "execution_count": 91,
   "id": "4c94a39d",
   "metadata": {},
   "outputs": [],
   "source": [
    "curated2019 = spark.read.csv(pathData2019, sep=',', header=True) "
   ]
  },
  {
   "cell_type": "code",
   "execution_count": 93,
   "id": "64bd8e89",
   "metadata": {},
   "outputs": [
    {
     "name": "stdout",
     "output_type": "stream",
     "text": [
      "+----+-----+-------+-------------+-----+-----+-----------+------+-----+--------+\n",
      "|year|month|company|      airport| city|state|destination| price|seats|distance|\n",
      "+----+-----+-------+-------------+-----+-----+-----------+------+-----+--------+\n",
      "|2019|    5|    AZU|BAURU/AREALVA|BAURU|   SP|       SBAE| 558.9|    3|    null|\n",
      "|2019|    5|    AZU|BAURU/AREALVA|BAURU|   SP|       SBAE| 633.9|    3|    null|\n",
      "|2019|    5|    AZU|BAURU/AREALVA|BAURU|   SP|       SBAE| 648.9|    1|    null|\n",
      "|2019|    5|    AZU|BAURU/AREALVA|BAURU|   SP|       SBAE| 723.9|    2|    null|\n",
      "|2019|    5|    AZU|BAURU/AREALVA|BAURU|   SP|       SBAE| 773.9|    2|    null|\n",
      "|2019|    5|    AZU|BAURU/AREALVA|BAURU|   SP|       SBAE| 845.9|    6|    null|\n",
      "|2019|    5|    AZU|BAURU/AREALVA|BAURU|   SP|       SBAE|1007.9|    3|    null|\n",
      "|2019|    5|    AZU|BAURU/AREALVA|BAURU|   SP|       SBAE|1080.9|    1|    null|\n",
      "|2019|    5|    AZU|BAURU/AREALVA|BAURU|   SP|       SBAE|1372.9|    2|    null|\n",
      "|2019|    5|    AZU|BAURU/AREALVA|BAURU|   SP|       SBAE|1453.9|    1|    null|\n",
      "+----+-----+-------+-------------+-----+-----+-----------+------+-----+--------+\n",
      "\n"
     ]
    }
   ],
   "source": [
    "curated2019.limit(10).show()"
   ]
  },
  {
   "cell_type": "code",
   "execution_count": 101,
   "id": "2e69e3fc",
   "metadata": {},
   "outputs": [
    {
     "name": "stdout",
     "output_type": "stream",
     "text": [
      "+----+-----+-------+-------+----+-----+-----------+-----+-----+--------+\n",
      "|year|month|company|airport|city|state|destination|price|seats|distance|\n",
      "+----+-----+-------+-------+----+-----+-----------+-----+-----+--------+\n",
      "+----+-----+-------+-------+----+-----+-----------+-----+-----+--------+\n",
      "\n"
     ]
    }
   ],
   "source": [
    "curated2019.where(curated2019.city.isNull()).show()"
   ]
  },
  {
   "cell_type": "markdown",
   "id": "d7e8066b",
   "metadata": {},
   "source": [
    "### 2020"
   ]
  },
  {
   "cell_type": "code",
   "execution_count": 102,
   "id": "2ae1c9d8",
   "metadata": {},
   "outputs": [],
   "source": [
    "data2020 = spark.sql(\"\"\"\n",
    "        SELECT \n",
    "        A.year, A.month, A.company, B.airport, B.city, B.state, A.destination, A.price, A.seats, C.distLine AS distance\n",
    "        FROM\n",
    "        2019View A\n",
    "        LEFT JOIN\n",
    "        icaoView B\n",
    "        ON A.destination = B.icao\n",
    "        LEFT JOIN\n",
    "        distView C\n",
    "        ON B.city = C.city\n",
    "        \"\"\")"
   ]
  },
  {
   "cell_type": "code",
   "execution_count": 103,
   "id": "9119a3e7",
   "metadata": {},
   "outputs": [],
   "source": [
    "pathData2020 = \"/home/danilojpfreitas/Documentos/Data Engineer/Projeto/DataPipeline-TarifasAereas/data/curated/data/2020\""
   ]
  },
  {
   "cell_type": "code",
   "execution_count": 104,
   "id": "c45eda80",
   "metadata": {},
   "outputs": [],
   "source": [
    "data2020.write.option(\"header\",True).option(\"delimiter\", \",\").mode(\"overwrite\").csv(pathData2020)"
   ]
  },
  {
   "cell_type": "code",
   "execution_count": 105,
   "id": "ebbf7199",
   "metadata": {},
   "outputs": [],
   "source": [
    "curated2020 = spark.read.csv(pathData2020, sep=',', header=True) "
   ]
  },
  {
   "cell_type": "code",
   "execution_count": 106,
   "id": "f9c981ec",
   "metadata": {},
   "outputs": [
    {
     "name": "stdout",
     "output_type": "stream",
     "text": [
      "+----+-----+-------+-------------+-----+-----+-----------+------+-----+--------+\n",
      "|year|month|company|      airport| city|state|destination| price|seats|distance|\n",
      "+----+-----+-------+-------------+-----+-----+-----------+------+-----+--------+\n",
      "|2019|    5|    AZU|BAURU/AREALVA|BAURU|   SP|       SBAE| 558.9|    3|    null|\n",
      "|2019|    5|    AZU|BAURU/AREALVA|BAURU|   SP|       SBAE| 633.9|    3|    null|\n",
      "|2019|    5|    AZU|BAURU/AREALVA|BAURU|   SP|       SBAE| 648.9|    1|    null|\n",
      "|2019|    5|    AZU|BAURU/AREALVA|BAURU|   SP|       SBAE| 723.9|    2|    null|\n",
      "|2019|    5|    AZU|BAURU/AREALVA|BAURU|   SP|       SBAE| 773.9|    2|    null|\n",
      "|2019|    5|    AZU|BAURU/AREALVA|BAURU|   SP|       SBAE| 845.9|    6|    null|\n",
      "|2019|    5|    AZU|BAURU/AREALVA|BAURU|   SP|       SBAE|1007.9|    3|    null|\n",
      "|2019|    5|    AZU|BAURU/AREALVA|BAURU|   SP|       SBAE|1080.9|    1|    null|\n",
      "|2019|    5|    AZU|BAURU/AREALVA|BAURU|   SP|       SBAE|1372.9|    2|    null|\n",
      "|2019|    5|    AZU|BAURU/AREALVA|BAURU|   SP|       SBAE|1453.9|    1|    null|\n",
      "+----+-----+-------+-------------+-----+-----+-----------+------+-----+--------+\n",
      "\n"
     ]
    }
   ],
   "source": [
    "curated2020.limit(10).show()"
   ]
  },
  {
   "cell_type": "code",
   "execution_count": 110,
   "id": "6072f2bc",
   "metadata": {},
   "outputs": [
    {
     "name": "stdout",
     "output_type": "stream",
     "text": [
      "+----+-----+-------+-------+----+-----+-----------+-----+-----+--------+\n",
      "|year|month|company|airport|city|state|destination|price|seats|distance|\n",
      "+----+-----+-------+-------+----+-----+-----------+-----+-----+--------+\n",
      "+----+-----+-------+-------+----+-----+-----------+-----+-----+--------+\n",
      "\n"
     ]
    }
   ],
   "source": [
    "curated2020.where(curated2020.city.isNull()).show()"
   ]
  },
  {
   "cell_type": "markdown",
   "id": "b55cbfa5",
   "metadata": {},
   "source": [
    "### 2021"
   ]
  },
  {
   "cell_type": "code",
   "execution_count": 111,
   "id": "46a43a82",
   "metadata": {},
   "outputs": [],
   "source": [
    "data2021 = spark.sql(\"\"\"\n",
    "        SELECT \n",
    "        A.year, A.month, A.company, B.airport, B.city, B.state, A.destination, A.price, A.seats, C.distLine AS distance\n",
    "        FROM\n",
    "        2019View A\n",
    "        LEFT JOIN\n",
    "        icaoView B\n",
    "        ON A.destination = B.icao\n",
    "        LEFT JOIN\n",
    "        distView C\n",
    "        ON B.city = C.city\n",
    "        \"\"\")"
   ]
  },
  {
   "cell_type": "code",
   "execution_count": 112,
   "id": "b64c7e10",
   "metadata": {},
   "outputs": [],
   "source": [
    "pathData2021 = \"/home/danilojpfreitas/Documentos/Data Engineer/Projeto/DataPipeline-TarifasAereas/data/curated/data/2021\""
   ]
  },
  {
   "cell_type": "code",
   "execution_count": 113,
   "id": "ba5e2b63",
   "metadata": {},
   "outputs": [],
   "source": [
    "data2021.write.option(\"header\",True).option(\"delimiter\", \",\").mode(\"overwrite\").csv(pathData2021)"
   ]
  },
  {
   "cell_type": "code",
   "execution_count": 114,
   "id": "9943d56b",
   "metadata": {},
   "outputs": [],
   "source": [
    "curated2021 = spark.read.csv(pathData2021, sep=',', header=True) "
   ]
  },
  {
   "cell_type": "code",
   "execution_count": 115,
   "id": "5a2adabd",
   "metadata": {},
   "outputs": [
    {
     "name": "stdout",
     "output_type": "stream",
     "text": [
      "+----+-----+-------+-------------+-----+-----+-----------+------+-----+--------+\n",
      "|year|month|company|      airport| city|state|destination| price|seats|distance|\n",
      "+----+-----+-------+-------------+-----+-----+-----------+------+-----+--------+\n",
      "|2019|    5|    AZU|BAURU/AREALVA|BAURU|   SP|       SBAE| 558.9|    3|    null|\n",
      "|2019|    5|    AZU|BAURU/AREALVA|BAURU|   SP|       SBAE| 633.9|    3|    null|\n",
      "|2019|    5|    AZU|BAURU/AREALVA|BAURU|   SP|       SBAE| 648.9|    1|    null|\n",
      "|2019|    5|    AZU|BAURU/AREALVA|BAURU|   SP|       SBAE| 723.9|    2|    null|\n",
      "|2019|    5|    AZU|BAURU/AREALVA|BAURU|   SP|       SBAE| 773.9|    2|    null|\n",
      "|2019|    5|    AZU|BAURU/AREALVA|BAURU|   SP|       SBAE| 845.9|    6|    null|\n",
      "|2019|    5|    AZU|BAURU/AREALVA|BAURU|   SP|       SBAE|1007.9|    3|    null|\n",
      "|2019|    5|    AZU|BAURU/AREALVA|BAURU|   SP|       SBAE|1080.9|    1|    null|\n",
      "|2019|    5|    AZU|BAURU/AREALVA|BAURU|   SP|       SBAE|1372.9|    2|    null|\n",
      "|2019|    5|    AZU|BAURU/AREALVA|BAURU|   SP|       SBAE|1453.9|    1|    null|\n",
      "+----+-----+-------+-------------+-----+-----+-----------+------+-----+--------+\n",
      "\n"
     ]
    }
   ],
   "source": [
    "curated2021.limit(10).show()"
   ]
  },
  {
   "cell_type": "code",
   "execution_count": 117,
   "id": "5e6c06bd",
   "metadata": {},
   "outputs": [
    {
     "name": "stdout",
     "output_type": "stream",
     "text": [
      "+----+-----+-------+-------+----+-----+-----------+-----+-----+--------+\n",
      "|year|month|company|airport|city|state|destination|price|seats|distance|\n",
      "+----+-----+-------+-------+----+-----+-----------+-----+-----+--------+\n",
      "+----+-----+-------+-------+----+-----+-----------+-----+-----+--------+\n",
      "\n"
     ]
    }
   ],
   "source": [
    "curated2021.where(curated2021.city.isNull()).show()"
   ]
  },
  {
   "cell_type": "markdown",
   "id": "ce3a9f91",
   "metadata": {},
   "source": [
    "### 2022"
   ]
  },
  {
   "cell_type": "code",
   "execution_count": 118,
   "id": "b84b86d3",
   "metadata": {},
   "outputs": [],
   "source": [
    "data2022 = spark.sql(\"\"\"\n",
    "        SELECT \n",
    "        A.year, A.month, A.company, B.airport, B.city, B.state, A.destination, A.price, A.seats, C.distLine AS distance\n",
    "        FROM\n",
    "        2019View A\n",
    "        LEFT JOIN\n",
    "        icaoView B\n",
    "        ON A.destination = B.icao\n",
    "        LEFT JOIN\n",
    "        distView C\n",
    "        ON B.city = C.city\n",
    "        \"\"\")"
   ]
  },
  {
   "cell_type": "code",
   "execution_count": 119,
   "id": "ede52e42",
   "metadata": {},
   "outputs": [],
   "source": [
    "pathData2022 = \"/home/danilojpfreitas/Documentos/Data Engineer/Projeto/DataPipeline-TarifasAereas/data/curated/data/2022\""
   ]
  },
  {
   "cell_type": "code",
   "execution_count": 120,
   "id": "4f112f2f",
   "metadata": {},
   "outputs": [],
   "source": [
    "data2022.write.option(\"header\",True).option(\"delimiter\", \",\").mode(\"overwrite\").csv(pathData2022)"
   ]
  },
  {
   "cell_type": "code",
   "execution_count": 121,
   "id": "6c3a4aff",
   "metadata": {},
   "outputs": [],
   "source": [
    "curated2022 = spark.read.csv(pathData2021, sep=',', header=True) "
   ]
  },
  {
   "cell_type": "code",
   "execution_count": 122,
   "id": "8abb70c5",
   "metadata": {},
   "outputs": [
    {
     "name": "stdout",
     "output_type": "stream",
     "text": [
      "+----+-----+-------+-------------+-----+-----+-----------+------+-----+--------+\n",
      "|year|month|company|      airport| city|state|destination| price|seats|distance|\n",
      "+----+-----+-------+-------------+-----+-----+-----------+------+-----+--------+\n",
      "|2019|    5|    AZU|BAURU/AREALVA|BAURU|   SP|       SBAE| 558.9|    3|    null|\n",
      "|2019|    5|    AZU|BAURU/AREALVA|BAURU|   SP|       SBAE| 633.9|    3|    null|\n",
      "|2019|    5|    AZU|BAURU/AREALVA|BAURU|   SP|       SBAE| 648.9|    1|    null|\n",
      "|2019|    5|    AZU|BAURU/AREALVA|BAURU|   SP|       SBAE| 723.9|    2|    null|\n",
      "|2019|    5|    AZU|BAURU/AREALVA|BAURU|   SP|       SBAE| 773.9|    2|    null|\n",
      "|2019|    5|    AZU|BAURU/AREALVA|BAURU|   SP|       SBAE| 845.9|    6|    null|\n",
      "|2019|    5|    AZU|BAURU/AREALVA|BAURU|   SP|       SBAE|1007.9|    3|    null|\n",
      "|2019|    5|    AZU|BAURU/AREALVA|BAURU|   SP|       SBAE|1080.9|    1|    null|\n",
      "|2019|    5|    AZU|BAURU/AREALVA|BAURU|   SP|       SBAE|1372.9|    2|    null|\n",
      "|2019|    5|    AZU|BAURU/AREALVA|BAURU|   SP|       SBAE|1453.9|    1|    null|\n",
      "+----+-----+-------+-------------+-----+-----+-----------+------+-----+--------+\n",
      "\n"
     ]
    }
   ],
   "source": [
    "curated2022.limit(10).show()"
   ]
  },
  {
   "cell_type": "code",
   "execution_count": 123,
   "id": "75511b25",
   "metadata": {},
   "outputs": [
    {
     "name": "stdout",
     "output_type": "stream",
     "text": [
      "+----+-----+-------+-------+----+-----+-----------+-----+-----+--------+\n",
      "|year|month|company|airport|city|state|destination|price|seats|distance|\n",
      "+----+-----+-------+-------+----+-----+-----------+-----+-----+--------+\n",
      "+----+-----+-------+-------+----+-----+-----------+-----+-----+--------+\n",
      "\n"
     ]
    }
   ],
   "source": [
    "curated2022.where(curated2022.city.isNull()).show()"
   ]
  },
  {
   "cell_type": "markdown",
   "id": "3d6a44fb",
   "metadata": {},
   "source": [
    "## Média de preço por destino"
   ]
  },
  {
   "cell_type": "code",
   "execution_count": 124,
   "id": "ef2aeecd",
   "metadata": {},
   "outputs": [],
   "source": [
    "data2019.createOrReplaceTempView(\"data2019View\")\n",
    "data2020.createOrReplaceTempView(\"data2020View\")\n",
    "data2021.createOrReplaceTempView(\"data2021View\")\n",
    "data2022.createOrReplaceTempView(\"data2022View\")"
   ]
  },
  {
   "cell_type": "code",
   "execution_count": 125,
   "id": "8aed9574",
   "metadata": {},
   "outputs": [
    {
     "name": "stdout",
     "output_type": "stream",
     "text": [
      "+----+-----+-------+-------------+-----+-----+-----------+------+-----+--------+\n",
      "|year|month|company|      airport| city|state|destination| price|seats|distance|\n",
      "+----+-----+-------+-------------+-----+-----+-----------+------+-----+--------+\n",
      "|2019|    5|    AZU|BAURU/AREALVA|BAURU|   SP|       SBAE| 558.9|    3|    null|\n",
      "|2019|    5|    AZU|BAURU/AREALVA|BAURU|   SP|       SBAE| 633.9|    3|    null|\n",
      "|2019|    5|    AZU|BAURU/AREALVA|BAURU|   SP|       SBAE| 648.9|    1|    null|\n",
      "|2019|    5|    AZU|BAURU/AREALVA|BAURU|   SP|       SBAE| 723.9|    2|    null|\n",
      "|2019|    5|    AZU|BAURU/AREALVA|BAURU|   SP|       SBAE| 773.9|    2|    null|\n",
      "|2019|    5|    AZU|BAURU/AREALVA|BAURU|   SP|       SBAE| 845.9|    6|    null|\n",
      "|2019|    5|    AZU|BAURU/AREALVA|BAURU|   SP|       SBAE|1007.9|    3|    null|\n",
      "|2019|    5|    AZU|BAURU/AREALVA|BAURU|   SP|       SBAE|1080.9|    1|    null|\n",
      "|2019|    5|    AZU|BAURU/AREALVA|BAURU|   SP|       SBAE|1372.9|    2|    null|\n",
      "|2019|    5|    AZU|BAURU/AREALVA|BAURU|   SP|       SBAE|1453.9|    1|    null|\n",
      "+----+-----+-------+-------------+-----+-----+-----------+------+-----+--------+\n",
      "only showing top 10 rows\n",
      "\n"
     ]
    }
   ],
   "source": [
    "spark.sql(\"\"\"SELECT * FROM data2019View\"\"\").show(10)"
   ]
  },
  {
   "cell_type": "code",
   "execution_count": 126,
   "id": "92b4acc6",
   "metadata": {},
   "outputs": [],
   "source": [
    "meanPriceCity2019 = spark.sql(\"\"\"\n",
    "        SELECT\n",
    "            city, company, MEAN(price) AS meanPriceByCityAndCompany\n",
    "        FROM\n",
    "        data2019View\n",
    "        GROUP BY city, company\n",
    "        \"\"\")"
   ]
  },
  {
   "cell_type": "code",
   "execution_count": 127,
   "id": "66d0443f",
   "metadata": {},
   "outputs": [
    {
     "name": "stdout",
     "output_type": "stream",
     "text": [
      "+--------------------+-------+-------------------------+\n",
      "|                city|company|meanPriceByCityAndCompany|\n",
      "+--------------------+-------+-------------------------+\n",
      "|            CURITIBA|    TAM|        796.3944881889763|\n",
      "|       VÁRZEA GRANDE|    AZU|        798.8207035175888|\n",
      "|             CONFINS|    GLO|        821.6742156862734|\n",
      "|              ILHÉUS|    ONE|        636.6329166666667|\n",
      "|SÃO JOSÉ DO RIO P...|    AZU|        826.8403503184713|\n",
      "|            SALVADOR|    AZU|        788.4230683918651|\n",
      "|        CAMPO GRANDE|    TAM|        655.8104068857589|\n",
      "|             CORUMBÁ|    AZU|        966.4886956521739|\n",
      "| FERNANDO DE NORONHA|    AZU|        829.5367647058822|\n",
      "|        CAMPO GRANDE|    ONE|        706.2337878787878|\n",
      "|      RIO DE JANEIRO|    GLO|        856.7245210494181|\n",
      "|            BRASÍLIA|    ONE|        812.4303932584269|\n",
      "|         TRÊS LAGOAS|    AZU|        762.9761538461537|\n",
      "|            SANTARÉM|    AZU|        672.0307619047617|\n",
      "|       CAXIAS DO SUL|    AZU|        690.6317391304348|\n",
      "|             GOIÂNIA|    AZU|        850.0295795795798|\n",
      "|VITÓRIA DA CONQUISTA|    GLO|       1024.4304347826087|\n",
      "|      RIBEIRÃO PRETO|    AZU|        833.2781879194624|\n",
      "|              MARABÁ|    GLO|        964.0272727272726|\n",
      "|           SÃO PAULO|    GLO|        805.5867267032078|\n",
      "|            ALTAMIRA|    AZU|        925.0180769230768|\n",
      "|        PORTO ALEGRE|    TAM|        747.1549330900242|\n",
      "|            SÃO LUÍS|    TAM|         895.150457142857|\n",
      "|       FOZ DO IGUAÇU|    ONE|        729.5559999999999|\n",
      "|              SINOPE|    AZU|        886.6948749999999|\n",
      "|       MONTES CLAROS|    GLO|        827.2502564102564|\n",
      "|           GUARULHOS|    GLO|        694.0834957532402|\n",
      "|         PORTO VELHO|    TAM|        684.8230265210608|\n",
      "|        RONDONÓPOLIS|    AZU|        813.5923076923076|\n",
      "|               SINOP|    GLO|        688.8212765957445|\n",
      "|            TERESINA|    TAM|        735.1664935064935|\n",
      "|          UBERLÂNDIA|    GLO|        941.9658450704229|\n",
      "|          IMPERATRIZ|    TAM|        818.1289411764707|\n",
      "|            CAMPINAS|    TAM|        647.7623455233291|\n",
      "|            CAMPINAS|    AZU|        791.4123285811249|\n",
      "|            SÃO LUÍS|    AZU|         822.237730673317|\n",
      "|              MANAUS|    GLO|        906.4083870967748|\n",
      "|        CAMPO GRANDE|    GLO|        792.5955414012741|\n",
      "|      CAMPINA GRANDE|    GLO|        903.6500000000001|\n",
      "|           FORTALEZA|    AZU|        885.0337464387449|\n",
      "|             CONFINS|    ONE|        781.4903571428571|\n",
      "|           ARAÇATUBA|    AZU|         735.688376963351|\n",
      "|SÃO JOSÉ DO RIO P...|    GLO|        808.3090909090913|\n",
      "|         PASSO FUNDO|    AZU|        903.2798936170212|\n",
      "|VITÓRIA DA CONQUISTA|    AZU|        593.3050892857142|\n",
      "|          RIO BRANCO|    TAM|        651.8297205588823|\n",
      "|      RIBEIRÃO PRETO|    GLO|        925.7418376068382|\n",
      "|             VITÓRIA|    GLO|        855.7047196261686|\n",
      "|           FORTALEZA|    TAM|        892.7562937062938|\n",
      "|            BRASÍLIA|    GLO|        721.6036414048036|\n",
      "|           ARAÇATUBA|    GLO|        704.3862068965516|\n",
      "| PRESIDENTE PRUDENTE|    AZU|        732.7918478260872|\n",
      "|          RIO BRANCO|    GLO|        805.6608910891093|\n",
      "|           CABO FRIO|    AZU|        610.9000000000001|\n",
      "|            CASCAVEL|    GLO|        734.4345588235293|\n",
      "|           JOINVILLE|    GLO|        856.4479754601232|\n",
      "|           JI-PARANÁ|    AZU|        858.9461904761904|\n",
      "|      RIO DE JANEIRO|    AZU|        769.0464591078046|\n",
      "|         PARAUAPEBAS|    AZU|        935.8583333333332|\n",
      "|           JAGUARUNA|    TAM|        894.3331999999999|\n",
      "|         PORTO VELHO|    AZU|        810.2073061224496|\n",
      "|   JUAZEIRO DO NORTE|    AZU|        687.6215189873417|\n",
      "|           RIO VERDE|    AZU|        637.5097647058823|\n",
      "|            CURITIBA|    GLO|        852.8853410740189|\n",
      "|       FLORIANÓPOLIS|    GLO|        799.9154095238096|\n",
      "|           JOINVILLE|    TAM|        722.5721276595744|\n",
      "|            CASCAVEL|    AZU|        819.1332743362831|\n",
      "|         JOÃO PESSOA|    AZU|        832.1488082901559|\n",
      "|              MANAUS|    AZU|        761.8572952853605|\n",
      "|        PORTO SEGURO|    GLO|        809.9000000000001|\n",
      "|           JOINVILLE|    AZU|        754.0244970414202|\n",
      "|             ARACAJU|    GLO|                   1217.9|\n",
      "|              MARABÁ|    TAM|        722.6960227272727|\n",
      "|              RECIFE|    AZU|        588.7950645481619|\n",
      "|      CAMPINA GRANDE|    AZU|        941.5878260869565|\n",
      "| TEIXEIRA DE FREITAS|    AZU|        873.3195833333334|\n",
      "|       FOZ DO IGUAÇU|    TAM|        824.4848780487806|\n",
      "|             GOIÂNIA|    ONE|                 731.2879|\n",
      "|          UBERLÂNDIA|    AZU|        777.2115126050426|\n",
      "|           BOA VISTA|    AZU|        881.3338356164383|\n",
      "|           PETROLINA|    AZU|        706.2000645161291|\n",
      "|             CHAPECÓ|    GLO|        748.5492129629636|\n",
      "|             GOIÂNIA|    GLO|        910.5457170923378|\n",
      "|     CRUZEIRO DO SUL|    GLO|        671.0328124999999|\n",
      "|CAMPOS DOS GOYTAC...|    AZU|                    663.7|\n",
      "|            SÃO LUÍS|    GLO|        1043.066629213483|\n",
      "|             CHAPECÓ|    ONE|                813.33625|\n",
      "|             VITÓRIA|    ONE|                725.11875|\n",
      "|             CHAPECÓ|    AZU|        758.8324390243906|\n",
      "|            CURITIBA|    ONE|        647.9995049504952|\n",
      "|      RIO DE JANEIRO|    ONE|        788.1187845303868|\n",
      "|  SANTANA DO PARAÍSO|    AZU|        983.0699999999999|\n",
      "|        PORTO SEGURO|    TAM|       1269.8284374999998|\n",
      "|             SORRISO|    AZU|                 668.4625|\n",
      "|             ARACATI|    AZU|                 371.5325|\n",
      "|              TOLEDO|    AZU|        711.5666666666667|\n",
      "|         PASSO FUNDO|    GLO|        800.1466666666666|\n",
      "|              CACOAL|    AZU|       1062.7563076923075|\n",
      "|              MANAUS|    TAM|        766.1754733218588|\n",
      "|       FLORIANÓPOLIS|    AZU|        644.5563841807916|\n",
      "+--------------------+-------+-------------------------+\n",
      "only showing top 100 rows\n",
      "\n"
     ]
    }
   ],
   "source": [
    "meanPriceCity2019.show(100)"
   ]
  }
 ],
 "metadata": {
  "kernelspec": {
   "display_name": "Python 3 (ipykernel)",
   "language": "python",
   "name": "python3"
  },
  "language_info": {
   "codemirror_mode": {
    "name": "ipython",
    "version": 3
   },
   "file_extension": ".py",
   "mimetype": "text/x-python",
   "name": "python",
   "nbconvert_exporter": "python",
   "pygments_lexer": "ipython3",
   "version": "3.10.9"
  }
 },
 "nbformat": 4,
 "nbformat_minor": 5
}
