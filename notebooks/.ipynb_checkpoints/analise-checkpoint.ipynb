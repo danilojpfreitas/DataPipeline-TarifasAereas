{
 "cells": [
  {
   "cell_type": "code",
   "execution_count": 1,
   "id": "5031c221",
   "metadata": {},
   "outputs": [
    {
     "name": "stdout",
     "output_type": "stream",
     "text": [
      "Requirement already satisfied: pyspark in /home/danilojpfreitas/anaconda3/lib/python3.10/site-packages (3.4.0)\n",
      "Requirement already satisfied: py4j==0.10.9.7 in /home/danilojpfreitas/anaconda3/lib/python3.10/site-packages (from pyspark) (0.10.9.7)\n",
      "Requirement already satisfied: findspark in /home/danilojpfreitas/anaconda3/lib/python3.10/site-packages (2.0.1)\n",
      "Requirement already satisfied: pandas in /home/danilojpfreitas/anaconda3/lib/python3.10/site-packages (1.5.3)\n",
      "Requirement already satisfied: python-dateutil>=2.8.1 in /home/danilojpfreitas/anaconda3/lib/python3.10/site-packages (from pandas) (2.8.2)\n",
      "Requirement already satisfied: pytz>=2020.1 in /home/danilojpfreitas/anaconda3/lib/python3.10/site-packages (from pandas) (2022.7)\n",
      "Requirement already satisfied: numpy>=1.21.0 in /home/danilojpfreitas/anaconda3/lib/python3.10/site-packages (from pandas) (1.23.5)\n",
      "Requirement already satisfied: six>=1.5 in /home/danilojpfreitas/anaconda3/lib/python3.10/site-packages (from python-dateutil>=2.8.1->pandas) (1.16.0)\n",
      "Requirement already satisfied: install-jdk in /home/danilojpfreitas/anaconda3/lib/python3.10/site-packages (1.0.4)\n"
     ]
    }
   ],
   "source": [
    "!pip install pyspark\n",
    "!pip install findspark\n",
    "!pip install pandas \n",
    "!pip install install-jdk"
   ]
  },
  {
   "cell_type": "code",
   "execution_count": 2,
   "id": "0d980ab1",
   "metadata": {},
   "outputs": [],
   "source": [
    "import pandas as pd\n",
    "import findspark\n",
    "findspark.init()"
   ]
  },
  {
   "cell_type": "code",
   "execution_count": 3,
   "id": "bcb257d8",
   "metadata": {},
   "outputs": [],
   "source": [
    "from pyspark.sql import SparkSession"
   ]
  },
  {
   "cell_type": "code",
   "execution_count": 4,
   "id": "f12e369c",
   "metadata": {},
   "outputs": [
    {
     "name": "stderr",
     "output_type": "stream",
     "text": [
      "23/06/17 10:27:20 WARN Utils: Your hostname, danilojpfreitas-Vostro-13-5310 resolves to a loopback address: 127.0.1.1; using 10.0.0.155 instead (on interface wlp0s20f3)\n",
      "23/06/17 10:27:20 WARN Utils: Set SPARK_LOCAL_IP if you need to bind to another address\n",
      "Setting default log level to \"WARN\".\n",
      "To adjust logging level use sc.setLogLevel(newLevel). For SparkR, use setLogLevel(newLevel).\n",
      "23/06/17 10:27:21 WARN NativeCodeLoader: Unable to load native-hadoop library for your platform... using builtin-java classes where applicable\n"
     ]
    }
   ],
   "source": [
    "spark = SparkSession.builder.master('local[*]').getOrCreate()"
   ]
  },
  {
   "cell_type": "code",
   "execution_count": 5,
   "id": "71c206d1",
   "metadata": {},
   "outputs": [
    {
     "data": {
      "text/html": [
       "\n",
       "            <div>\n",
       "                <p><b>SparkSession - in-memory</b></p>\n",
       "                \n",
       "        <div>\n",
       "            <p><b>SparkContext</b></p>\n",
       "\n",
       "            <p><a href=\"http://10.0.0.155:4040\">Spark UI</a></p>\n",
       "\n",
       "            <dl>\n",
       "              <dt>Version</dt>\n",
       "                <dd><code>v3.4.0</code></dd>\n",
       "              <dt>Master</dt>\n",
       "                <dd><code>local[*]</code></dd>\n",
       "              <dt>AppName</dt>\n",
       "                <dd><code>pyspark-shell</code></dd>\n",
       "            </dl>\n",
       "        </div>\n",
       "        \n",
       "            </div>\n",
       "        "
      ],
      "text/plain": [
       "<pyspark.sql.session.SparkSession at 0x7f075f9bbd90>"
      ]
     },
     "execution_count": 5,
     "metadata": {},
     "output_type": "execute_result"
    }
   ],
   "source": [
    "spark"
   ]
  },
  {
   "cell_type": "markdown",
   "id": "71b93ac7",
   "metadata": {},
   "source": [
    "# Carregamendo dos Dados"
   ]
  },
  {
   "cell_type": "markdown",
   "id": "5f5792af",
   "metadata": {},
   "source": [
    "## Distância entre Maceió e outras capitais"
   ]
  },
  {
   "cell_type": "code",
   "execution_count": 6,
   "id": "a8f80562",
   "metadata": {},
   "outputs": [],
   "source": [
    "distPath = '/home/danilojpfreitas/Documentos/Data Engineer/Projeto/DataPipeline-TarifasAereas/data/dist/maceioDistCapitals.json'"
   ]
  },
  {
   "cell_type": "code",
   "execution_count": 7,
   "id": "04f489a0",
   "metadata": {},
   "outputs": [],
   "source": [
    "dist = spark.read.option(\"multiline\", \"true\").json(distPath)"
   ]
  },
  {
   "cell_type": "code",
   "execution_count": 8,
   "id": "a308af4d",
   "metadata": {},
   "outputs": [
    {
     "name": "stdout",
     "output_type": "stream",
     "text": [
      "+--------------+-----------+--------+\n",
      "|          city|distHighway|distLine|\n",
      "+--------------+-----------+--------+\n",
      "|    Rio Branco|       5063|    3513|\n",
      "|        Macapa|       3545|    2011|\n",
      "|        Manaus|       5444|    2779|\n",
      "|      Salvador|        578|     476|\n",
      "|     Fortaleza|        965|     731|\n",
      "|      Brasilia|       1920|    1487|\n",
      "|       Vitoria|       1611|    1282|\n",
      "|       Goiania|       2119|    1658|\n",
      "|      Sao Luis|       1584|    1236|\n",
      "|        Cuiaba|       3111|    2304|\n",
      "|  Campo Grande|       2830|    2355|\n",
      "|Belo Horizonte|       1855|    1443|\n",
      "|         Belem|       2059|    1682|\n",
      "|   Joao Pessoa|        371|     300|\n",
      "|      Curitiba|       2805|    2263|\n",
      "|        Recife|        257|     203|\n",
      "|      Teresina|       1155|     931|\n",
      "|      Teresina|       2071|    1674|\n",
      "|         Natal|        539|     435|\n",
      "|  Porto Alegre|       3531|    2778|\n",
      "+--------------+-----------+--------+\n",
      "only showing top 20 rows\n",
      "\n"
     ]
    }
   ],
   "source": [
    "dist.show()"
   ]
  },
  {
   "cell_type": "markdown",
   "id": "52f8ad76",
   "metadata": {},
   "source": [
    "## Preço por ano das passagens"
   ]
  },
  {
   "cell_type": "markdown",
   "id": "9885c585",
   "metadata": {},
   "source": [
    "### Carregamento dos dados"
   ]
  },
  {
   "cell_type": "code",
   "execution_count": 294,
   "id": "058f85e4",
   "metadata": {},
   "outputs": [],
   "source": [
    "price2019Path = \"../data/price2019/*.CSV\"\n",
    "price2020Path = \"../data/price2020/*.CSV\"\n",
    "price2021Path = \"../data/price2021/*.CSV\"\n",
    "price2022Path = \"../data/price2022/*.CSV\""
   ]
  },
  {
   "cell_type": "code",
   "execution_count": 295,
   "id": "9852e7a3",
   "metadata": {},
   "outputs": [
    {
     "name": "stderr",
     "output_type": "stream",
     "text": [
      "                                                                                \r"
     ]
    }
   ],
   "source": [
    "price2019 = spark.read.csv(price2019Path, sep=';', inferSchema=True)\n",
    "price2020 = spark.read.csv(price2020Path, sep=';', inferSchema=True)\n",
    "price2021 = spark.read.csv(price2021Path, sep=';', inferSchema=True)\n",
    "price2022 = spark.read.csv(price2022Path, sep=';', inferSchema=True)"
   ]
  },
  {
   "cell_type": "code",
   "execution_count": 296,
   "id": "b2b0f95a",
   "metadata": {},
   "outputs": [
    {
     "name": "stdout",
     "output_type": "stream",
     "text": [
      "+----+---+-------+------+-------+------+--------+\n",
      "| _c0|_c1|    _c2|   _c3|    _c4|   _c5|     _c6|\n",
      "+----+---+-------+------+-------+------+--------+\n",
      "| ANO|MES|EMPRESA|ORIGEM|DESTINO|TARIFA|ASSENTOS|\n",
      "|2019|  1|    AZU|  SBAC|   SBAR|239,90|       2|\n",
      "|2019|  1|    AZU|  SBAC|   SBAR|270,90|       2|\n",
      "|2019|  1|    AZU|  SBAC|   SBBR|217,90|       1|\n",
      "|2019|  1|    AZU|  SBAC|   SBBR|630,90|       2|\n",
      "|2019|  1|    AZU|  SBAC|   SBBV|347,90|       1|\n",
      "|2019|  1|    AZU|  SBAC|   SBCF|212,90|       2|\n",
      "|2019|  1|    AZU|  SBAC|   SBCF|283,90|       1|\n",
      "|2019|  1|    AZU|  SBAC|   SBCF|354,90|       3|\n",
      "|2019|  1|    AZU|  SBAC|   SBCF|414,90|       2|\n",
      "|2019|  1|    AZU|  SBAC|   SBCF|619,90|       3|\n",
      "|2019|  1|    AZU|  SBAC|   SBCG|291,90|       1|\n",
      "|2019|  1|    AZU|  SBAC|   SBCH|737,90|       2|\n",
      "|2019|  1|    AZU|  SBAC|   SBCR|361,90|       1|\n",
      "|2019|  1|    AZU|  SBAC|   SBCY|425,90|       1|\n",
      "|2019|  1|    AZU|  SBAC|   SBEG|277,90|       1|\n",
      "|2019|  1|    AZU|  SBAC|   SBEG|307,90|       2|\n",
      "|2019|  1|    AZU|  SBAC|   SBFL|411,90|       1|\n",
      "|2019|  1|    AZU|  SBAC|   SBGL|229,90|       5|\n",
      "|2019|  1|    AZU|  SBAC|   SBGL|442,90|       1|\n",
      "+----+---+-------+------+-------+------+--------+\n",
      "only showing top 20 rows\n",
      "\n"
     ]
    }
   ],
   "source": [
    "price2019.show()"
   ]
  },
  {
   "cell_type": "markdown",
   "id": "530afe89",
   "metadata": {},
   "source": [
    "### Renomeando o Header"
   ]
  },
  {
   "cell_type": "code",
   "execution_count": 297,
   "id": "0f0bee43",
   "metadata": {},
   "outputs": [],
   "source": [
    "newHeaderColNames = ['year', 'month', 'company', 'origin', 'destination', 'price', 'seats']"
   ]
  },
  {
   "cell_type": "code",
   "execution_count": 298,
   "id": "90e2d0bb",
   "metadata": {},
   "outputs": [],
   "source": [
    "for index, colName in enumerate(newHeaderColNames):\n",
    "    price2019 = price2019.withColumnRenamed(f\"_c{index}\", colName)\n",
    "    price2020 = price2020.withColumnRenamed(f\"_c{index}\", colName)\n",
    "    price2021 = price2021.withColumnRenamed(f\"_c{index}\", colName)\n",
    "    price2022 = price2022.withColumnRenamed(f\"_c{index}\", colName)"
   ]
  },
  {
   "cell_type": "code",
   "execution_count": 299,
   "id": "4fa65e0c",
   "metadata": {},
   "outputs": [
    {
     "name": "stdout",
     "output_type": "stream",
     "text": [
      "+-----------------+-----------------+------------------+--------------------+--------------------+--------+--------------------+\n",
      "|             year|            month|           company|              origin|         destination|   price|               seats|\n",
      "+-----------------+-----------------+------------------+--------------------+--------------------+--------+--------------------+\n",
      "|Ano de Refer�ncia|M�s de Refer�ncia|ICAO Empresa A�rea|ICAO Aer�dromo Or...|ICAO Aer�dromo De...|Tarifa-N|Assentos Comercia...|\n",
      "|             2020|               11|               AZU|                SBAC|                SBBR|  297,69|                   5|\n",
      "|             2020|               11|               AZU|                SBAC|                SBBR|   340,9|                   1|\n",
      "|             2020|               11|               AZU|                SBAC|                SBBR|   374,9|                   3|\n",
      "|             2020|               11|               AZU|                SBAC|                SBBV|   707,9|                   4|\n",
      "+-----------------+-----------------+------------------+--------------------+--------------------+--------+--------------------+\n",
      "\n"
     ]
    }
   ],
   "source": [
    "price2020.limit(5).show()"
   ]
  },
  {
   "cell_type": "code",
   "execution_count": 300,
   "id": "97d5f306",
   "metadata": {
    "scrolled": true
   },
   "outputs": [],
   "source": [
    "price2019 = price2019.where('price!=\"Tarifa-N\"')\n",
    "price2020 = price2020.where('price!=\"Tarifa-N\"')\n",
    "price2021 = price2021.where('price!=\"Tarifa-N\"')\n",
    "price2022 = price2022.where('price!=\"Tarifa-N\"')"
   ]
  },
  {
   "cell_type": "code",
   "execution_count": 301,
   "id": "2d829537",
   "metadata": {},
   "outputs": [
    {
     "name": "stdout",
     "output_type": "stream",
     "text": [
      "+----+-----------------+-----------------+------------------+--------------------+--------------------+--------+--------------------+\n",
      "|year|            month|          company|            origin|         destination|               price|   seats|                 _c7|\n",
      "+----+-----------------+-----------------+------------------+--------------------+--------------------+--------+--------------------+\n",
      "|null|Ano de Refer�ncia|M�s de Refer�ncia|ICAO Empresa A�rea|ICAO Aer�dromo Or...|ICAO Aer�dromo De...|Tarifa-N|Assentos Comercia...|\n",
      "|   1|             2022|                4|               AZU|                SBQV|                SBBE|  3500,9|                   1|\n",
      "|   2|             2022|                4|               AZU|                SBCA|                SBCT|   814,9|                   5|\n",
      "|   3|             2022|                4|               AZU|                SBCF|                SBGO|   814,9|                   6|\n",
      "|   4|             2022|                4|               AZU|                SBEG|                SBSN|   814,9|                   3|\n",
      "+----+-----------------+-----------------+------------------+--------------------+--------------------+--------+--------------------+\n",
      "\n"
     ]
    }
   ],
   "source": [
    "price2022.limit(5).show()"
   ]
  },
  {
   "cell_type": "markdown",
   "id": "3770d9df",
   "metadata": {},
   "source": [
    "### Selecionamento somente o aeroporto de Maceió como origem"
   ]
  },
  {
   "cell_type": "code",
   "execution_count": 302,
   "id": "4df7b151",
   "metadata": {},
   "outputs": [],
   "source": [
    "price2019 = price2019.where('origin==\"SBMO\"')\n",
    "price2020 = price2020.where('origin==\"SBMO\"')\n",
    "price2021 = price2021.where('origin==\"SBMO\"')\n",
    "price2022 = price2022.where('origin==\"SBMO\"')"
   ]
  },
  {
   "cell_type": "code",
   "execution_count": 303,
   "id": "60621e41",
   "metadata": {},
   "outputs": [
    {
     "name": "stdout",
     "output_type": "stream",
     "text": [
      "+----+-----+-------+------+-----------+------+-----+\n",
      "|year|month|company|origin|destination| price|seats|\n",
      "+----+-----+-------+------+-----------+------+-----+\n",
      "|2020|   11|    AZU|  SBMO|       SBAE|1370,9|    2|\n",
      "|2020|   11|    AZU|  SBMO|       SBAE|1409,9|    2|\n",
      "|2020|   11|    AZU|  SBMO|       SBAE| 352,8|    6|\n",
      "|2020|   11|    AZU|  SBMO|       SBAE|378,05|    1|\n",
      "|2020|   11|    AZU|  SBMO|       SBAE| 415,9|    2|\n",
      "+----+-----+-------+------+-----------+------+-----+\n",
      "\n"
     ]
    }
   ],
   "source": [
    "price2020.limit(5).show()"
   ]
  },
  {
   "cell_type": "code",
   "execution_count": 304,
   "id": "4e26f0f9",
   "metadata": {},
   "outputs": [
    {
     "name": "stderr",
     "output_type": "stream",
     "text": [
      "                                                                                \r"
     ]
    },
    {
     "data": {
      "text/plain": [
       "62530"
      ]
     },
     "execution_count": 304,
     "metadata": {},
     "output_type": "execute_result"
    }
   ],
   "source": [
    "price2019.count()"
   ]
  },
  {
   "cell_type": "markdown",
   "id": "ca508d06",
   "metadata": {},
   "source": [
    "### Convertendo: String to Integer and String to Double"
   ]
  },
  {
   "cell_type": "code",
   "execution_count": 20,
   "id": "0f6c6f0b",
   "metadata": {},
   "outputs": [],
   "source": [
    "from pyspark.sql.types import DoubleType, StringType, IntegerType "
   ]
  },
  {
   "cell_type": "code",
   "execution_count": 21,
   "id": "4f5e9e88",
   "metadata": {},
   "outputs": [],
   "source": [
    "from pyspark.sql import functions as f"
   ]
  },
  {
   "cell_type": "markdown",
   "id": "f89c31a8",
   "metadata": {},
   "source": [
    "#### 2019"
   ]
  },
  {
   "cell_type": "code",
   "execution_count": 22,
   "id": "af91f34c",
   "metadata": {},
   "outputs": [
    {
     "name": "stdout",
     "output_type": "stream",
     "text": [
      "root\n",
      " |-- year: string (nullable = true)\n",
      " |-- month: string (nullable = true)\n",
      " |-- company: string (nullable = true)\n",
      " |-- origin: string (nullable = true)\n",
      " |-- destination: string (nullable = true)\n",
      " |-- price: string (nullable = true)\n",
      " |-- seats: string (nullable = true)\n",
      "\n"
     ]
    }
   ],
   "source": [
    "price2019.printSchema()"
   ]
  },
  {
   "cell_type": "code",
   "execution_count": 23,
   "id": "eea00563",
   "metadata": {},
   "outputs": [],
   "source": [
    "price2019 = price2019\\\n",
    "    .withColumn(\n",
    "    \"year\",\n",
    "    price2019[\"year\"].cast(IntegerType())\n",
    "    )\\\n",
    "    .withColumn(\n",
    "    \"month\",\n",
    "    price2019[\"month\"].cast(IntegerType())\n",
    "    )\\\n",
    "    .withColumn(\n",
    "    \"seats\",\n",
    "    price2019[\"seats\"].cast(IntegerType())\n",
    "    )\\\n",
    "    .withColumn(\n",
    "    \"price\",\n",
    "    f.regexp_replace('price', ',', '.')\n",
    "    )"
   ]
  },
  {
   "cell_type": "code",
   "execution_count": 24,
   "id": "f9e4b59b",
   "metadata": {},
   "outputs": [],
   "source": [
    "price2019 = price2019\\\n",
    "    .withColumn(\n",
    "    \"price\",\n",
    "    price2019[\"price\"].cast(DoubleType())\n",
    "    )"
   ]
  },
  {
   "cell_type": "code",
   "execution_count": 25,
   "id": "6fb5df7e",
   "metadata": {},
   "outputs": [
    {
     "name": "stdout",
     "output_type": "stream",
     "text": [
      "root\n",
      " |-- year: integer (nullable = true)\n",
      " |-- month: integer (nullable = true)\n",
      " |-- company: string (nullable = true)\n",
      " |-- origin: string (nullable = true)\n",
      " |-- destination: string (nullable = true)\n",
      " |-- price: double (nullable = true)\n",
      " |-- seats: integer (nullable = true)\n",
      "\n"
     ]
    }
   ],
   "source": [
    "price2019.printSchema()"
   ]
  },
  {
   "cell_type": "code",
   "execution_count": 26,
   "id": "c7f5a84b",
   "metadata": {},
   "outputs": [
    {
     "name": "stdout",
     "output_type": "stream",
     "text": [
      "+----+-----+-------+------+-----------+------+-----+\n",
      "|year|month|company|origin|destination| price|seats|\n",
      "+----+-----+-------+------+-----------+------+-----+\n",
      "|2019|    1|    AZU|  SBMO|       SBAC| 179.9|    2|\n",
      "|2019|    1|    AZU|  SBMO|       SBAE|295.33|    2|\n",
      "|2019|    1|    AZU|  SBMO|       SBAE| 302.9|    2|\n",
      "|2019|    1|    AZU|  SBMO|       SBAE| 372.9|    2|\n",
      "|2019|    1|    AZU|  SBMO|       SBAE|389.42|    4|\n",
      "|2019|    1|    AZU|  SBMO|       SBAE| 419.9|    2|\n",
      "|2019|    1|    AZU|  SBMO|       SBAE| 448.9|    1|\n",
      "|2019|    1|    AZU|  SBMO|       SBAE| 639.9|    1|\n",
      "|2019|    1|    AZU|  SBMO|       SBAE| 656.9|    1|\n",
      "|2019|    1|    AZU|  SBMO|       SBAE| 724.9|    1|\n",
      "+----+-----+-------+------+-----------+------+-----+\n",
      "\n"
     ]
    }
   ],
   "source": [
    "price2019.limit(10).show()"
   ]
  },
  {
   "cell_type": "markdown",
   "id": "c7cfb5be",
   "metadata": {},
   "source": [
    "#### 2020"
   ]
  },
  {
   "cell_type": "code",
   "execution_count": 27,
   "id": "80d6958b",
   "metadata": {},
   "outputs": [],
   "source": [
    "price2020 = price2020\\\n",
    "    .withColumn(\n",
    "    \"year\",\n",
    "    price2020[\"year\"].cast(IntegerType())\n",
    "    )\\\n",
    "    .withColumn(\n",
    "    \"month\",\n",
    "    price2020[\"month\"].cast(IntegerType())\n",
    "    )\\\n",
    "    .withColumn(\n",
    "    \"seats\",\n",
    "    price2020[\"seats\"].cast(IntegerType())\n",
    "    )\\\n",
    "    .withColumn(\n",
    "    \"price\",\n",
    "    f.regexp_replace('price', ',', '.')\n",
    "    )"
   ]
  },
  {
   "cell_type": "code",
   "execution_count": 28,
   "id": "b9fecd17",
   "metadata": {},
   "outputs": [],
   "source": [
    "price2020 = price2020\\\n",
    "    .withColumn(\n",
    "    \"price\",\n",
    "    price2020[\"price\"].cast(DoubleType())\n",
    "    )"
   ]
  },
  {
   "cell_type": "code",
   "execution_count": 29,
   "id": "7cd09a41",
   "metadata": {},
   "outputs": [
    {
     "name": "stdout",
     "output_type": "stream",
     "text": [
      "root\n",
      " |-- year: integer (nullable = true)\n",
      " |-- month: integer (nullable = true)\n",
      " |-- company: string (nullable = true)\n",
      " |-- origin: string (nullable = true)\n",
      " |-- destination: string (nullable = true)\n",
      " |-- price: double (nullable = true)\n",
      " |-- seats: integer (nullable = true)\n",
      "\n"
     ]
    }
   ],
   "source": [
    "price2020.printSchema()"
   ]
  },
  {
   "cell_type": "markdown",
   "id": "fc197b55",
   "metadata": {},
   "source": [
    "#### 2021"
   ]
  },
  {
   "cell_type": "code",
   "execution_count": 30,
   "id": "0beb49b0",
   "metadata": {},
   "outputs": [],
   "source": [
    "price2021 = price2021\\\n",
    "    .withColumn(\n",
    "    \"year\",\n",
    "    price2021[\"year\"].cast(IntegerType())\n",
    "    )\\\n",
    "    .withColumn(\n",
    "    \"month\",\n",
    "    price2021[\"month\"].cast(IntegerType())\n",
    "    )\\\n",
    "    .withColumn(\n",
    "    \"seats\",\n",
    "    price2021[\"seats\"].cast(IntegerType())\n",
    "    )\\\n",
    "    .withColumn(\n",
    "    \"price\",\n",
    "    f.regexp_replace('price', ',', '.')\n",
    "    )"
   ]
  },
  {
   "cell_type": "code",
   "execution_count": 31,
   "id": "f8919d9b",
   "metadata": {},
   "outputs": [],
   "source": [
    "price2021 = price2021\\\n",
    "    .withColumn(\n",
    "    \"price\",\n",
    "    price2021[\"price\"].cast(DoubleType())\n",
    "    )"
   ]
  },
  {
   "cell_type": "code",
   "execution_count": 32,
   "id": "b6dfd73a",
   "metadata": {},
   "outputs": [
    {
     "name": "stdout",
     "output_type": "stream",
     "text": [
      "root\n",
      " |-- year: integer (nullable = true)\n",
      " |-- month: integer (nullable = true)\n",
      " |-- company: string (nullable = true)\n",
      " |-- origin: string (nullable = true)\n",
      " |-- destination: string (nullable = true)\n",
      " |-- price: double (nullable = true)\n",
      " |-- seats: integer (nullable = true)\n",
      " |-- _c7: string (nullable = true)\n",
      "\n"
     ]
    }
   ],
   "source": [
    "price2021.printSchema()"
   ]
  },
  {
   "cell_type": "markdown",
   "id": "af542ac7",
   "metadata": {},
   "source": [
    "#### 2022"
   ]
  },
  {
   "cell_type": "code",
   "execution_count": 305,
   "id": "118fba90",
   "metadata": {},
   "outputs": [],
   "source": [
    "price2022 = price2022\\\n",
    "    .withColumn(\n",
    "    \"year\",\n",
    "    price2022[\"year\"].cast(IntegerType())\n",
    "    )\\\n",
    "    .withColumn(\n",
    "    \"month\",\n",
    "    price2022[\"month\"].cast(IntegerType())\n",
    "    )\\\n",
    "    .withColumn(\n",
    "    \"seats\",\n",
    "    price2022[\"seats\"].cast(IntegerType())\n",
    "    )\\\n",
    "    .withColumn(\n",
    "    \"price\",\n",
    "    f.regexp_replace('price', ',', '.')\n",
    "    )"
   ]
  },
  {
   "cell_type": "code",
   "execution_count": 306,
   "id": "acfe0a28",
   "metadata": {},
   "outputs": [],
   "source": [
    "price2022 = price2022\\\n",
    "    .withColumn(\n",
    "    \"price\",\n",
    "    price2022[\"price\"].cast(DoubleType())\n",
    "    )"
   ]
  },
  {
   "cell_type": "code",
   "execution_count": 307,
   "id": "9aeb91fb",
   "metadata": {},
   "outputs": [
    {
     "name": "stdout",
     "output_type": "stream",
     "text": [
      "root\n",
      " |-- year: integer (nullable = true)\n",
      " |-- month: integer (nullable = true)\n",
      " |-- company: string (nullable = true)\n",
      " |-- origin: string (nullable = true)\n",
      " |-- destination: string (nullable = true)\n",
      " |-- price: double (nullable = true)\n",
      " |-- seats: integer (nullable = true)\n",
      " |-- _c7: string (nullable = true)\n",
      "\n"
     ]
    }
   ],
   "source": [
    "price2022.printSchema()"
   ]
  },
  {
   "cell_type": "code",
   "execution_count": 308,
   "id": "d08d5a02",
   "metadata": {},
   "outputs": [
    {
     "name": "stderr",
     "output_type": "stream",
     "text": [
      "\r",
      "[Stage 446:>                                                        (0 + 4) / 4]\r",
      "\r",
      "[Stage 446:============================>                            (2 + 2) / 4]\r"
     ]
    },
    {
     "name": "stdout",
     "output_type": "stream",
     "text": [
      "+----+-----+-------+------+-----------+------+-----+----+\n",
      "|year|month|company|origin|destination| price|seats| _c7|\n",
      "+----+-----+-------+------+-----------+------+-----+----+\n",
      "|2022|   10|    AZU|  SBMO|       SBAE|1295.9|    3|null|\n",
      "|2022|   10|    AZU|  SBMO|       SBAE|1878.9|    1|null|\n",
      "|2022|   10|    AZU|  SBMO|       SBAE|1973.9|    1|null|\n",
      "|2022|   10|    AZU|  SBMO|       SBAE|2023.9|    1|null|\n",
      "|2022|   10|    AZU|  SBMO|       SBAE|2475.9|    1|null|\n",
      "+----+-----+-------+------+-----------+------+-----+----+\n",
      "\n"
     ]
    },
    {
     "name": "stderr",
     "output_type": "stream",
     "text": [
      "\r",
      "                                                                                \r"
     ]
    }
   ],
   "source": [
    "price2022.limit(5).show()"
   ]
  },
  {
   "cell_type": "markdown",
   "id": "51348253",
   "metadata": {},
   "source": [
    "## Codigo ICAO - JSON"
   ]
  },
  {
   "cell_type": "markdown",
   "id": "da2c645b",
   "metadata": {},
   "source": [
    "###  ICAO da Base de Dados faltando Aeroportos => Utilização de uma nova base de dados"
   ]
  },
  {
   "cell_type": "code",
   "execution_count": 36,
   "id": "5695017b",
   "metadata": {},
   "outputs": [],
   "source": [
    "pathIcaoJson = '/home/danilojpfreitas/Documentos/Data Engineer/Projeto/DataPipeline-TarifasAereas/data/icao/icao.csv'"
   ]
  },
  {
   "cell_type": "code",
   "execution_count": 37,
   "id": "a6fe6d0c",
   "metadata": {},
   "outputs": [],
   "source": [
    "icao = spark.read.csv(pathIcaoJson, sep=',', header=True)"
   ]
  },
  {
   "cell_type": "code",
   "execution_count": 38,
   "id": "a4b019f1",
   "metadata": {},
   "outputs": [
    {
     "name": "stdout",
     "output_type": "stream",
     "text": [
      "root\n",
      " |-- icao: string (nullable = true)\n",
      " |-- airport: string (nullable = true)\n",
      " |-- city: string (nullable = true)\n",
      " |-- state: string (nullable = true)\n",
      "\n"
     ]
    }
   ],
   "source": [
    "icao.printSchema()"
   ]
  },
  {
   "cell_type": "code",
   "execution_count": 39,
   "id": "7f96c586",
   "metadata": {},
   "outputs": [
    {
     "name": "stdout",
     "output_type": "stream",
     "text": [
      "+----+--------------------+----------------+-----+\n",
      "|icao|             airport|            city|state|\n",
      "+----+--------------------+----------------+-----+\n",
      "|SBFE|JOÃO DURVAL CARNEIRO|FEIRA DE SANTANA|   BA|\n",
      "|SSPB|         PATO BRANCO|     PATO BRANCO|   PR|\n",
      "|SBRG|          RIO GRANDE|      RIO GRANDE|   RS|\n",
      "|SBGU|TANCREDO THOMAS D...|      GUARAPUAVA|   PR|\n",
      "|SSOU|            ARIPUANÃ|        ARIPUANÃ|   MT|\n",
      "+----+--------------------+----------------+-----+\n",
      "\n"
     ]
    }
   ],
   "source": [
    "icao.limit(5).show()"
   ]
  },
  {
   "cell_type": "code",
   "execution_count": 40,
   "id": "27a52cfe",
   "metadata": {},
   "outputs": [
    {
     "name": "stdout",
     "output_type": "stream",
     "text": [
      "+----+----------------+-----+\n",
      "|icao|            city|state|\n",
      "+----+----------------+-----+\n",
      "|SBFE|FEIRA DE SANTANA|   BA|\n",
      "|SSPB|     PATO BRANCO|   PR|\n",
      "|SBRG|      RIO GRANDE|   RS|\n",
      "|SBGU|      GUARAPUAVA|   PR|\n",
      "|SSOU|        ARIPUANÃ|   MT|\n",
      "+----+----------------+-----+\n",
      "\n"
     ]
    }
   ],
   "source": [
    "icao.select(\"icao\", \"city\", \"state\").limit(5).show()"
   ]
  },
  {
   "cell_type": "code",
   "execution_count": 41,
   "id": "57cb2d81",
   "metadata": {},
   "outputs": [
    {
     "name": "stdout",
     "output_type": "stream",
     "text": [
      "+----+-------+----+-----+\n",
      "|icao|airport|city|state|\n",
      "+----+-------+----+-----+\n",
      "+----+-------+----+-----+\n",
      "\n"
     ]
    }
   ],
   "source": [
    "icao.where('icao==\"\"').show()"
   ]
  },
  {
   "cell_type": "markdown",
   "id": "4cbebb81",
   "metadata": {},
   "source": [
    "## Dados Estatisticos"
   ]
  },
  {
   "cell_type": "code",
   "execution_count": 42,
   "id": "aa7d2ab2",
   "metadata": {},
   "outputs": [],
   "source": [
    "pathEstatisticos = '/home/danilojpfreitas/Documentos/Data Engineer/Projeto/DataPipeline-TarifasAereas/data/statistic/Dados_Estatisticos.csv'"
   ]
  },
  {
   "cell_type": "code",
   "execution_count": 43,
   "id": "05917c58",
   "metadata": {},
   "outputs": [],
   "source": [
    "estatisticos = spark.read.csv(pathEstatisticos, sep=';', header=True)"
   ]
  },
  {
   "cell_type": "code",
   "execution_count": 44,
   "id": "842091b7",
   "metadata": {},
   "outputs": [
    {
     "name": "stdout",
     "output_type": "stream",
     "text": [
      "root\n",
      " |-- EMPRESA_SIGLA: string (nullable = true)\n",
      " |-- EMPRESA_NOME: string (nullable = true)\n",
      " |-- EMPRESA_NACIONALIDADE: string (nullable = true)\n",
      " |-- ANO: string (nullable = true)\n",
      " |-- MES: string (nullable = true)\n",
      " |-- AEROPORTO_DE_ORIGEM_SIGLA: string (nullable = true)\n",
      " |-- AEROPORTO_DE_ORIGEM_NOME: string (nullable = true)\n",
      " |-- AEROPORTO_DE_ORIGEM_UF: string (nullable = true)\n",
      " |-- AEROPORTO_DE_ORIGEM_REGIAO: string (nullable = true)\n",
      " |-- AEROPORTO_DE_ORIGEM_PAIS: string (nullable = true)\n",
      " |-- AEROPORTO_DE_ORIGEM_CONTINENTE: string (nullable = true)\n",
      " |-- AEROPORTO_DE_DESTINO_SIGLA: string (nullable = true)\n",
      " |-- AEROPORTO_DE_DESTINO_NOME: string (nullable = true)\n",
      " |-- AEROPORTO_DE_DESTINO_UF: string (nullable = true)\n",
      " |-- AEROPORTO_DE_DESTINO_REGIAO: string (nullable = true)\n",
      " |-- AEROPORTO_DE_DESTINO_PAIS: string (nullable = true)\n",
      " |-- AEROPORTO_DE_DESTINO_CONTINENTE: string (nullable = true)\n",
      " |-- NATUREZA: string (nullable = true)\n",
      " |-- GRUPO_DE_VOO: string (nullable = true)\n",
      " |-- PASSAGEIROS_PAGOS: string (nullable = true)\n",
      " |-- PASSAGEIROS_GRATIS: string (nullable = true)\n",
      " |-- CARGA_PAGA_KG: string (nullable = true)\n",
      " |-- CARGA_GRATIS_KG: string (nullable = true)\n",
      " |-- CORREIO_KG: string (nullable = true)\n",
      " |-- ASK: string (nullable = true)\n",
      " |-- RPK: string (nullable = true)\n",
      " |-- ATK: string (nullable = true)\n",
      " |-- RTK: string (nullable = true)\n",
      " |-- COMBUSTIVEL_LITROS: string (nullable = true)\n",
      " |-- DISTANCIA_VOADA_KM: string (nullable = true)\n",
      " |-- DECOLAGENS: string (nullable = true)\n",
      " |-- CARGA_PAGA_KM: string (nullable = true)\n",
      " |-- CARGA_GRATIS_KM: string (nullable = true)\n",
      " |-- CORREIO_KM: string (nullable = true)\n",
      " |-- ASSENTOS: string (nullable = true)\n",
      " |-- PAYLOAD: string (nullable = true)\n",
      " |-- HORAS_VOADAS: string (nullable = true)\n",
      " |-- BAGAGEM_KG: string (nullable = true)\n",
      "\n"
     ]
    }
   ],
   "source": [
    "estatisticos.printSchema()"
   ]
  },
  {
   "cell_type": "code",
   "execution_count": 45,
   "id": "80dc92ef",
   "metadata": {},
   "outputs": [
    {
     "name": "stderr",
     "output_type": "stream",
     "text": [
      "23/06/17 10:28:02 WARN package: Truncated the string representation of a plan since it was too large. This behavior can be adjusted by setting 'spark.sql.debug.maxToStringFields'.\n"
     ]
    }
   ],
   "source": [
    "estatisticos.createOrReplaceTempView('estatisticosSQLView')"
   ]
  },
  {
   "cell_type": "code",
   "execution_count": 46,
   "id": "845cdfa4",
   "metadata": {},
   "outputs": [],
   "source": [
    "estatisticosSelect = spark.sql(\"\"\"\n",
    "        SELECT\n",
    "        EMPRESA_SIGLA AS company,\n",
    "        EMPRESA_NOME AS companyName,\n",
    "        EMPRESA_NACIONALIDADE AS nationality,\n",
    "        ANO AS year,\n",
    "        MES AS month,\n",
    "        AEROPORTO_DE_ORIGEM_SIGLA AS origin,\n",
    "        AEROPORTO_DE_DESTINO_SIGLA AS destination,\n",
    "        DECOLAGENS AS takeOffs,\n",
    "        DISTANCIA_VOADA_KM AS distance,\n",
    "        ASSENTOS AS seats,\n",
    "        HORAS_VOADAS AS time,\n",
    "        PASSAGEIROS_PAGOS AS paidPassengers,\n",
    "        PASSAGEIROS_GRATIS AS noPaidPassengers\n",
    "        FROM\n",
    "        estatisticosSQLView\n",
    "\"\"\")"
   ]
  },
  {
   "cell_type": "code",
   "execution_count": 47,
   "id": "ace63758",
   "metadata": {},
   "outputs": [
    {
     "name": "stdout",
     "output_type": "stream",
     "text": [
      "+-------+--------------------+-----------+----+-----+------+-----------+--------+--------+-----+------+--------------+----------------+\n",
      "|company|         companyName|nationality|year|month|origin|destination|takeOffs|distance|seats|  time|paidPassengers|noPaidPassengers|\n",
      "+-------+--------------------+-----------+----+-----+------+-----------+--------+--------+-----+------+--------------+----------------+\n",
      "|    AAL|AMERICAN AIRLINES...|ESTRANGEIRA|2000|    1|  KDFW|       SBGR|      30|  247320| 6330|409,08|          3932|             142|\n",
      "|    AAL|AMERICAN AIRLINES...|ESTRANGEIRA|2000|    1|  KJFK|       SBGL|      29|  224141| 6119| 418,1|          2338|             131|\n",
      "|    AAL|AMERICAN AIRLINES...|ESTRANGEIRA|2000|    1|  KJFK|       SBGR|      29|  222256| 6119| 411,5|          2892|             127|\n",
      "|    AAL|AMERICAN AIRLINES...|ESTRANGEIRA|2000|    1|  KMIA|       SBCF|    null|    null| null|  null|           997|              20|\n",
      "|    AAL|AMERICAN AIRLINES...|ESTRANGEIRA|2000|    1|  KMIA|       SBGL|      31|  208227| 6541| 491,8|          3589|             133|\n",
      "+-------+--------------------+-----------+----+-----+------+-----------+--------+--------+-----+------+--------------+----------------+\n",
      "\n"
     ]
    }
   ],
   "source": [
    "estatisticosSelect.limit(5).show()"
   ]
  },
  {
   "cell_type": "code",
   "execution_count": 48,
   "id": "653b1063",
   "metadata": {},
   "outputs": [],
   "source": [
    "estatisticosSelect = estatisticosSelect\\\n",
    "    .withColumn(\n",
    "    \"year\",\n",
    "    estatisticosSelect[\"year\"].cast(IntegerType())\n",
    "    )\\\n",
    "    .withColumn(\n",
    "    \"month\",\n",
    "    estatisticosSelect[\"month\"].cast(IntegerType())\n",
    "    )\\\n",
    "    .withColumn(\n",
    "    \"takeOffs\",\n",
    "    estatisticosSelect[\"takeOffs\"].cast(IntegerType())\n",
    "    )\\\n",
    "    .withColumn(\n",
    "    \"distance\",\n",
    "    estatisticosSelect[\"distance\"].cast(IntegerType())\n",
    "    )\\\n",
    "    .withColumn(\n",
    "    \"seats\",\n",
    "    estatisticosSelect[\"seats\"].cast(IntegerType())\n",
    "    )\\\n",
    "    .withColumn(\n",
    "    \"time\",\n",
    "    f.regexp_replace('time', ',', '.')\n",
    "    )\\\n",
    "    .withColumn(\n",
    "    \"paidPassengers\",\n",
    "    estatisticosSelect[\"paidPassengers\"].cast(IntegerType())\n",
    "    )\\\n",
    "    .withColumn(\n",
    "    \"noPaidPassengers\",\n",
    "    estatisticosSelect[\"noPaidPassengers\"].cast(IntegerType())\n",
    "    )"
   ]
  },
  {
   "cell_type": "code",
   "execution_count": 49,
   "id": "6a022f2f",
   "metadata": {},
   "outputs": [
    {
     "name": "stdout",
     "output_type": "stream",
     "text": [
      "root\n",
      " |-- company: string (nullable = true)\n",
      " |-- companyName: string (nullable = true)\n",
      " |-- nationality: string (nullable = true)\n",
      " |-- year: integer (nullable = true)\n",
      " |-- month: integer (nullable = true)\n",
      " |-- origin: string (nullable = true)\n",
      " |-- destination: string (nullable = true)\n",
      " |-- takeOffs: integer (nullable = true)\n",
      " |-- distance: integer (nullable = true)\n",
      " |-- seats: integer (nullable = true)\n",
      " |-- time: string (nullable = true)\n",
      " |-- paidPassengers: integer (nullable = true)\n",
      " |-- noPaidPassengers: integer (nullable = true)\n",
      "\n"
     ]
    }
   ],
   "source": [
    "estatisticosSelect.printSchema()"
   ]
  },
  {
   "cell_type": "markdown",
   "id": "bba7f04a",
   "metadata": {},
   "source": [
    "# Carregamento na Processing Zone - Arquivos no Formato Parquet"
   ]
  },
  {
   "cell_type": "markdown",
   "id": "6235ec68",
   "metadata": {},
   "source": [
    "## Preço por ano das passagens"
   ]
  },
  {
   "cell_type": "markdown",
   "id": "4e2fbd64",
   "metadata": {},
   "source": [
    "#### 2019"
   ]
  },
  {
   "cell_type": "code",
   "execution_count": 50,
   "id": "43c7d710",
   "metadata": {},
   "outputs": [],
   "source": [
    "pathProcessingZone2019 = \"/home/danilojpfreitas/Documentos/Data Engineer/Projeto/DataPipeline-TarifasAereas/data/processing/2019\""
   ]
  },
  {
   "cell_type": "code",
   "execution_count": 51,
   "id": "cb211617",
   "metadata": {},
   "outputs": [
    {
     "name": "stderr",
     "output_type": "stream",
     "text": [
      "23/06/17 10:28:09 WARN MemoryManager: Total allocation exceeds 95,00% (1.020.054.720 bytes) of heap memory\n",
      "Scaling row group sizes to 95,00% for 8 writers\n",
      "                                                                                \r"
     ]
    }
   ],
   "source": [
    "price2019.write.parquet(\n",
    "    pathProcessingZone2019,\n",
    "    mode = 'overwrite'\n",
    ")"
   ]
  },
  {
   "cell_type": "code",
   "execution_count": 52,
   "id": "6ef8ed9b",
   "metadata": {},
   "outputs": [],
   "source": [
    "price2019Parquet = spark.read.parquet(\n",
    "    pathProcessingZone2019\n",
    ")"
   ]
  },
  {
   "cell_type": "code",
   "execution_count": 53,
   "id": "6aa3f905",
   "metadata": {},
   "outputs": [
    {
     "name": "stdout",
     "output_type": "stream",
     "text": [
      "+----+-----+-------+------+-----------+-----+-----+\n",
      "|year|month|company|origin|destination|price|seats|\n",
      "+----+-----+-------+------+-----------+-----+-----+\n",
      "|2019|    5|    AZU|  SBMO|       SBAE|558.9|    3|\n",
      "|2019|    5|    AZU|  SBMO|       SBAE|633.9|    3|\n",
      "|2019|    5|    AZU|  SBMO|       SBAE|648.9|    1|\n",
      "|2019|    5|    AZU|  SBMO|       SBAE|723.9|    2|\n",
      "|2019|    5|    AZU|  SBMO|       SBAE|773.9|    2|\n",
      "+----+-----+-------+------+-----------+-----+-----+\n",
      "\n"
     ]
    }
   ],
   "source": [
    "price2019Parquet.limit(5).show()"
   ]
  },
  {
   "cell_type": "code",
   "execution_count": 54,
   "id": "4531a5c1",
   "metadata": {},
   "outputs": [
    {
     "data": {
      "text/plain": [
       "62530"
      ]
     },
     "execution_count": 54,
     "metadata": {},
     "output_type": "execute_result"
    }
   ],
   "source": [
    "price2019Parquet.count()"
   ]
  },
  {
   "cell_type": "markdown",
   "id": "2fadc172",
   "metadata": {},
   "source": [
    "#### 2020"
   ]
  },
  {
   "cell_type": "code",
   "execution_count": 200,
   "id": "309028c7",
   "metadata": {},
   "outputs": [],
   "source": [
    "pathProcessingZone2020 = \"/home/danilojpfreitas/Documentos/Data Engineer/Projeto/DataPipeline-TarifasAereas/data/processing/2020\""
   ]
  },
  {
   "cell_type": "code",
   "execution_count": 201,
   "id": "a38dedc6",
   "metadata": {},
   "outputs": [
    {
     "name": "stderr",
     "output_type": "stream",
     "text": [
      "23/06/17 15:27:52 WARN MemoryManager: Total allocation exceeds 95,00% (1.020.054.720 bytes) of heap memory\n",
      "Scaling row group sizes to 95,00% for 8 writers\n",
      "                                                                                \r"
     ]
    }
   ],
   "source": [
    "price2020.write.parquet(\n",
    "    pathProcessingZone2020,\n",
    "    mode = 'overwrite'\n",
    ")"
   ]
  },
  {
   "cell_type": "code",
   "execution_count": 202,
   "id": "78249c1f",
   "metadata": {},
   "outputs": [],
   "source": [
    "price2020Parquet = spark.read.parquet(\n",
    "    pathProcessingZone2020\n",
    ")"
   ]
  },
  {
   "cell_type": "code",
   "execution_count": 203,
   "id": "892e6369",
   "metadata": {},
   "outputs": [
    {
     "name": "stdout",
     "output_type": "stream",
     "text": [
      "+----+-----+-------+------+-----------+------+-----+\n",
      "|year|month|company|origin|destination| price|seats|\n",
      "+----+-----+-------+------+-----------+------+-----+\n",
      "|2020|   11|    AZU|  SBMO|       SBAE|1370.9|    2|\n",
      "|2020|   11|    AZU|  SBMO|       SBAE|1409.9|    2|\n",
      "|2020|   11|    AZU|  SBMO|       SBAE| 352.8|    6|\n",
      "|2020|   11|    AZU|  SBMO|       SBAE|378.05|    1|\n",
      "|2020|   11|    AZU|  SBMO|       SBAE| 415.9|    2|\n",
      "+----+-----+-------+------+-----------+------+-----+\n",
      "\n"
     ]
    }
   ],
   "source": [
    "price2020Parquet.limit(5).show()"
   ]
  },
  {
   "cell_type": "markdown",
   "id": "cec39aff",
   "metadata": {},
   "source": [
    "#### 2021"
   ]
  },
  {
   "cell_type": "code",
   "execution_count": 59,
   "id": "998b2d72",
   "metadata": {},
   "outputs": [],
   "source": [
    "pathProcessingZone2021 = \"/home/danilojpfreitas/Documentos/Data Engineer/Projeto/DataPipeline-TarifasAereas/data/processing/2021\""
   ]
  },
  {
   "cell_type": "code",
   "execution_count": 60,
   "id": "2ab92116",
   "metadata": {},
   "outputs": [
    {
     "name": "stderr",
     "output_type": "stream",
     "text": [
      "23/06/17 10:28:17 WARN MemoryManager: Total allocation exceeds 95,00% (1.020.054.720 bytes) of heap memory\n",
      "Scaling row group sizes to 95,00% for 8 writers\n",
      "                                                                                \r"
     ]
    }
   ],
   "source": [
    "price2021.write.parquet(\n",
    "    pathProcessingZone2021,\n",
    "    mode = 'overwrite'\n",
    ")"
   ]
  },
  {
   "cell_type": "code",
   "execution_count": 61,
   "id": "f98e4df7",
   "metadata": {},
   "outputs": [],
   "source": [
    "price2021Parquet = spark.read.parquet(\n",
    "    pathProcessingZone2021\n",
    ")"
   ]
  },
  {
   "cell_type": "code",
   "execution_count": 62,
   "id": "70763d55",
   "metadata": {},
   "outputs": [
    {
     "name": "stdout",
     "output_type": "stream",
     "text": [
      "+----+-----+-------+------+-----------+-----+-----+----+\n",
      "|year|month|company|origin|destination|price|seats| _c7|\n",
      "+----+-----+-------+------+-----------+-----+-----+----+\n",
      "|2021|   11|    AZU|  SBMO|       SBAE|538.9|    2|null|\n",
      "|2021|   11|    AZU|  SBMO|       SBAE|557.9|    1|null|\n",
      "|2021|   11|    AZU|  SBMO|       SBAE|592.9|    1|null|\n",
      "|2021|   11|    AZU|  SBMO|       SBAE|697.9|    1|null|\n",
      "|2021|   11|    AZU|  SBMO|       SBAE|698.9|    1|null|\n",
      "+----+-----+-------+------+-----------+-----+-----+----+\n",
      "\n"
     ]
    }
   ],
   "source": [
    "price2021Parquet.limit(5).show()"
   ]
  },
  {
   "cell_type": "markdown",
   "id": "f8c51c17",
   "metadata": {},
   "source": [
    "#### 2022"
   ]
  },
  {
   "cell_type": "code",
   "execution_count": 309,
   "id": "6f31fc90",
   "metadata": {},
   "outputs": [],
   "source": [
    "pathProcessingZone2022 = \"/home/danilojpfreitas/Documentos/Data Engineer/Projeto/DataPipeline-TarifasAereas/data/processing/2022\""
   ]
  },
  {
   "cell_type": "code",
   "execution_count": 310,
   "id": "acbe646a",
   "metadata": {},
   "outputs": [
    {
     "name": "stderr",
     "output_type": "stream",
     "text": [
      "23/06/17 15:42:08 WARN MemoryManager: Total allocation exceeds 95,00% (1.020.054.720 bytes) of heap memory\n",
      "Scaling row group sizes to 95,00% for 8 writers\n",
      "                                                                                \r"
     ]
    }
   ],
   "source": [
    "price2022.write.parquet(\n",
    "    pathProcessingZone2022,\n",
    "    mode = 'overwrite'\n",
    ")"
   ]
  },
  {
   "cell_type": "code",
   "execution_count": 311,
   "id": "676c0f5c",
   "metadata": {},
   "outputs": [],
   "source": [
    "price2022Parquet = spark.read.parquet(\n",
    "    pathProcessingZone2022\n",
    ")"
   ]
  },
  {
   "cell_type": "code",
   "execution_count": 312,
   "id": "ff5c40ca",
   "metadata": {},
   "outputs": [
    {
     "name": "stdout",
     "output_type": "stream",
     "text": [
      "+----+-----+-------+------+-----------+------+-----+----+\n",
      "|year|month|company|origin|destination| price|seats| _c7|\n",
      "+----+-----+-------+------+-----------+------+-----+----+\n",
      "|2022|   12|    AZU|  SBMO|       SBAE| 661.9|    1|null|\n",
      "|2022|   12|    AZU|  SBMO|       SBAE| 756.9|    2|null|\n",
      "|2022|   12|    AZU|  SBMO|       SBAE|842.89|    1|null|\n",
      "|2022|   12|    AZU|  SBMO|       SBAE| 869.9|    1|null|\n",
      "|2022|   12|    AZU|  SBMO|       SBAE| 927.9|    2|null|\n",
      "+----+-----+-------+------+-----------+------+-----+----+\n",
      "\n"
     ]
    }
   ],
   "source": [
    "price2022Parquet.limit(5).show()"
   ]
  },
  {
   "cell_type": "markdown",
   "id": "9c2aa854",
   "metadata": {},
   "source": [
    "## Distância entre Maceió e outras capitais"
   ]
  },
  {
   "cell_type": "code",
   "execution_count": 67,
   "id": "53a57d10",
   "metadata": {},
   "outputs": [],
   "source": [
    "distParquet = \"/home/danilojpfreitas/Documentos/Data Engineer/Projeto/DataPipeline-TarifasAereas/data/processing/distancia\""
   ]
  },
  {
   "cell_type": "code",
   "execution_count": 68,
   "id": "374fed05",
   "metadata": {},
   "outputs": [],
   "source": [
    "dist.write.parquet(\n",
    "    distParquet,\n",
    "    mode = 'overwrite'\n",
    ")"
   ]
  },
  {
   "cell_type": "code",
   "execution_count": 69,
   "id": "877931b7",
   "metadata": {},
   "outputs": [],
   "source": [
    "dist_parquet = spark.read.parquet(distParquet)"
   ]
  },
  {
   "cell_type": "code",
   "execution_count": 70,
   "id": "9df80f01",
   "metadata": {},
   "outputs": [
    {
     "name": "stdout",
     "output_type": "stream",
     "text": [
      "+--------------+-----------+--------+\n",
      "|          city|distHighway|distLine|\n",
      "+--------------+-----------+--------+\n",
      "|    Rio Branco|       5063|    3513|\n",
      "|        Macapa|       3545|    2011|\n",
      "|        Manaus|       5444|    2779|\n",
      "|      Salvador|        578|     476|\n",
      "|     Fortaleza|        965|     731|\n",
      "|      Brasilia|       1920|    1487|\n",
      "|       Vitoria|       1611|    1282|\n",
      "|       Goiania|       2119|    1658|\n",
      "|      Sao Luis|       1584|    1236|\n",
      "|        Cuiaba|       3111|    2304|\n",
      "|  Campo Grande|       2830|    2355|\n",
      "|Belo Horizonte|       1855|    1443|\n",
      "|         Belem|       2059|    1682|\n",
      "|   Joao Pessoa|        371|     300|\n",
      "|      Curitiba|       2805|    2263|\n",
      "|        Recife|        257|     203|\n",
      "|      Teresina|       1155|     931|\n",
      "|      Teresina|       2071|    1674|\n",
      "|         Natal|        539|     435|\n",
      "|  Porto Alegre|       3531|    2778|\n",
      "+--------------+-----------+--------+\n",
      "only showing top 20 rows\n",
      "\n"
     ]
    }
   ],
   "source": [
    "dist_parquet.show()"
   ]
  },
  {
   "cell_type": "markdown",
   "id": "bc8ed961",
   "metadata": {},
   "source": [
    "## Codigo ICAO - JSON"
   ]
  },
  {
   "cell_type": "code",
   "execution_count": 71,
   "id": "11cd8331",
   "metadata": {},
   "outputs": [],
   "source": [
    "icaoParquet = \"/home/danilojpfreitas/Documentos/Data Engineer/Projeto/DataPipeline-TarifasAereas/data/processing/icao\""
   ]
  },
  {
   "cell_type": "code",
   "execution_count": 72,
   "id": "b756417b",
   "metadata": {},
   "outputs": [],
   "source": [
    "icao.write.parquet(\n",
    "    icaoParquet,\n",
    "    mode = 'overwrite'\n",
    ")"
   ]
  },
  {
   "cell_type": "code",
   "execution_count": 73,
   "id": "11298ebc",
   "metadata": {},
   "outputs": [],
   "source": [
    "icao_parquet = spark.read.parquet(\n",
    "    icaoParquet\n",
    ")"
   ]
  },
  {
   "cell_type": "code",
   "execution_count": 74,
   "id": "8605bc64",
   "metadata": {},
   "outputs": [
    {
     "name": "stdout",
     "output_type": "stream",
     "text": [
      "+----+--------------------+--------------------+-----+\n",
      "|icao|             airport|                city|state|\n",
      "+----+--------------------+--------------------+-----+\n",
      "|SBFE|JOÃO DURVAL CARNEIRO|    FEIRA DE SANTANA|   BA|\n",
      "|SSPB|         PATO BRANCO|         PATO BRANCO|   PR|\n",
      "|SBRG|          RIO GRANDE|          RIO GRANDE|   RS|\n",
      "|SBGU|TANCREDO THOMAS D...|          GUARAPUAVA|   PR|\n",
      "|SSOU|            ARIPUANÃ|            ARIPUANÃ|   MT|\n",
      "|SBSI|   FAZENDA ITAGUASSU|            MARACAJU|   MS|\n",
      "|SWSI|PRESIDENTE JOÃO B...|              SINOPE|   MG|\n",
      "|SBQV|PEDRO OTACÍLIO FI...|VITÓRIA DA CONQUISTA|   BA|\n",
      "|SBAA|CONCEIÇÃO DO ARAG...|CONCEIÇÃO DO ARAG...|   PA|\n",
      "|SBAE|       BAURU/AREALVA|               BAURU|   SP|\n",
      "|SBAQ|BARTOLOMEU DE GUSMÃO|          ARARAQUARA|   SP|\n",
      "|SBAR|         SANTA MARIA|             ARACAJU|   SE|\n",
      "|SBAT|PILOTO OSVALDO MA...|       ALTA FLORESTA|   MT|\n",
      "|SBAU|           ARAÇATUBA|           ARAÇATUBA|   SP|\n",
      "|SBAX|          ROMEU ZEMA|               ARAXÁ|   MG|\n",
      "|SBBE|INTERNACIONAL DE ...|               BELÉM|   PA|\n",
      "|SBBG|COMANDANTE GUSTAV...|                BAGÉ|   RS|\n",
      "|SBBH|PAMPULHA - CARLOS...|      BELO HORIZONTE|   MG|\n",
      "|SBBI|           BACACHERI|            CURITIBA|   PR|\n",
      "|SBBP|ESTADUAL ARTHUR S...|   BRAGANÇA PAULISTA|   SP|\n",
      "+----+--------------------+--------------------+-----+\n",
      "only showing top 20 rows\n",
      "\n"
     ]
    }
   ],
   "source": [
    "icao_parquet.show()"
   ]
  },
  {
   "cell_type": "markdown",
   "id": "258a890d",
   "metadata": {},
   "source": [
    "## Dados Estatisticos"
   ]
  },
  {
   "cell_type": "code",
   "execution_count": 75,
   "id": "f796cfe2",
   "metadata": {},
   "outputs": [
    {
     "data": {
      "text/plain": [
       "969277"
      ]
     },
     "execution_count": 75,
     "metadata": {},
     "output_type": "execute_result"
    }
   ],
   "source": [
    "estatisticosSelect.count()"
   ]
  },
  {
   "cell_type": "code",
   "execution_count": 76,
   "id": "6c180322",
   "metadata": {},
   "outputs": [
    {
     "name": "stdout",
     "output_type": "stream",
     "text": [
      "+-------+--------------------+-----------+----+-----+------+-----------+--------+--------+-----+-------+--------------+----------------+\n",
      "|company|         companyName|nationality|year|month|origin|destination|takeOffs|distance|seats|   time|paidPassengers|noPaidPassengers|\n",
      "+-------+--------------------+-----------+----+-----+------+-----------+--------+--------+-----+-------+--------------+----------------+\n",
      "|    AAL|AMERICAN AIRLINES...|ESTRANGEIRA|2000|    1|  KDFW|       SBGR|      30|  247320| 6330| 409.08|          3932|             142|\n",
      "|    AAL|AMERICAN AIRLINES...|ESTRANGEIRA|2000|    1|  KJFK|       SBGL|      29|  224141| 6119|  418.1|          2338|             131|\n",
      "|    AAL|AMERICAN AIRLINES...|ESTRANGEIRA|2000|    1|  KJFK|       SBGR|      29|  222256| 6119|  411.5|          2892|             127|\n",
      "|    AAL|AMERICAN AIRLINES...|ESTRANGEIRA|2000|    1|  KMIA|       SBCF|    null|    null| null|   null|           997|              20|\n",
      "|    AAL|AMERICAN AIRLINES...|ESTRANGEIRA|2000|    1|  KMIA|       SBGL|      31|  208227| 6541|  491.8|          3589|             133|\n",
      "|    AAL|AMERICAN AIRLINES...|ESTRANGEIRA|2000|    1|  KMIA|       SBGR|      60|  394440|12660| 937.99|          8147|             204|\n",
      "|    AAL|AMERICAN AIRLINES...|ESTRANGEIRA|2000|    1|  KMIA|       SGAS|    null|    null| null|   null|           574|              29|\n",
      "|    AAL|AMERICAN AIRLINES...|ESTRANGEIRA|2000|    1|  KMIA|       SUMU|    null|    null| null|   null|           707|              39|\n",
      "|    AAL|AMERICAN AIRLINES...|ESTRANGEIRA|2000|    1|  SBCF|       KMIA|    null|    null| null|   null|          1017|              12|\n",
      "|    AAL|AMERICAN AIRLINES...|ESTRANGEIRA|2000|    1|  SBCF|       SBGL|      31|   11222| 6541| 723.99|            31|              28|\n",
      "|    AAL|AMERICAN AIRLINES...|ESTRANGEIRA|2000|    1|  SBGL|       KJFK|      30|  231870| 6330| 440.01|          3440|             267|\n",
      "|    AAL|AMERICAN AIRLINES...|ESTRANGEIRA|2000|    1|  SBGL|       KMIA|      31|  208227| 6541| 495.26|          4417|             253|\n",
      "|    AAL|AMERICAN AIRLINES...|ESTRANGEIRA|2000|    1|  SBGL|       SBCF|      31|   11222| 6541| 722.15|             0|              14|\n",
      "|    AAL|AMERICAN AIRLINES...|ESTRANGEIRA|2000|    1|  SBGR|       KDFW|      31|  255564| 6541| 456.84|          5016|             161|\n",
      "|    AAL|AMERICAN AIRLINES...|ESTRANGEIRA|2000|    1|  SBGR|       KJFK|      29|  222256| 6119| 422.04|          3699|             202|\n",
      "|    AAL|AMERICAN AIRLINES...|ESTRANGEIRA|2000|    1|  SBGR|       KMIA|     119|  782306|25109|1862.36|         14835|             594|\n",
      "|    AAL|AMERICAN AIRLINES...|ESTRANGEIRA|2000|    1|  SBGR|       SGAS|      31|   35247| 6541| 725.03|          1442|              38|\n",
      "|    AAL|AMERICAN AIRLINES...|ESTRANGEIRA|2000|    1|  SBGR|       SUMU|      31|   48670| 6541| 707.98|          1593|              86|\n",
      "|    AAL|AMERICAN AIRLINES...|ESTRANGEIRA|2000|    1|  SGAS|       KMIA|    null|    null| null|   null|           657|              32|\n",
      "|    AAL|AMERICAN AIRLINES...|ESTRANGEIRA|2000|    1|  SGAS|       SBGR|      30|   34110| 6330| 631.41|          2130|              93|\n",
      "+-------+--------------------+-----------+----+-----+------+-----------+--------+--------+-----+-------+--------------+----------------+\n",
      "only showing top 20 rows\n",
      "\n"
     ]
    }
   ],
   "source": [
    "estatisticosSelect.show()"
   ]
  },
  {
   "cell_type": "code",
   "execution_count": 77,
   "id": "387123b3",
   "metadata": {},
   "outputs": [
    {
     "name": "stdout",
     "output_type": "stream",
     "text": [
      "+-------+--------------------+-----------+----+-----+------+-----------+--------+--------+-----+-------+--------------+----------------+\n",
      "|company|         companyName|nationality|year|month|origin|destination|takeOffs|distance|seats|   time|paidPassengers|noPaidPassengers|\n",
      "+-------+--------------------+-----------+----+-----+------+-----------+--------+--------+-----+-------+--------------+----------------+\n",
      "|    AAL|AMERICAN AIRLINES...|ESTRANGEIRA|2000|    1|  KDFW|       SBGR|      30|  247320| 6330| 409.08|          3932|             142|\n",
      "|    AAL|AMERICAN AIRLINES...|ESTRANGEIRA|2000|    1|  KJFK|       SBGL|      29|  224141| 6119|  418.1|          2338|             131|\n",
      "|    AAL|AMERICAN AIRLINES...|ESTRANGEIRA|2000|    1|  KJFK|       SBGR|      29|  222256| 6119|  411.5|          2892|             127|\n",
      "|    AAL|AMERICAN AIRLINES...|ESTRANGEIRA|2000|    1|  KMIA|       SBCF|    null|    null| null|   null|           997|              20|\n",
      "|    AAL|AMERICAN AIRLINES...|ESTRANGEIRA|2000|    1|  KMIA|       SBGL|      31|  208227| 6541|  491.8|          3589|             133|\n",
      "|    AAL|AMERICAN AIRLINES...|ESTRANGEIRA|2000|    1|  KMIA|       SBGR|      60|  394440|12660| 937.99|          8147|             204|\n",
      "|    AAL|AMERICAN AIRLINES...|ESTRANGEIRA|2000|    1|  KMIA|       SGAS|    null|    null| null|   null|           574|              29|\n",
      "|    AAL|AMERICAN AIRLINES...|ESTRANGEIRA|2000|    1|  KMIA|       SUMU|    null|    null| null|   null|           707|              39|\n",
      "|    AAL|AMERICAN AIRLINES...|ESTRANGEIRA|2000|    1|  SBCF|       KMIA|    null|    null| null|   null|          1017|              12|\n",
      "|    AAL|AMERICAN AIRLINES...|ESTRANGEIRA|2000|    1|  SBCF|       SBGL|      31|   11222| 6541| 723.99|            31|              28|\n",
      "|    AAL|AMERICAN AIRLINES...|ESTRANGEIRA|2000|    1|  SBGL|       KJFK|      30|  231870| 6330| 440.01|          3440|             267|\n",
      "|    AAL|AMERICAN AIRLINES...|ESTRANGEIRA|2000|    1|  SBGL|       KMIA|      31|  208227| 6541| 495.26|          4417|             253|\n",
      "|    AAL|AMERICAN AIRLINES...|ESTRANGEIRA|2000|    1|  SBGL|       SBCF|      31|   11222| 6541| 722.15|             0|              14|\n",
      "|    AAL|AMERICAN AIRLINES...|ESTRANGEIRA|2000|    1|  SBGR|       KDFW|      31|  255564| 6541| 456.84|          5016|             161|\n",
      "|    AAL|AMERICAN AIRLINES...|ESTRANGEIRA|2000|    1|  SBGR|       KJFK|      29|  222256| 6119| 422.04|          3699|             202|\n",
      "|    AAL|AMERICAN AIRLINES...|ESTRANGEIRA|2000|    1|  SBGR|       KMIA|     119|  782306|25109|1862.36|         14835|             594|\n",
      "|    AAL|AMERICAN AIRLINES...|ESTRANGEIRA|2000|    1|  SBGR|       SGAS|      31|   35247| 6541| 725.03|          1442|              38|\n",
      "|    AAL|AMERICAN AIRLINES...|ESTRANGEIRA|2000|    1|  SBGR|       SUMU|      31|   48670| 6541| 707.98|          1593|              86|\n",
      "|    AAL|AMERICAN AIRLINES...|ESTRANGEIRA|2000|    1|  SGAS|       KMIA|    null|    null| null|   null|           657|              32|\n",
      "|    AAL|AMERICAN AIRLINES...|ESTRANGEIRA|2000|    1|  SGAS|       SBGR|      30|   34110| 6330| 631.41|          2130|              93|\n",
      "+-------+--------------------+-----------+----+-----+------+-----------+--------+--------+-----+-------+--------------+----------------+\n",
      "only showing top 20 rows\n",
      "\n"
     ]
    }
   ],
   "source": [
    "estatisticosSelect.where('year == 2000').show()"
   ]
  },
  {
   "cell_type": "code",
   "execution_count": 78,
   "id": "959c9497",
   "metadata": {},
   "outputs": [],
   "source": [
    "estatisticos2019To2022MCZ = estatisticosSelect.where('year >= 2019').where('year <= 2022').where('origin == \"SBMO\"')"
   ]
  },
  {
   "cell_type": "code",
   "execution_count": 79,
   "id": "c47d4281",
   "metadata": {},
   "outputs": [
    {
     "name": "stderr",
     "output_type": "stream",
     "text": [
      "\r",
      "[Stage 50:=======>                                                  (1 + 7) / 8]\r",
      "\r",
      "                                                                                \r"
     ]
    },
    {
     "data": {
      "text/plain": [
       "1447"
      ]
     },
     "execution_count": 79,
     "metadata": {},
     "output_type": "execute_result"
    }
   ],
   "source": [
    "estatisticos2019To2022MCZ.count()"
   ]
  },
  {
   "cell_type": "code",
   "execution_count": 80,
   "id": "0cdbdf39",
   "metadata": {},
   "outputs": [],
   "source": [
    "estatisticosParquet = '/home/danilojpfreitas/Documentos/Data Engineer/Projeto/DataPipeline-TarifasAereas/data/processing/estatisticos'"
   ]
  },
  {
   "cell_type": "code",
   "execution_count": 81,
   "id": "3b64473c",
   "metadata": {},
   "outputs": [
    {
     "name": "stderr",
     "output_type": "stream",
     "text": [
      "                                                                                \r"
     ]
    }
   ],
   "source": [
    "estatisticos2019To2022MCZ.write.parquet(\n",
    "    estatisticosParquet,\n",
    "    mode = 'overwrite'\n",
    ")"
   ]
  },
  {
   "cell_type": "code",
   "execution_count": 82,
   "id": "438734da",
   "metadata": {},
   "outputs": [],
   "source": [
    "estatisticosParquet = spark.read.parquet(\n",
    "    estatisticosParquet\n",
    ")"
   ]
  },
  {
   "cell_type": "code",
   "execution_count": 83,
   "id": "630b74d3",
   "metadata": {},
   "outputs": [
    {
     "name": "stdout",
     "output_type": "stream",
     "text": [
      "+-------+--------------------+-----------+----+-----+------+-----------+--------+--------+-----+-------+--------------+----------------+\n",
      "|company|         companyName|nationality|year|month|origin|destination|takeOffs|distance|seats|   time|paidPassengers|noPaidPassengers|\n",
      "+-------+--------------------+-----------+----+-----+------+-----------+--------+--------+-----+-------+--------------+----------------+\n",
      "|    TAM|TAM LINHAS AÉREAS...| BRASILEIRA|2019|   11|  SBMO|       SBBR|      60|   89580|11512| 140.46|          9467|              42|\n",
      "|    TAM|TAM LINHAS AÉREAS...| BRASILEIRA|2019|   11|  SBMO|       SBGR|     141|  270720|27208| 419.36|         22874|             202|\n",
      "|    TAM|TAM LINHAS AÉREAS...| BRASILEIRA|2019|   11|  SBMO|       SBPA|       5|   13910|  882|  20.01|           743|               0|\n",
      "|    TAM|TAM LINHAS AÉREAS...| BRASILEIRA|2019|   11|  SBMO|       SBRP|       1|    1821|  162|   3.27|             0|               0|\n",
      "|    TAM|TAM LINHAS AÉREAS...| BRASILEIRA|2019|   11|  SBMO|       SBSP|       5|    9740|  858|  14.42|           728|               4|\n",
      "|    TAM|TAM LINHAS AÉREAS...| BRASILEIRA|2019|   11|  SBMO|       SBSV|       2|     936|  394|   2.48|             0|               0|\n",
      "|    TAM|TAM LINHAS AÉREAS...| BRASILEIRA|2019|   12|  SBMO|       SBBR|      62|   92566|13496| 144.47|          9041|              62|\n",
      "|    TAM|TAM LINHAS AÉREAS...| BRASILEIRA|2019|   12|  SBMO|       SBGR|     164|  314880|32154| 491.92|         26224|             195|\n",
      "|    TAM|TAM LINHAS AÉREAS...| BRASILEIRA|2019|   12|  SBMO|       SBPA|       4|   11128|  702|  15.46|           590|               0|\n",
      "|    TAM|TAM LINHAS AÉREAS...| BRASILEIRA|2019|   12|  SBMO|       SBSP|       3|    5844|  540|   9.02|           331|               0|\n",
      "|    TAM|TAM LINHAS AÉREAS...| BRASILEIRA|2019|   12|  SBMO|       SBSP|       4|    7792|  714|  11.98|           452|               1|\n",
      "|    TAM|TAM LINHAS AÉREAS...| BRASILEIRA|2019|   12|  SBMO|       SBSV|       1|     468|  174|   1.02|             0|               0|\n",
      "|    ACN|AZUL CONECTA LTDA...| BRASILEIRA|2020|    4|  SBMO|       SBAR|       5|    1080|    0|5.43333|             0|               0|\n",
      "|    ACN|AZUL CONECTA LTDA...| BRASILEIRA|2020|    4|  SBMO|       SBCF|    null|    null| null|   null|             0|               0|\n",
      "|    ACN|AZUL CONECTA LTDA...| BRASILEIRA|2020|    4|  SBMO|       SBPS|    null|    null| null|   null|             0|               0|\n",
      "|    ACN|AZUL CONECTA LTDA...| BRASILEIRA|2020|    4|  SBMO|       SBSV|    null|    null| null|   null|             0|               0|\n",
      "|    ACN|AZUL CONECTA LTDA...| BRASILEIRA|2020|    4|  SBMO|       SBVC|    null|    null| null|   null|             0|               0|\n",
      "|    ACN|AZUL CONECTA LTDA...| BRASILEIRA|2020|    5|  SBMO|       SBAR|       2|     432|    0|    2.1|             0|               0|\n",
      "|    ACN|AZUL CONECTA LTDA...| BRASILEIRA|2020|    5|  SBMO|       SBCF|    null|    null| null|   null|             0|               0|\n",
      "|    ACN|AZUL CONECTA LTDA...| BRASILEIRA|2020|    5|  SBMO|       SBKG|       1|     250|    9|1.11667|             2|               0|\n",
      "+-------+--------------------+-----------+----+-----+------+-----------+--------+--------+-----+-------+--------------+----------------+\n",
      "only showing top 20 rows\n",
      "\n"
     ]
    }
   ],
   "source": [
    "estatisticosParquet.show()"
   ]
  },
  {
   "cell_type": "code",
   "execution_count": 84,
   "id": "5349d48e",
   "metadata": {},
   "outputs": [
    {
     "data": {
      "text/plain": [
       "1447"
      ]
     },
     "execution_count": 84,
     "metadata": {},
     "output_type": "execute_result"
    }
   ],
   "source": [
    "estatisticosParquet.count()"
   ]
  },
  {
   "cell_type": "markdown",
   "id": "d6b78fa5",
   "metadata": {},
   "source": [
    "# Análise dos Dados"
   ]
  },
  {
   "cell_type": "markdown",
   "id": "4f668046",
   "metadata": {},
   "source": [
    "## Views"
   ]
  },
  {
   "cell_type": "code",
   "execution_count": 313,
   "id": "3a79d2fc",
   "metadata": {},
   "outputs": [],
   "source": [
    "price2019Parquet.createOrReplaceTempView(\"2019View\")\n",
    "price2020Parquet.createOrReplaceTempView(\"2020View\")\n",
    "price2021Parquet.createOrReplaceTempView(\"2021View\")\n",
    "price2022Parquet.createOrReplaceTempView(\"2022View\")"
   ]
  },
  {
   "cell_type": "code",
   "execution_count": 314,
   "id": "85f1af0c",
   "metadata": {},
   "outputs": [
    {
     "name": "stdout",
     "output_type": "stream",
     "text": [
      "+----+-----+-------+------+-----------+------+-----+\n",
      "|year|month|company|origin|destination| price|seats|\n",
      "+----+-----+-------+------+-----------+------+-----+\n",
      "|2020|   11|    AZU|  SBMO|       SBAE|1370.9|    2|\n",
      "|2020|   11|    AZU|  SBMO|       SBAE|1409.9|    2|\n",
      "|2020|   11|    AZU|  SBMO|       SBAE| 352.8|    6|\n",
      "|2020|   11|    AZU|  SBMO|       SBAE|378.05|    1|\n",
      "|2020|   11|    AZU|  SBMO|       SBAE| 415.9|    2|\n",
      "+----+-----+-------+------+-----------+------+-----+\n",
      "only showing top 5 rows\n",
      "\n"
     ]
    }
   ],
   "source": [
    "spark.sql(\"SELECT * FROM 2020View\").show(5)"
   ]
  },
  {
   "cell_type": "code",
   "execution_count": 315,
   "id": "5cf395c1",
   "metadata": {},
   "outputs": [
    {
     "name": "stdout",
     "output_type": "stream",
     "text": [
      "+-----------+-------------+\n",
      "|destination|count(origin)|\n",
      "+-----------+-------------+\n",
      "|       SBGR|         8240|\n",
      "|       SBBR|         4852|\n",
      "|       SBGL|         3411|\n",
      "|       SBPA|         3011|\n",
      "|       SBKP|         2938|\n",
      "|       SBCF|         2925|\n",
      "|       SBCT|         2370|\n",
      "|       SBSP|         2266|\n",
      "|       SBRJ|         1857|\n",
      "|       SBCG|         1823|\n",
      "|       SBFL|         1794|\n",
      "|       SBSV|         1630|\n",
      "|       SBGO|         1539|\n",
      "|       SBCY|         1527|\n",
      "|       SBRP|         1314|\n",
      "|       SBEG|         1232|\n",
      "|       SBLO|         1208|\n",
      "|       SBVT|         1197|\n",
      "|       SBSR|         1135|\n",
      "|       SBRF|         1018|\n",
      "|       SBPV|         1016|\n",
      "|       SBBE|          931|\n",
      "|       SBFZ|          928|\n",
      "|       SBUL|          861|\n",
      "|       SBFI|          778|\n",
      "|       SBNF|          729|\n",
      "|       SBRB|          703|\n",
      "|       SBSL|          665|\n",
      "|       SBTE|          621|\n",
      "|       SBPJ|          518|\n",
      "|       SBSG|          513|\n",
      "|       SBMG|          430|\n",
      "|       SBJV|          426|\n",
      "|       SBCH|          388|\n",
      "|       SBMQ|          366|\n",
      "|       SBBV|          307|\n",
      "|       SBDN|          279|\n",
      "|       SBIZ|          265|\n",
      "|       SBMA|          244|\n",
      "|       SBAU|          220|\n",
      "|       SBJP|          194|\n",
      "|       SBPL|          194|\n",
      "|       SBAE|          190|\n",
      "|       SBCA|          181|\n",
      "|       SBAR|          169|\n",
      "|       SBSN|          154|\n",
      "|       SBMK|          153|\n",
      "|       SBIL|          153|\n",
      "|       SBPF|          139|\n",
      "|       SBJA|          135|\n",
      "|       SBUR|          134|\n",
      "|       SBML|          123|\n",
      "|       SBQV|          119|\n",
      "|       SBPS|          106|\n",
      "|       SBCX|          104|\n",
      "|       SBMS|           94|\n",
      "|       SBTG|           91|\n",
      "|       SWLC|           85|\n",
      "|       SBJI|           84|\n",
      "|       SWSI|           80|\n",
      "|       SBJU|           79|\n",
      "|       SBZM|           70|\n",
      "|       SBFN|           68|\n",
      "|       SBDO|           68|\n",
      "|       SSKW|           65|\n",
      "|       SBCZ|           64|\n",
      "|       SBIP|           54|\n",
      "|       SBPK|           52|\n",
      "|       SNBR|           52|\n",
      "|       SBHT|           52|\n",
      "|       SBVH|           52|\n",
      "|       SBAT|           48|\n",
      "|       SBSI|           47|\n",
      "|       SBRD|           39|\n",
      "|       SBSM|           35|\n",
      "|       SBUG|           33|\n",
      "|       SBGV|           33|\n",
      "|       SBKG|           27|\n",
      "|       SBPG|           27|\n",
      "|       SWGN|           27|\n",
      "|       SBLJ|           26|\n",
      "|       SBCJ|           25|\n",
      "|       SNTF|           24|\n",
      "|       SBCR|           23|\n",
      "|       SBNM|           22|\n",
      "|       SBCP|           20|\n",
      "|       SSPB|           20|\n",
      "|       SBVG|           18|\n",
      "|       SBVC|           17|\n",
      "|       SBSO|           16|\n",
      "|       SBBW|           13|\n",
      "|       SBTT|           13|\n",
      "|       SBAC|           12|\n",
      "|       SBAQ|           10|\n",
      "|       SBBG|           10|\n",
      "|       SBCB|            9|\n",
      "|       SBTD|            9|\n",
      "|       SBAX|            9|\n",
      "|       SBDB|            9|\n",
      "|       SSSB|            7|\n",
      "|       SSZR|            6|\n",
      "|       SSKM|            6|\n",
      "|       SBME|            6|\n",
      "|       SSCT|            6|\n",
      "|       SNBA|            5|\n",
      "|       SBRG|            5|\n",
      "|       SSFB|            5|\n",
      "|       SBCN|            4|\n",
      "|       SBGU|            4|\n",
      "|       SSUV|            3|\n",
      "|       SBLE|            3|\n",
      "|       SBFE|            3|\n",
      "|       SSGY|            2|\n",
      "|       SBJE|            2|\n",
      "|       SSPI|            2|\n",
      "|       SBTF|            2|\n",
      "|       SSVL|            2|\n",
      "|       SSOG|            1|\n",
      "|       SIMK|            1|\n",
      "|       SBSJ|            1|\n",
      "+-----------+-------------+\n",
      "\n"
     ]
    }
   ],
   "source": [
    "spark.sql(\"\"\"\n",
    "        SELECT \n",
    "        destination, count(origin)\n",
    "        FROM\n",
    "        2019View\n",
    "        GROUP BY destination\n",
    "        ORDER BY count(origin) DESC;\n",
    "        \"\"\").show(1000)"
   ]
  },
  {
   "cell_type": "code",
   "execution_count": 316,
   "id": "1408ccec",
   "metadata": {},
   "outputs": [],
   "source": [
    "icao_parquet.createOrReplaceTempView(\"icaoView\")"
   ]
  },
  {
   "cell_type": "code",
   "execution_count": 317,
   "id": "769c6528",
   "metadata": {},
   "outputs": [
    {
     "name": "stdout",
     "output_type": "stream",
     "text": [
      "+----+--------------------+--------------------+-----+\n",
      "|icao|             airport|                city|state|\n",
      "+----+--------------------+--------------------+-----+\n",
      "|SBFE|JOÃO DURVAL CARNEIRO|    FEIRA DE SANTANA|   BA|\n",
      "|SSPB|         PATO BRANCO|         PATO BRANCO|   PR|\n",
      "|SBRG|          RIO GRANDE|          RIO GRANDE|   RS|\n",
      "|SBGU|TANCREDO THOMAS D...|          GUARAPUAVA|   PR|\n",
      "|SSOU|            ARIPUANÃ|            ARIPUANÃ|   MT|\n",
      "|SBSI|   FAZENDA ITAGUASSU|            MARACAJU|   MS|\n",
      "|SWSI|PRESIDENTE JOÃO B...|              SINOPE|   MG|\n",
      "|SBQV|PEDRO OTACÍLIO FI...|VITÓRIA DA CONQUISTA|   BA|\n",
      "|SBAA|CONCEIÇÃO DO ARAG...|CONCEIÇÃO DO ARAG...|   PA|\n",
      "|SBAE|       BAURU/AREALVA|               BAURU|   SP|\n",
      "+----+--------------------+--------------------+-----+\n",
      "only showing top 10 rows\n",
      "\n"
     ]
    }
   ],
   "source": [
    "spark.sql(\"\"\"\n",
    "        SELECT \n",
    "        *\n",
    "        FROM\n",
    "        icaoView;\n",
    "        \"\"\").show(10)"
   ]
  },
  {
   "cell_type": "code",
   "execution_count": 90,
   "id": "3d4a36a8",
   "metadata": {},
   "outputs": [],
   "source": [
    "dist_parquet.createOrReplaceTempView(\"distView\")"
   ]
  },
  {
   "cell_type": "code",
   "execution_count": 91,
   "id": "a3724b7e",
   "metadata": {},
   "outputs": [
    {
     "name": "stdout",
     "output_type": "stream",
     "text": [
      "+----------+-----------+--------+\n",
      "|      city|distHighway|distLine|\n",
      "+----------+-----------+--------+\n",
      "|Rio Branco|       5063|    3513|\n",
      "|    Macapa|       3545|    2011|\n",
      "|    Manaus|       5444|    2779|\n",
      "|  Salvador|        578|     476|\n",
      "| Fortaleza|        965|     731|\n",
      "|  Brasilia|       1920|    1487|\n",
      "|   Vitoria|       1611|    1282|\n",
      "|   Goiania|       2119|    1658|\n",
      "|  Sao Luis|       1584|    1236|\n",
      "|    Cuiaba|       3111|    2304|\n",
      "+----------+-----------+--------+\n",
      "only showing top 10 rows\n",
      "\n"
     ]
    }
   ],
   "source": [
    "spark.sql(\"\"\"\n",
    "        SELECT\n",
    "        *\n",
    "        FROM\n",
    "        distView;\n",
    "        \"\"\").show(10)"
   ]
  },
  {
   "cell_type": "code",
   "execution_count": 92,
   "id": "935fc722",
   "metadata": {},
   "outputs": [],
   "source": [
    "estatisticosParquet.createOrReplaceTempView(\"estatisticosView\")"
   ]
  },
  {
   "cell_type": "code",
   "execution_count": 93,
   "id": "1376653e",
   "metadata": {},
   "outputs": [
    {
     "name": "stdout",
     "output_type": "stream",
     "text": [
      "+-------+--------------------+-----------+----+-----+------+-----------+--------+--------+-----+------+--------------+----------------+\n",
      "|company|         companyName|nationality|year|month|origin|destination|takeOffs|distance|seats|  time|paidPassengers|noPaidPassengers|\n",
      "+-------+--------------------+-----------+----+-----+------+-----------+--------+--------+-----+------+--------------+----------------+\n",
      "|    TAM|TAM LINHAS AÉREAS...| BRASILEIRA|2019|   11|  SBMO|       SBBR|      60|   89580|11512|140.46|          9467|              42|\n",
      "|    TAM|TAM LINHAS AÉREAS...| BRASILEIRA|2019|   11|  SBMO|       SBGR|     141|  270720|27208|419.36|         22874|             202|\n",
      "|    TAM|TAM LINHAS AÉREAS...| BRASILEIRA|2019|   11|  SBMO|       SBPA|       5|   13910|  882| 20.01|           743|               0|\n",
      "|    TAM|TAM LINHAS AÉREAS...| BRASILEIRA|2019|   11|  SBMO|       SBRP|       1|    1821|  162|  3.27|             0|               0|\n",
      "|    TAM|TAM LINHAS AÉREAS...| BRASILEIRA|2019|   11|  SBMO|       SBSP|       5|    9740|  858| 14.42|           728|               4|\n",
      "|    TAM|TAM LINHAS AÉREAS...| BRASILEIRA|2019|   11|  SBMO|       SBSV|       2|     936|  394|  2.48|             0|               0|\n",
      "|    TAM|TAM LINHAS AÉREAS...| BRASILEIRA|2019|   12|  SBMO|       SBBR|      62|   92566|13496|144.47|          9041|              62|\n",
      "|    TAM|TAM LINHAS AÉREAS...| BRASILEIRA|2019|   12|  SBMO|       SBGR|     164|  314880|32154|491.92|         26224|             195|\n",
      "|    TAM|TAM LINHAS AÉREAS...| BRASILEIRA|2019|   12|  SBMO|       SBPA|       4|   11128|  702| 15.46|           590|               0|\n",
      "|    TAM|TAM LINHAS AÉREAS...| BRASILEIRA|2019|   12|  SBMO|       SBSP|       3|    5844|  540|  9.02|           331|               0|\n",
      "+-------+--------------------+-----------+----+-----+------+-----------+--------+--------+-----+------+--------------+----------------+\n",
      "only showing top 10 rows\n",
      "\n"
     ]
    }
   ],
   "source": [
    "spark.sql(\"\"\"\n",
    "    SELECT\n",
    "    *\n",
    "    FROM\n",
    "    estatisticosView\n",
    "\"\"\").show(10)"
   ]
  },
  {
   "cell_type": "markdown",
   "id": "2cb4ec3c",
   "metadata": {},
   "source": [
    "### Testes com Estatisticos"
   ]
  },
  {
   "cell_type": "code",
   "execution_count": 108,
   "id": "fc641272",
   "metadata": {},
   "outputs": [
    {
     "name": "stdout",
     "output_type": "stream",
     "text": [
      "+-------+--------------------+-----------+----+-----+------+-----------+--------+--------+-----+-------+--------------+----------------+\n",
      "|company|         companyName|nationality|year|month|origin|destination|takeOffs|distance|seats|   time|paidPassengers|noPaidPassengers|\n",
      "+-------+--------------------+-----------+----+-----+------+-----------+--------+--------+-----+-------+--------------+----------------+\n",
      "|    AZU|AZUL LINHAS AÉREA...| BRASILEIRA|2019|    5|  SBMO|       SBCF|      12|   17124| 1640|28.0333|          1584|              18|\n",
      "|    AZU|AZUL LINHAS AÉREA...| BRASILEIRA|2019|    5|  SBMO|       SBKP|      36|   69336| 5463|105.883|          5008|             181|\n",
      "|    AZU|AZUL LINHAS AÉREA...| BRASILEIRA|2019|    5|  SBMO|       SBRF|     110|   19910| 7810|   90.8|          6683|             139|\n",
      "|    AZU|AZUL LINHAS AÉREA...| BRASILEIRA|2019|    5|  SBMO|       SBRP|       2|    3642|  236|6.16667|           216|               5|\n",
      "|    AZU|AZUL LINHAS AÉREA...| BRASILEIRA|2019|    5|  SBMO|       SBUL|    null|    null| null|   null|           133|               0|\n",
      "+-------+--------------------+-----------+----+-----+------+-----------+--------+--------+-----+-------+--------------+----------------+\n",
      "\n"
     ]
    }
   ],
   "source": [
    "spark.sql(\"\"\"\n",
    "    SELECT\n",
    "    *\n",
    "    FROM\n",
    "    estatisticosView\n",
    "    WHERE month == 5 AND year == 2019 AND company == 'AZU'  \n",
    "\"\"\").show(5)"
   ]
  },
  {
   "cell_type": "code",
   "execution_count": 131,
   "id": "671edbd5",
   "metadata": {},
   "outputs": [
    {
     "name": "stdout",
     "output_type": "stream",
     "text": [
      "+----+-----+-------+------+-----------+------+-----+\n",
      "|year|month|company|origin|destination| price|seats|\n",
      "+----+-----+-------+------+-----------+------+-----+\n",
      "|2019|    5|    AZU|  SBMO|       SBAE| 558.9|    3|\n",
      "|2019|    5|    AZU|  SBMO|       SBAE| 633.9|    3|\n",
      "|2019|    5|    AZU|  SBMO|       SBAE| 648.9|    1|\n",
      "|2019|    5|    AZU|  SBMO|       SBAE| 723.9|    2|\n",
      "|2019|    5|    AZU|  SBMO|       SBAE| 773.9|    2|\n",
      "|2019|    5|    AZU|  SBMO|       SBAE| 845.9|    6|\n",
      "|2019|    5|    AZU|  SBMO|       SBAE|1007.9|    3|\n",
      "|2019|    5|    AZU|  SBMO|       SBAE|1080.9|    1|\n",
      "|2019|    5|    AZU|  SBMO|       SBAE|1372.9|    2|\n",
      "|2019|    5|    AZU|  SBMO|       SBAE|1453.9|    1|\n",
      "|2019|    5|    AZU|  SBMO|       SBAR| 445.9|    1|\n",
      "|2019|    5|    AZU|  SBMO|       SBAR| 530.9|    1|\n",
      "|2019|    5|    AZU|  SBMO|       SBAR| 595.9|    1|\n",
      "|2019|    5|    AZU|  SBMO|       SBAR| 684.9|    1|\n",
      "|2019|    5|    AZU|  SBMO|       SBAR| 725.9|    1|\n",
      "|2019|    5|    AZU|  SBMO|       SBAR| 749.9|    1|\n",
      "|2019|    5|    AZU|  SBMO|       SBAR| 795.9|    1|\n",
      "|2019|    5|    AZU|  SBMO|       SBAR| 883.9|    2|\n",
      "|2019|    5|    AZU|  SBMO|       SBAR|1060.9|    2|\n",
      "|2019|    5|    AZU|  SBMO|       SBAR|1135.9|    1|\n",
      "+----+-----+-------+------+-----------+------+-----+\n",
      "only showing top 20 rows\n",
      "\n"
     ]
    }
   ],
   "source": [
    "spark.sql(\"\"\"\n",
    "        SELECT \n",
    "        *\n",
    "        FROM\n",
    "        2019View\n",
    "\"\"\").show()"
   ]
  },
  {
   "cell_type": "code",
   "execution_count": 140,
   "id": "beb22613",
   "metadata": {},
   "outputs": [],
   "source": [
    "avgPrice2019 = spark.sql(\"\"\"\n",
    "        SELECT\n",
    "        year, month, company, origin, destination, \n",
    "        ROUND((SUM(price*seats)/SUM(seats)), 2) AS priceAVG, SUM(seats) AS seats\n",
    "        FROM\n",
    "        2019View    \n",
    "        GROUP BY year, month, company, origin, destination\n",
    "        ORDER BY month\n",
    "\"\"\")"
   ]
  },
  {
   "cell_type": "code",
   "execution_count": 142,
   "id": "2cb0238f",
   "metadata": {},
   "outputs": [],
   "source": [
    "avgPrice2019.createOrReplaceTempView(\"avgPrice2019View\")"
   ]
  },
  {
   "cell_type": "code",
   "execution_count": 144,
   "id": "2d2eb4e9",
   "metadata": {},
   "outputs": [
    {
     "name": "stdout",
     "output_type": "stream",
     "text": [
      "root\n",
      " |-- year: integer (nullable = true)\n",
      " |-- month: integer (nullable = true)\n",
      " |-- company: string (nullable = true)\n",
      " |-- origin: string (nullable = true)\n",
      " |-- destination: string (nullable = true)\n",
      " |-- priceAVG: double (nullable = true)\n",
      " |-- seats: long (nullable = true)\n",
      "\n"
     ]
    }
   ],
   "source": [
    "avgPrice2019.printSchema()"
   ]
  },
  {
   "cell_type": "code",
   "execution_count": 145,
   "id": "2ab38e78",
   "metadata": {},
   "outputs": [],
   "source": [
    "joinAvgPriceEstatisticos2019 = spark.sql(\"\"\"\n",
    "        SELECT\n",
    "        A.year, A.month, A.company, B.companyName, C.city,\n",
    "        C.state, A.destination, A.priceAVG, A.seats AS seatsAVG, \n",
    "        B.takeOffs, B.distance, B.seats AS seatsAll,\n",
    "        B.time\n",
    "        FROM\n",
    "        avgPrice2019View A\n",
    "        LEFT JOIN\n",
    "        (SELECT * FROM estatisticosView WHERE year == 2019) B\n",
    "        ON A.month = B.month AND A.company = B.company AND A.destination == B.destination\n",
    "        LEFT JOIN\n",
    "        icaoView C\n",
    "        ON A.destination = C.icao\n",
    "\"\"\")"
   ]
  },
  {
   "cell_type": "code",
   "execution_count": 149,
   "id": "ffb7027f",
   "metadata": {},
   "outputs": [
    {
     "data": {
      "text/plain": [
       "2296"
      ]
     },
     "execution_count": 149,
     "metadata": {},
     "output_type": "execute_result"
    }
   ],
   "source": [
    "joinAvgPriceEstatisticos2019.count()"
   ]
  },
  {
   "cell_type": "code",
   "execution_count": 150,
   "id": "3156694b",
   "metadata": {},
   "outputs": [
    {
     "name": "stdout",
     "output_type": "stream",
     "text": [
      "root\n",
      " |-- year: integer (nullable = true)\n",
      " |-- month: integer (nullable = true)\n",
      " |-- company: string (nullable = true)\n",
      " |-- companyName: string (nullable = true)\n",
      " |-- city: string (nullable = true)\n",
      " |-- state: string (nullable = true)\n",
      " |-- destination: string (nullable = true)\n",
      " |-- priceAVG: double (nullable = true)\n",
      " |-- seatsAVG: long (nullable = true)\n",
      " |-- takeOffs: integer (nullable = true)\n",
      " |-- distance: integer (nullable = true)\n",
      " |-- seatsAll: integer (nullable = true)\n",
      " |-- time: string (nullable = true)\n",
      "\n"
     ]
    }
   ],
   "source": [
    "joinAvgPriceEstatisticos2019.printSchema()"
   ]
  },
  {
   "cell_type": "code",
   "execution_count": 166,
   "id": "2b1ce041",
   "metadata": {},
   "outputs": [
    {
     "data": {
      "text/plain": [
       "341"
      ]
     },
     "execution_count": 166,
     "metadata": {},
     "output_type": "execute_result"
    }
   ],
   "source": [
    "joinAvgPriceEstatisticos2019.where(test.time.isNotNull()).count()"
   ]
  },
  {
   "cell_type": "markdown",
   "id": "3c30f82c",
   "metadata": {},
   "source": [
    "### Tabelas Estatisticos e Price não podem ser unidas! -> Criar Separadas"
   ]
  },
  {
   "cell_type": "markdown",
   "id": "8f56dfbf",
   "metadata": {},
   "source": [
    "## Junção das tabelas por ano"
   ]
  },
  {
   "cell_type": "markdown",
   "id": "32033ca6",
   "metadata": {},
   "source": [
    "### 2019"
   ]
  },
  {
   "cell_type": "code",
   "execution_count": 248,
   "id": "a6e4a864",
   "metadata": {},
   "outputs": [],
   "source": [
    "avgPrice2019 = spark.sql(\"\"\"\n",
    "        SELECT\n",
    "        year, month, company, origin, destination, \n",
    "        ROUND((SUM(price*seats)/SUM(seats)), 2) AS priceAVG, SUM(seats) AS seats\n",
    "        FROM\n",
    "        2019View    \n",
    "        GROUP BY year, month, company, origin, destination\n",
    "        ORDER BY month\n",
    "\"\"\")"
   ]
  },
  {
   "cell_type": "code",
   "execution_count": 249,
   "id": "781c3f10",
   "metadata": {},
   "outputs": [],
   "source": [
    "avgPrice2019.createOrReplaceTempView(\"avgPrice2019View\")"
   ]
  },
  {
   "cell_type": "code",
   "execution_count": 250,
   "id": "a681c127",
   "metadata": {},
   "outputs": [],
   "source": [
    "data2019 = spark.sql(\"\"\"\n",
    "        SELECT\n",
    "        A.year, A.month, A.company, B.companyName, C.city,\n",
    "        C.state, A.destination, A.priceAVG, A.seats AS seatsAVG, \n",
    "        B.takeOffs, B.distance, B.seats AS seatsAll,\n",
    "        B.time\n",
    "        FROM\n",
    "        avgPrice2019View A\n",
    "        LEFT JOIN\n",
    "        (SELECT * FROM estatisticosView WHERE year == 2019) B\n",
    "        ON A.month = B.month AND A.company = B.company AND A.destination == B.destination\n",
    "        LEFT JOIN\n",
    "        icaoView C\n",
    "        ON A.destination = C.icao\n",
    "        \"\"\")"
   ]
  },
  {
   "cell_type": "code",
   "execution_count": 251,
   "id": "352dfcde",
   "metadata": {},
   "outputs": [],
   "source": [
    "data2019 = data2019.where(data2019.time.isNotNull())"
   ]
  },
  {
   "cell_type": "code",
   "execution_count": 252,
   "id": "d264422e",
   "metadata": {},
   "outputs": [
    {
     "name": "stdout",
     "output_type": "stream",
     "text": [
      "+----+-----+-------+--------------------+--------------+-----+-----------+--------+--------+--------+--------+--------+------+\n",
      "|year|month|company|         companyName|          city|state|destination|priceAVG|seatsAVG|takeOffs|distance|seatsAll|  time|\n",
      "+----+-----+-------+--------------------+--------------+-----+-----------+--------+--------+--------+--------+--------+------+\n",
      "|2019|    5|    TAM|TAM LINHAS AÉREAS...|RIO DE JANEIRO|   RJ|       SBGL|  631.47|     535|       8|   13424|    1760| 19.85|\n",
      "|2019|    1|    TAM|TAM LINHAS AÉREAS...|RIO DE JANEIRO|   RJ|       SBGL|  532.17|     904|      12|   20136|    2456| 30.04|\n",
      "|2019|    6|    GLO|GOL LINHAS AÉREAS...|     SÃO PAULO|   SP|       SBSP|  508.06|    1861|      40|   77920|    7296|121.86|\n",
      "|2019|    6|    GLO|GOL LINHAS AÉREAS...|     SÃO PAULO|   SP|       SBSP|  508.06|    1861|       1|    1948|     138|  3.08|\n",
      "|2019|    1|    GLO|GOL LINHAS AÉREAS...|     SÃO PAULO|   SP|       SBSP|  537.27|    2670|      38|   74024|    7068|114.15|\n",
      "+----+-----+-------+--------------------+--------------+-----+-----------+--------+--------+--------+--------+--------+------+\n",
      "\n"
     ]
    }
   ],
   "source": [
    "data2019.limit(5).show()"
   ]
  },
  {
   "cell_type": "code",
   "execution_count": 253,
   "id": "9d7f83eb",
   "metadata": {},
   "outputs": [
    {
     "data": {
      "text/plain": [
       "341"
      ]
     },
     "execution_count": 253,
     "metadata": {},
     "output_type": "execute_result"
    }
   ],
   "source": [
    "data2019.count()"
   ]
  },
  {
   "cell_type": "code",
   "execution_count": 254,
   "id": "ec528232",
   "metadata": {},
   "outputs": [],
   "source": [
    "pathData2019 = \"/home/danilojpfreitas/Documentos/Data Engineer/Projeto/DataPipeline-TarifasAereas/data/curated/data/2019\""
   ]
  },
  {
   "cell_type": "code",
   "execution_count": 255,
   "id": "96d1c5ac",
   "metadata": {},
   "outputs": [],
   "source": [
    "data2019.write.option(\"header\",True).option(\"delimiter\", \",\").mode(\"overwrite\").csv(pathData2019)"
   ]
  },
  {
   "cell_type": "code",
   "execution_count": 256,
   "id": "4c94a39d",
   "metadata": {},
   "outputs": [],
   "source": [
    "curated2019 = spark.read.csv(pathData2019, sep=',', header=True) "
   ]
  },
  {
   "cell_type": "code",
   "execution_count": 257,
   "id": "64bd8e89",
   "metadata": {},
   "outputs": [
    {
     "name": "stdout",
     "output_type": "stream",
     "text": [
      "+----+-----+-------+--------------------+--------------+-----+-----------+--------+--------+--------+--------+--------+------+\n",
      "|year|month|company|         companyName|          city|state|destination|priceAVG|seatsAVG|takeOffs|distance|seatsAll|  time|\n",
      "+----+-----+-------+--------------------+--------------+-----+-----------+--------+--------+--------+--------+--------+------+\n",
      "|2019|    5|    TAM|TAM LINHAS AÉREAS...|RIO DE JANEIRO|   RJ|       SBGL|  631.47|     535|       8|   13424|    1760| 19.85|\n",
      "|2019|    1|    TAM|TAM LINHAS AÉREAS...|RIO DE JANEIRO|   RJ|       SBGL|  532.17|     904|      12|   20136|    2456| 30.04|\n",
      "|2019|    6|    GLO|GOL LINHAS AÉREAS...|     SÃO PAULO|   SP|       SBSP|  508.06|    1861|      40|   77920|    7296|121.86|\n",
      "|2019|    6|    GLO|GOL LINHAS AÉREAS...|     SÃO PAULO|   SP|       SBSP|  508.06|    1861|       1|    1948|     138|  3.08|\n",
      "|2019|    1|    GLO|GOL LINHAS AÉREAS...|     SÃO PAULO|   SP|       SBSP|  537.27|    2670|      38|   74024|    7068|114.15|\n",
      "|2019|    1|    GLO|GOL LINHAS AÉREAS...|     SÃO PAULO|   SP|       SBSP|  537.27|    2670|      30|   58440|    5436|  89.1|\n",
      "|2019|    1|    GLO|GOL LINHAS AÉREAS...|       CONFINS|   MG|       SBCF|  617.52|     523|       1|    1427|     186|  3.03|\n",
      "|2019|    5|    TAM|TAM LINHAS AÉREAS...|     GUARULHOS|   SP|       SBGR|  724.96|    4379|      93|  178560|   19388|274.33|\n",
      "|2019|    1|    ONE|OCEANAIR LINHAS A...|RIO DE JANEIRO|   RJ|       SBGL|  678.58|     211|       3|    5034|     486| 10.94|\n",
      "|2019|    5|    AZU|AZUL LINHAS AÉREA...|        RECIFE|   PE|       SBRF|  689.74|     300|     110|   19910|    7810|  90.8|\n",
      "+----+-----+-------+--------------------+--------------+-----+-----------+--------+--------+--------+--------+--------+------+\n",
      "\n"
     ]
    }
   ],
   "source": [
    "curated2019.limit(10).show()"
   ]
  },
  {
   "cell_type": "code",
   "execution_count": 258,
   "id": "2e69e3fc",
   "metadata": {},
   "outputs": [
    {
     "name": "stdout",
     "output_type": "stream",
     "text": [
      "+----+-----+-------+-----------+----+-----+-----------+--------+--------+--------+--------+--------+----+\n",
      "|year|month|company|companyName|city|state|destination|priceAVG|seatsAVG|takeOffs|distance|seatsAll|time|\n",
      "+----+-----+-------+-----------+----+-----+-----------+--------+--------+--------+--------+--------+----+\n",
      "+----+-----+-------+-----------+----+-----+-----------+--------+--------+--------+--------+--------+----+\n",
      "\n"
     ]
    }
   ],
   "source": [
    "curated2019.where(curated2019.city.isNull()).show()"
   ]
  },
  {
   "cell_type": "markdown",
   "id": "d7e8066b",
   "metadata": {},
   "source": [
    "### 2020"
   ]
  },
  {
   "cell_type": "code",
   "execution_count": 259,
   "id": "2315d3d9",
   "metadata": {},
   "outputs": [],
   "source": [
    "avgPrice2020 = spark.sql(\"\"\"\n",
    "        SELECT\n",
    "        year, month, company, origin, destination, \n",
    "        ROUND((SUM(price*seats)/SUM(seats)), 2) AS priceAVG, SUM(seats) AS seats\n",
    "        FROM\n",
    "        2020View    \n",
    "        GROUP BY year, month, company, origin, destination\n",
    "        ORDER BY month\n",
    "\"\"\")"
   ]
  },
  {
   "cell_type": "code",
   "execution_count": 260,
   "id": "0127f7d2",
   "metadata": {},
   "outputs": [],
   "source": [
    "avgPrice2020.createOrReplaceTempView(\"avgPrice2020View\")"
   ]
  },
  {
   "cell_type": "code",
   "execution_count": 261,
   "id": "2ae1c9d8",
   "metadata": {},
   "outputs": [],
   "source": [
    "data2020 = spark.sql(\"\"\"\n",
    "        SELECT\n",
    "        A.year, A.month, A.company, B.companyName, C.city,\n",
    "        C.state, A.destination, A.priceAVG, A.seats AS seatsAVG, \n",
    "        B.takeOffs, B.distance, B.seats AS seatsAll,\n",
    "        B.time\n",
    "        FROM\n",
    "        avgPrice2020View A\n",
    "        LEFT JOIN\n",
    "        (SELECT * FROM estatisticosView WHERE year == 2020) B\n",
    "        ON A.month = B.month AND A.company = B.company AND A.destination == B.destination\n",
    "        LEFT JOIN\n",
    "        icaoView C\n",
    "        ON A.destination = C.icao\n",
    "        \"\"\")"
   ]
  },
  {
   "cell_type": "code",
   "execution_count": 262,
   "id": "11bcf2e1",
   "metadata": {},
   "outputs": [],
   "source": [
    "data2020 = data2020.where(data2020.time.isNotNull())"
   ]
  },
  {
   "cell_type": "code",
   "execution_count": 263,
   "id": "4a5e59c2",
   "metadata": {},
   "outputs": [
    {
     "name": "stdout",
     "output_type": "stream",
     "text": [
      "+----+-----+-------+--------------------+--------------+-----+-----------+--------+--------+--------+--------+--------+-------+\n",
      "|year|month|company|         companyName|          city|state|destination|priceAVG|seatsAVG|takeOffs|distance|seatsAll|   time|\n",
      "+----+-----+-------+--------------------+--------------+-----+-----------+--------+--------+--------+--------+--------+-------+\n",
      "|2020|   10|    GLO|GOL LINHAS AÉREAS...|      SALVADOR|   BA|       SBSV|  537.64|     241|       1|     468|     186|1.16667|\n",
      "|2020|   11|    TAM|TAM LINHAS AÉREAS...|RIO DE JANEIRO|   RJ|       SBGL|  692.92|     157|       1|    1678|     214|3.66667|\n",
      "|2020|   10|    TAM|TAM LINHAS AÉREAS...|     GUARULHOS|   SP|       SBGR|  625.82|    4580|      79|  151680|   14918|235.583|\n",
      "|2020|   11|    GLO|GOL LINHAS AÉREAS...|RIO DE JANEIRO|   RJ|       SBGL|  441.24|    3372|      30|   50340|    5499|83.6167|\n",
      "|2020|   10|    GLO|GOL LINHAS AÉREAS...|RIO DE JANEIRO|   RJ|       SBGL|  712.89|     941|      31|   52018|    5718|87.3333|\n",
      "+----+-----+-------+--------------------+--------------+-----+-----------+--------+--------+--------+--------+--------+-------+\n",
      "\n"
     ]
    }
   ],
   "source": [
    "data2020.limit(5).show()"
   ]
  },
  {
   "cell_type": "code",
   "execution_count": 264,
   "id": "eb2dd9b5",
   "metadata": {},
   "outputs": [
    {
     "data": {
      "text/plain": [
       "186"
      ]
     },
     "execution_count": 264,
     "metadata": {},
     "output_type": "execute_result"
    }
   ],
   "source": [
    "data2020.count()"
   ]
  },
  {
   "cell_type": "code",
   "execution_count": 265,
   "id": "9119a3e7",
   "metadata": {},
   "outputs": [],
   "source": [
    "pathData2020 = \"/home/danilojpfreitas/Documentos/Data Engineer/Projeto/DataPipeline-TarifasAereas/data/curated/data/2020\""
   ]
  },
  {
   "cell_type": "code",
   "execution_count": 266,
   "id": "c45eda80",
   "metadata": {},
   "outputs": [],
   "source": [
    "data2020.write.option(\"header\",True).option(\"delimiter\", \",\").mode(\"overwrite\").csv(pathData2020)"
   ]
  },
  {
   "cell_type": "code",
   "execution_count": 267,
   "id": "ebbf7199",
   "metadata": {},
   "outputs": [],
   "source": [
    "curated2020 = spark.read.csv(pathData2020, sep=',', header=True) "
   ]
  },
  {
   "cell_type": "code",
   "execution_count": 268,
   "id": "f9c981ec",
   "metadata": {},
   "outputs": [
    {
     "name": "stdout",
     "output_type": "stream",
     "text": [
      "+----+-----+-------+--------------------+--------------+-----+-----------+--------+--------+--------+--------+--------+-------+\n",
      "|year|month|company|         companyName|          city|state|destination|priceAVG|seatsAVG|takeOffs|distance|seatsAll|   time|\n",
      "+----+-----+-------+--------------------+--------------+-----+-----------+--------+--------+--------+--------+--------+-------+\n",
      "|2020|   10|    GLO|GOL LINHAS AÉREAS...|      SALVADOR|   BA|       SBSV|  537.64|     241|       1|     468|     186|1.16667|\n",
      "|2020|   11|    TAM|TAM LINHAS AÉREAS...|RIO DE JANEIRO|   RJ|       SBGL|  692.92|     157|       1|    1678|     214|3.66667|\n",
      "|2020|   10|    TAM|TAM LINHAS AÉREAS...|     GUARULHOS|   SP|       SBGR|  625.82|    4580|      79|  151680|   14918|235.583|\n",
      "|2020|   11|    GLO|GOL LINHAS AÉREAS...|RIO DE JANEIRO|   RJ|       SBGL|  441.24|    3372|      30|   50340|    5499|83.6167|\n",
      "|2020|   10|    GLO|GOL LINHAS AÉREAS...|RIO DE JANEIRO|   RJ|       SBGL|  712.89|     941|      31|   52018|    5718|87.3333|\n",
      "|2020|   11|    TAM|TAM LINHAS AÉREAS...|      BRASÍLIA|   DF|       SBBR|   525.8|    2713|      47|   70171|    9200|111.583|\n",
      "|2020|   11|    AZU|AZUL LINHAS AÉREA...|      CAMPINAS|   SP|       SBKP|   663.1|     880|      29|   55854|    4882|   85.5|\n",
      "|2020|   11|    AZU|AZUL LINHAS AÉREA...|      CAMPINAS|   SP|       SBKP|   663.1|     880|      26|   50076|    4497|   75.4|\n",
      "|2020|   10|    GLO|GOL LINHAS AÉREAS...|RIO DE JANEIRO|   RJ|       SBRJ|  594.81|     270|       1|    1684|       0|2.73333|\n",
      "|2020|   11|    GLO|GOL LINHAS AÉREAS...|      BRASÍLIA|   DF|       SBBR|  385.45|    2816|      26|   38818|    4862|64.2667|\n",
      "+----+-----+-------+--------------------+--------------+-----+-----------+--------+--------+--------+--------+--------+-------+\n",
      "\n"
     ]
    }
   ],
   "source": [
    "curated2020.limit(10).show()"
   ]
  },
  {
   "cell_type": "code",
   "execution_count": 269,
   "id": "6072f2bc",
   "metadata": {},
   "outputs": [
    {
     "name": "stdout",
     "output_type": "stream",
     "text": [
      "+----+-----+-------+-----------+----+-----+-----------+--------+--------+--------+--------+--------+----+\n",
      "|year|month|company|companyName|city|state|destination|priceAVG|seatsAVG|takeOffs|distance|seatsAll|time|\n",
      "+----+-----+-------+-----------+----+-----+-----------+--------+--------+--------+--------+--------+----+\n",
      "+----+-----+-------+-----------+----+-----+-----------+--------+--------+--------+--------+--------+----+\n",
      "\n"
     ]
    }
   ],
   "source": [
    "curated2020.where(curated2020.city.isNull()).show()"
   ]
  },
  {
   "cell_type": "markdown",
   "id": "b55cbfa5",
   "metadata": {},
   "source": [
    "### 2021"
   ]
  },
  {
   "cell_type": "code",
   "execution_count": 270,
   "id": "5b6eeab7",
   "metadata": {},
   "outputs": [],
   "source": [
    "avgPrice2021 = spark.sql(\"\"\"\n",
    "        SELECT\n",
    "        year, month, company, origin, destination, \n",
    "        ROUND((SUM(price*seats)/SUM(seats)), 2) AS priceAVG, SUM(seats) AS seats\n",
    "        FROM\n",
    "        2021View    \n",
    "        GROUP BY year, month, company, origin, destination\n",
    "        ORDER BY month\n",
    "\"\"\")"
   ]
  },
  {
   "cell_type": "code",
   "execution_count": 271,
   "id": "88979592",
   "metadata": {},
   "outputs": [],
   "source": [
    "avgPrice2021.createOrReplaceTempView(\"avgPrice2021View\")"
   ]
  },
  {
   "cell_type": "code",
   "execution_count": 272,
   "id": "33a50a5e",
   "metadata": {},
   "outputs": [],
   "source": [
    "data2021 = spark.sql(\"\"\"\n",
    "        SELECT\n",
    "        A.year, A.month, A.company, B.companyName, C.city,\n",
    "        C.state, A.destination, A.priceAVG, A.seats AS seatsAVG, \n",
    "        B.takeOffs, B.distance, B.seats AS seatsAll,\n",
    "        B.time\n",
    "        FROM\n",
    "        avgPrice2021View A\n",
    "        LEFT JOIN\n",
    "        (SELECT * FROM estatisticosView WHERE year == 2021) B\n",
    "        ON A.month = B.month AND A.company = B.company AND A.destination == B.destination\n",
    "        LEFT JOIN\n",
    "        icaoView C\n",
    "        ON A.destination = C.icao\n",
    "        \"\"\")"
   ]
  },
  {
   "cell_type": "code",
   "execution_count": 273,
   "id": "a4f5eda9",
   "metadata": {},
   "outputs": [],
   "source": [
    "data2021 = data2021.where(data2021.time.isNotNull())"
   ]
  },
  {
   "cell_type": "code",
   "execution_count": 274,
   "id": "60154d57",
   "metadata": {},
   "outputs": [
    {
     "name": "stdout",
     "output_type": "stream",
     "text": [
      "+----+-----+-------+--------------------+------------+-----+-----------+--------+--------+--------+--------+--------+-------+\n",
      "|year|month|company|         companyName|        city|state|destination|priceAVG|seatsAVG|takeOffs|distance|seatsAll|   time|\n",
      "+----+-----+-------+--------------------+------------+-----+-----------+--------+--------+--------+--------+--------+-------+\n",
      "|2021|   11|    TAM|TAM LINHAS AÉREAS...|   FORTALEZA|   CE|       SBFZ|  415.28|     807|      21|   14826|    4392|28.7667|\n",
      "|2021|   11|    TAM|TAM LINHAS AÉREAS...|   FORTALEZA|   CE|       SBFZ|  415.28|     807|       1|     706|     216|    1.3|\n",
      "|2021|   11|    AZU|AZUL LINHAS AÉREA...|PORTO ALEGRE|   RS|       SBPA|  715.74|     861|       4|   11128|     575|   16.8|\n",
      "|2021|   11|    AZU|AZUL LINHAS AÉREA...|     CONFINS|   MG|       SBCF|  747.05|     596|       4|    5708|     472|9.08333|\n",
      "|2021|   11|    AZU|AZUL LINHAS AÉREA...|     CONFINS|   MG|       SBCF|  747.05|     596|       3|    4281|     354|   6.85|\n",
      "+----+-----+-------+--------------------+------------+-----+-----------+--------+--------+--------+--------+--------+-------+\n",
      "\n"
     ]
    }
   ],
   "source": [
    "data2021.limit(5).show()"
   ]
  },
  {
   "cell_type": "code",
   "execution_count": 275,
   "id": "ef8824f4",
   "metadata": {},
   "outputs": [
    {
     "data": {
      "text/plain": [
       "234"
      ]
     },
     "execution_count": 275,
     "metadata": {},
     "output_type": "execute_result"
    }
   ],
   "source": [
    "data2021.count()"
   ]
  },
  {
   "cell_type": "code",
   "execution_count": 276,
   "id": "b64c7e10",
   "metadata": {},
   "outputs": [],
   "source": [
    "pathData2021 = \"/home/danilojpfreitas/Documentos/Data Engineer/Projeto/DataPipeline-TarifasAereas/data/curated/data/2021\""
   ]
  },
  {
   "cell_type": "code",
   "execution_count": 277,
   "id": "ba5e2b63",
   "metadata": {},
   "outputs": [],
   "source": [
    "data2021.write.option(\"header\",True).option(\"delimiter\", \",\").mode(\"overwrite\").csv(pathData2021)"
   ]
  },
  {
   "cell_type": "code",
   "execution_count": 278,
   "id": "9943d56b",
   "metadata": {},
   "outputs": [],
   "source": [
    "curated2021 = spark.read.csv(pathData2021, sep=',', header=True) "
   ]
  },
  {
   "cell_type": "code",
   "execution_count": 279,
   "id": "5a2adabd",
   "metadata": {},
   "outputs": [
    {
     "name": "stdout",
     "output_type": "stream",
     "text": [
      "+----+-----+-------+--------------------+--------------------+-----+-----------+--------+--------+--------+--------+--------+-------+\n",
      "|year|month|company|         companyName|                city|state|destination|priceAVG|seatsAVG|takeOffs|distance|seatsAll|   time|\n",
      "+----+-----+-------+--------------------+--------------------+-----+-----------+--------+--------+--------+--------+--------+-------+\n",
      "|2021|   11|    TAM|TAM LINHAS AÉREAS...|           FORTALEZA|   CE|       SBFZ|  415.28|     807|      21|   14826|    4392|28.7667|\n",
      "|2021|   11|    TAM|TAM LINHAS AÉREAS...|           FORTALEZA|   CE|       SBFZ|  415.28|     807|       1|     706|     216|    1.3|\n",
      "|2021|   11|    AZU|AZUL LINHAS AÉREA...|        PORTO ALEGRE|   RS|       SBPA|  715.74|     861|       4|   11128|     575|   16.8|\n",
      "|2021|   11|    AZU|AZUL LINHAS AÉREA...|             CONFINS|   MG|       SBCF|  747.05|     596|       4|    5708|     472|9.08333|\n",
      "|2021|   11|    AZU|AZUL LINHAS AÉREA...|             CONFINS|   MG|       SBCF|  747.05|     596|       3|    4281|     354|   6.85|\n",
      "|2021|   10|    AZU|AZUL LINHAS AÉREA...|      RIBEIRÃO PRETO|   SP|       SBRP| 1016.52|     182|      10|   18210|    1740|27.4833|\n",
      "|2021|   11|    TAM|TAM LINHAS AÉREAS...|             CONFINS|   MG|       SBCF|  751.01|     555|       4|    5708|     880|   9.35|\n",
      "|2021|   10|    AZU|AZUL LINHAS AÉREA...|SÃO JOSÉ DO RIO P...|   SP|       SBSR|  981.48|     139|      10|   19250|    1740|   28.8|\n",
      "|2021|   10|    AZU|AZUL LINHAS AÉREA...| PRESIDENTE PRUDENTE|   SP|       SBDN|   846.7|      95|       5|   10910|     870|16.4333|\n",
      "|2021|   10|    TAM|TAM LINHAS AÉREAS...|           SÃO PAULO|   SP|       SBSP|  931.09|     837|      15|   29220|    2526|44.1833|\n",
      "+----+-----+-------+--------------------+--------------------+-----+-----------+--------+--------+--------+--------+--------+-------+\n",
      "\n"
     ]
    }
   ],
   "source": [
    "curated2021.limit(10).show()"
   ]
  },
  {
   "cell_type": "code",
   "execution_count": 280,
   "id": "5e6c06bd",
   "metadata": {},
   "outputs": [
    {
     "name": "stdout",
     "output_type": "stream",
     "text": [
      "+----+-----+-------+-----------+----+-----+-----------+--------+--------+--------+--------+--------+----+\n",
      "|year|month|company|companyName|city|state|destination|priceAVG|seatsAVG|takeOffs|distance|seatsAll|time|\n",
      "+----+-----+-------+-----------+----+-----+-----------+--------+--------+--------+--------+--------+----+\n",
      "+----+-----+-------+-----------+----+-----+-----------+--------+--------+--------+--------+--------+----+\n",
      "\n"
     ]
    }
   ],
   "source": [
    "curated2021.where(curated2021.city.isNull()).show()"
   ]
  },
  {
   "cell_type": "markdown",
   "id": "ce3a9f91",
   "metadata": {},
   "source": [
    "### 2022"
   ]
  },
  {
   "cell_type": "code",
   "execution_count": 318,
   "id": "6d2e9b69",
   "metadata": {},
   "outputs": [],
   "source": [
    "avgPrice2022 = spark.sql(\"\"\"\n",
    "        SELECT\n",
    "        year, month, company, origin, destination, \n",
    "        ROUND((SUM(price*seats)/SUM(seats)), 2) AS priceAVG, SUM(seats) AS seats\n",
    "        FROM\n",
    "        2022View    \n",
    "        GROUP BY year, month, company, origin, destination\n",
    "        ORDER BY month\n",
    "\"\"\")"
   ]
  },
  {
   "cell_type": "code",
   "execution_count": 319,
   "id": "7034e6f7",
   "metadata": {},
   "outputs": [
    {
     "name": "stdout",
     "output_type": "stream",
     "text": [
      "+----+-----+-------+------+-----------+--------+-----+\n",
      "|year|month|company|origin|destination|priceAVG|seats|\n",
      "+----+-----+-------+------+-----------+--------+-----+\n",
      "|2022|    1|    GLO|  SBMO|       SBGL|  652.75| 2769|\n",
      "|2022|    1|    GLO|  SBMO|       SBNF| 1932.81|   22|\n",
      "|2022|    1|    TAM|  SBMO|       SBCH|  539.67|    6|\n",
      "|2022|    1|    GLO|  SBMO|       SBFZ|  1837.4|    6|\n",
      "|2022|    1|    AZU|  SBMO|       SBNF|  927.15|   19|\n",
      "|2022|    1|    GLO|  SBMO|       SBCH| 1500.04|   17|\n",
      "|2022|    1|    GLO|  SBMO|       SBTE|  2259.0|    3|\n",
      "|2022|    1|    AZU|  SBMO|       SBPA|  711.43|  420|\n",
      "|2022|    1|    AZU|  SBMO|       SBPJ|  633.31|   42|\n",
      "|2022|    1|    AZU|  SBMO|       SBFZ|  414.43|   36|\n",
      "|2022|    1|    TAM|  SBMO|       SBCY| 1000.91|  157|\n",
      "|2022|    1|    AZU|  SBMO|       SBCG|  819.33|   95|\n",
      "|2022|    1|    GLO|  SBMO|       SBJP|  1973.4|    2|\n",
      "|2022|    1|    GLO|  SBMO|       SBEG| 1216.19|   26|\n",
      "|2022|    1|    AZU|  SBMO|       SBAR|  1775.4|    2|\n",
      "|2022|    1|    GLO|  SBMO|       SBPJ| 2233.07|   13|\n",
      "|2022|    1|    AZU|  SBMO|       SBKP|  704.55|  701|\n",
      "|2022|    1|    AZU|  SBMO|       SBMS| 1595.58|    6|\n",
      "|2022|    1|    AZU|  SBMO|       SBRJ|  633.48|  292|\n",
      "|2022|    1|    GLO|  SBMO|       SBLO| 1410.24|   12|\n",
      "+----+-----+-------+------+-----------+--------+-----+\n",
      "only showing top 20 rows\n",
      "\n"
     ]
    }
   ],
   "source": [
    "avgPrice2022.show()"
   ]
  },
  {
   "cell_type": "code",
   "execution_count": 320,
   "id": "ad12ce41",
   "metadata": {},
   "outputs": [],
   "source": [
    "avgPrice2022.createOrReplaceTempView(\"avgPrice2022View\")"
   ]
  },
  {
   "cell_type": "code",
   "execution_count": 321,
   "id": "b84b86d3",
   "metadata": {},
   "outputs": [],
   "source": [
    "data2022 = spark.sql(\"\"\"\n",
    "        SELECT\n",
    "        A.year, A.month, A.company, B.companyName, C.city,\n",
    "        C.state, A.destination, A.priceAVG, A.seats AS seatsAVG, \n",
    "        B.takeOffs, B.distance, B.seats AS seatsAll,\n",
    "        B.time\n",
    "        FROM\n",
    "        avgPrice2022View A\n",
    "        LEFT JOIN\n",
    "        (SELECT * FROM estatisticosView WHERE year == 2022) B\n",
    "        ON A.month = B.month AND A.company = B.company AND A.destination == B.destination\n",
    "        LEFT JOIN\n",
    "        icaoView C\n",
    "        ON A.destination = C.icao\n",
    "        \"\"\")"
   ]
  },
  {
   "cell_type": "code",
   "execution_count": 322,
   "id": "d0d2104b",
   "metadata": {},
   "outputs": [],
   "source": [
    "data2022 = data2022.where(data2022.time.isNotNull())"
   ]
  },
  {
   "cell_type": "code",
   "execution_count": 323,
   "id": "9112ff51",
   "metadata": {},
   "outputs": [
    {
     "name": "stdout",
     "output_type": "stream",
     "text": [
      "+----+-----+-------+--------------------+--------------+-----+-----------+--------+--------+--------+--------+--------+-------+\n",
      "|year|month|company|         companyName|          city|state|destination|priceAVG|seatsAVG|takeOffs|distance|seatsAll|   time|\n",
      "+----+-----+-------+--------------------+--------------+-----+-----------+--------+--------+--------+--------+--------+-------+\n",
      "|2022|   12|    GLO|GOL LINHAS AÉREAS...|    UBERLÂNDIA|   MG|       SBUL|   683.6|     248|       4|    6784|     696|   10.9|\n",
      "|2022|   12|    GLO|GOL LINHAS AÉREAS...|      SALVADOR|   BA|       SBSV|  590.95|     433|      31|   14508|    5646|36.3167|\n",
      "|2022|   10|    AZU|AZUL LINHAS AÉREA...|RIBEIRÃO PRETO|   SP|       SBRP| 1188.26|     165|      10|   18210|    1731|27.6667|\n",
      "|2022|   10|    AZU|AZUL LINHAS AÉREA...|    UBERLÂNDIA|   MG|       SBUL|  1004.7|     141|       5|    8480|     861|12.9167|\n",
      "|2022|   12|    AZU|AZUL LINHAS AÉREA...|      CAMPINAS|   SP|       SBKP| 1101.02|     480|      43|   82818|    7235|128.217|\n",
      "+----+-----+-------+--------------------+--------------+-----+-----------+--------+--------+--------+--------+--------+-------+\n",
      "\n"
     ]
    }
   ],
   "source": [
    "data2022.limit(5).show()"
   ]
  },
  {
   "cell_type": "code",
   "execution_count": 324,
   "id": "c016bc18",
   "metadata": {},
   "outputs": [
    {
     "data": {
      "text/plain": [
       "361"
      ]
     },
     "execution_count": 324,
     "metadata": {},
     "output_type": "execute_result"
    }
   ],
   "source": [
    "data2022.count()"
   ]
  },
  {
   "cell_type": "code",
   "execution_count": 325,
   "id": "ede52e42",
   "metadata": {},
   "outputs": [],
   "source": [
    "pathData2022 = \"/home/danilojpfreitas/Documentos/Data Engineer/Projeto/DataPipeline-TarifasAereas/data/curated/data/2022\""
   ]
  },
  {
   "cell_type": "code",
   "execution_count": 326,
   "id": "4f112f2f",
   "metadata": {},
   "outputs": [],
   "source": [
    "data2022.write.option(\"header\",True).option(\"delimiter\", \",\").mode(\"overwrite\").csv(pathData2022)"
   ]
  },
  {
   "cell_type": "code",
   "execution_count": 327,
   "id": "6c3a4aff",
   "metadata": {},
   "outputs": [],
   "source": [
    "curated2022 = spark.read.csv(pathData2022, sep=',', header=True) "
   ]
  },
  {
   "cell_type": "code",
   "execution_count": 328,
   "id": "8abb70c5",
   "metadata": {},
   "outputs": [
    {
     "name": "stdout",
     "output_type": "stream",
     "text": [
      "+----+-----+-------+--------------------+--------------+-----+-----------+--------+--------+--------+--------+--------+-------+\n",
      "|year|month|company|         companyName|          city|state|destination|priceAVG|seatsAVG|takeOffs|distance|seatsAll|   time|\n",
      "+----+-----+-------+--------------------+--------------+-----+-----------+--------+--------+--------+--------+--------+-------+\n",
      "|2022|   12|    GLO|GOL LINHAS AÉREAS...|    UBERLÂNDIA|   MG|       SBUL|   683.6|     248|       4|    6784|     696|   10.9|\n",
      "|2022|   12|    GLO|GOL LINHAS AÉREAS...|      SALVADOR|   BA|       SBSV|  590.95|     433|      31|   14508|    5646|36.3167|\n",
      "|2022|   10|    AZU|AZUL LINHAS AÉREA...|RIBEIRÃO PRETO|   SP|       SBRP| 1188.26|     165|      10|   18210|    1731|27.6667|\n",
      "|2022|   10|    AZU|AZUL LINHAS AÉREA...|    UBERLÂNDIA|   MG|       SBUL|  1004.7|     141|       5|    8480|     861|12.9167|\n",
      "|2022|   12|    AZU|AZUL LINHAS AÉREA...|      CAMPINAS|   SP|       SBKP| 1101.02|     480|      43|   82818|    7235|128.217|\n",
      "|2022|   12|    AZU|AZUL LINHAS AÉREA...|      CAMPINAS|   SP|       SBKP| 1101.02|     480|       1|    1926|     162|      3|\n",
      "|2022|   12|    AZU|AZUL LINHAS AÉREA...|      CAMPINAS|   SP|       SBKP| 1101.02|     480|       1|    1926|       0|   2.95|\n",
      "|2022|    1|    AZU|AZUL LINHAS AÉREA...|  PORTO ALEGRE|   RS|       SBPA|  711.43|     420|       5|   13910|     590|19.4333|\n",
      "|2022|    1|    AZU|AZUL LINHAS AÉREA...|  PORTO ALEGRE|   RS|       SBPA|  711.43|     420|       2|    5564|     348|    7.7|\n",
      "|2022|   10|    TAM|TAM LINHAS AÉREAS...|     GUARULHOS|   SP|       SBGR|  848.29|    4589|     102|  195840|   20746| 302.65|\n",
      "+----+-----+-------+--------------------+--------------+-----+-----------+--------+--------+--------+--------+--------+-------+\n",
      "\n"
     ]
    }
   ],
   "source": [
    "curated2022.limit(10).show()"
   ]
  },
  {
   "cell_type": "code",
   "execution_count": 329,
   "id": "75511b25",
   "metadata": {},
   "outputs": [
    {
     "name": "stdout",
     "output_type": "stream",
     "text": [
      "+----+-----+-------+-----------+----+-----+-----------+--------+--------+--------+--------+--------+----+\n",
      "|year|month|company|companyName|city|state|destination|priceAVG|seatsAVG|takeOffs|distance|seatsAll|time|\n",
      "+----+-----+-------+-----------+----+-----+-----------+--------+--------+--------+--------+--------+----+\n",
      "+----+-----+-------+-----------+----+-----+-----------+--------+--------+--------+--------+--------+----+\n",
      "\n"
     ]
    }
   ],
   "source": [
    "curated2022.where(curated2022.city.isNull()).show()"
   ]
  }
 ],
 "metadata": {
  "kernelspec": {
   "display_name": "Python 3 (ipykernel)",
   "language": "python",
   "name": "python3"
  },
  "language_info": {
   "codemirror_mode": {
    "name": "ipython",
    "version": 3
   },
   "file_extension": ".py",
   "mimetype": "text/x-python",
   "name": "python",
   "nbconvert_exporter": "python",
   "pygments_lexer": "ipython3",
   "version": "3.10.9"
  }
 },
 "nbformat": 4,
 "nbformat_minor": 5
}
